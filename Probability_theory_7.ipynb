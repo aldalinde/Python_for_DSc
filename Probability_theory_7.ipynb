{
 "cells": [
  {
   "cell_type": "code",
   "execution_count": 1,
   "metadata": {},
   "outputs": [],
   "source": [
    "import numpy as np"
   ]
  },
  {
   "cell_type": "markdown",
   "metadata": {},
   "source": [
    "Задание 1. Даны значения величины заработной платы заемщиков банка (zp)\n",
    "\n",
    "и значения их поведенческого кредитного скоринга (ks):"
   ]
  },
  {
   "cell_type": "code",
   "execution_count": 2,
   "metadata": {},
   "outputs": [],
   "source": [
    "zp = np.array([35, 45, 190, 200, 40, 70, 54, 150, 120, 110])\n",
    "ks = np.array([401, 574, 874, 919, 459, 739, 653, 902, 746, 832])"
   ]
  },
  {
   "cell_type": "code",
   "execution_count": 3,
   "metadata": {},
   "outputs": [
    {
     "data": {
      "text/plain": [
       "array([ 1225,  2025, 36100, 40000,  1600,  4900,  2916, 22500, 14400,\n",
       "       12100], dtype=int32)"
      ]
     },
     "execution_count": 3,
     "metadata": {},
     "output_type": "execute_result"
    }
   ],
   "source": [
    "zp**2"
   ]
  },
  {
   "cell_type": "markdown",
   "metadata": {},
   "source": [
    "Используя математические операции, посчитать коэффициенты линейной регрессии,\n",
    "\n",
    "приняв за X заработную плату (то есть, zp - признак), а за y - значения\n",
    "скорингового балла (то есть, ks - целевая переменная).\n",
    "Произвести расчет как с использованием intercept, так и без."
   ]
  },
  {
   "cell_type": "code",
   "execution_count": 4,
   "metadata": {},
   "outputs": [
    {
     "name": "stdout",
     "output_type": "stream",
     "text": [
      "2.620538882402765\n"
     ]
    }
   ],
   "source": [
    "beta_1 = (np.mean(zp*ks) - (np.mean(zp) * np.mean(ks))) / (np.mean(zp**2)- np.mean(zp)**2)\n",
    "print(beta_1)"
   ]
  },
  {
   "cell_type": "code",
   "execution_count": 5,
   "metadata": {},
   "outputs": [
    {
     "name": "stdout",
     "output_type": "stream",
     "text": [
      "444.1773573243596\n"
     ]
    }
   ],
   "source": [
    "beta_0 = np.mean(ks) - (beta_1 * np.mean(zp))\n",
    "print(beta_0)"
   ]
  },
  {
   "cell_type": "code",
   "execution_count": 6,
   "metadata": {},
   "outputs": [
    {
     "name": "stdout",
     "output_type": "stream",
     "text": [
      "[535.89621821 562.10160703 942.07974498 968.2851338  548.99891262\n",
      " 627.61507909 585.68645697 837.25818968 758.64202321 732.43663439]\n"
     ]
    }
   ],
   "source": [
    "#checking ks values predicted by linear regression model\n",
    "ks_hat = beta_0 + (beta_1*zp)\n",
    "print(ks_hat)"
   ]
  },
  {
   "cell_type": "code",
   "execution_count": 7,
   "metadata": {},
   "outputs": [
    {
     "name": "stdout",
     "output_type": "stream",
     "text": [
      "beta1 coefficient =  444.1773573243595\n",
      "beta0 coefficient =  2.620538882402766\n"
     ]
    }
   ],
   "source": [
    "x = np.array([zp])\n",
    "x = np.hstack([np.ones((10,1)),x.T])\n",
    "b = np.dot(np.linalg.inv(np.dot(x.T, x)), x.T@ks)\n",
    "print(\"beta1 coefficient = \", b[0],)\n",
    "print(\"beta0 coefficient = \", b[1])"
   ]
  },
  {
   "cell_type": "code",
   "execution_count": 8,
   "metadata": {},
   "outputs": [],
   "source": [
    "def mean_sq_err(beta1, y=ks, x=zp):\n",
    "    return np.sum(((beta1 * x) - y)**2) / np.size(x)"
   ]
  },
  {
   "cell_type": "markdown",
   "metadata": {},
   "source": [
    "Задание 2. Посчитать коэффициент линейной регрессии при заработной плате (zp), используя градиентный спуск (без intercept)"
   ]
  },
  {
   "cell_type": "code",
   "execution_count": 9,
   "metadata": {},
   "outputs": [],
   "source": [
    "def deriv_mse(bet1_esteem=0.1, num_iterations= 100, iterat_step=1e-4, observ_num=np.size(x), x=zp, y=ks):\n",
    "    for i in range(num_iterations):\n",
    "        bet1_esteem -= iterat_step * (2/observ_num)* np.sum((bet1_esteem *x - y)*x)\n",
    "        if i%(num_iterations/20)==0:\n",
    "            print(f\"iteration #{i}, beta1 = {bet1_esteem}, mse = {mean_sq_err(bet1_esteem)}\" )"
   ]
  },
  {
   "cell_type": "code",
   "execution_count": 10,
   "metadata": {},
   "outputs": [
    {
     "name": "stdout",
     "output_type": "stream",
     "text": [
      "iteration #0, beta1 = 8.076404, mse = 122384.81853241434\n",
      "iteration #5, beta1 = 5.873021899912591, mse = 56520.74603835268\n",
      "iteration #10, beta1 = 5.889949475470058, mse = 56516.858645172535\n",
      "iteration #15, beta1 = 5.889819428659637, mse = 56516.85841573294\n",
      "iteration #20, beta1 = 5.889820427749722, mse = 56516.85841571941\n",
      "iteration #25, beta1 = 5.88982042007417, mse = 56516.8584157194\n",
      "iteration #30, beta1 = 5.889820420133138, mse = 56516.8584157194\n",
      "iteration #35, beta1 = 5.889820420132685, mse = 56516.8584157194\n",
      "iteration #40, beta1 = 5.889820420132689, mse = 56516.85841571941\n",
      "iteration #45, beta1 = 5.889820420132689, mse = 56516.85841571941\n",
      "iteration #50, beta1 = 5.889820420132689, mse = 56516.85841571941\n",
      "iteration #55, beta1 = 5.889820420132689, mse = 56516.85841571941\n",
      "iteration #60, beta1 = 5.889820420132689, mse = 56516.85841571941\n",
      "iteration #65, beta1 = 5.889820420132689, mse = 56516.85841571941\n",
      "iteration #70, beta1 = 5.889820420132689, mse = 56516.85841571941\n",
      "iteration #75, beta1 = 5.889820420132689, mse = 56516.85841571941\n",
      "iteration #80, beta1 = 5.889820420132689, mse = 56516.85841571941\n",
      "iteration #85, beta1 = 5.889820420132689, mse = 56516.85841571941\n",
      "iteration #90, beta1 = 5.889820420132689, mse = 56516.85841571941\n",
      "iteration #95, beta1 = 5.889820420132689, mse = 56516.85841571941\n"
     ]
    }
   ],
   "source": [
    "deriv_mse()"
   ]
  },
  {
   "cell_type": "markdown",
   "metadata": {},
   "source": [
    "Задание 3. В каких случаях для вычисления доверительных интервалов и проверки статистических гипотез используется таблица значений функции Лапласа, а в каких - таблица критических точек распределения Стьюдента?"
   ]
  },
  {
   "cell_type": "markdown",
   "metadata": {},
   "source": [
    "В случае, если есть данные о характеристиках (дисперсия, среднеквадратичное отклонение) генеральной совокупности - используется таблица значений функции Лапласа, а в случае, если о генеральной совокупности данных нет, а только данные выборки, то используется таблица критических точек распределения Стьюдента. "
   ]
  },
  {
   "cell_type": "markdown",
   "metadata": {},
   "source": [
    "Задание 4. Произвести вычисления как в пункте 2, но с вычислением intercept. \n",
    "\n",
    "Учесть, что изменение коэффициентов должно производиться на каждом шаге одновременно\n",
    "\n",
    "(то есть изменение одного коэффициента не должно влиять на изменение другого во время одной итерации)."
   ]
  },
  {
   "cell_type": "code",
   "execution_count": null,
   "metadata": {},
   "outputs": [],
   "source": []
  }
 ],
 "metadata": {
  "kernelspec": {
   "display_name": "Python 3",
   "language": "python",
   "name": "python3"
  },
  "language_info": {
   "codemirror_mode": {
    "name": "ipython",
    "version": 3
   },
   "file_extension": ".py",
   "mimetype": "text/x-python",
   "name": "python",
   "nbconvert_exporter": "python",
   "pygments_lexer": "ipython3",
   "version": "3.7.2"
  }
 },
 "nbformat": 4,
 "nbformat_minor": 2
}
