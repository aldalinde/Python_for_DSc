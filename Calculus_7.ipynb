{
 "cells": [
  {
   "cell_type": "markdown",
   "metadata": {},
   "source": [
    " Найти производную функции:"
   ]
  },
  {
   "cell_type": "markdown",
   "metadata": {},
   "source": [
    "1)\n",
    "$$ y =  \\frac{1}{x} + \\frac{2}{x^2} - \\frac{5}{x^3} + \\sqrt{x} - \\sqrt[3]{x} + \\frac{3}{x} $$"
   ]
  },
  {
   "cell_type": "markdown",
   "metadata": {},
   "source": [
    "$$ y' =  -1  - 4x^{-3}+ 15x^{-4} + \\frac{1}{2}x^{\\frac{-1}{2}} - \\frac{1}{3}x^{\\frac{-1}{3}} + 3x^{-2} $$"
   ]
  },
  {
   "cell_type": "markdown",
   "metadata": {},
   "source": [
    "2)\n",
    "$$ y = x \\cdot \\sqrt{1 + x^2} $$ "
   ]
  },
  {
   "cell_type": "markdown",
   "metadata": {},
   "source": [
    "$$ y' = (x)' \\cdot \\sqrt{1+x^2} + (\\sqrt{1+x^2})' \\cdot x = \\sqrt{1+x^2} + x \\cdot \\frac{1}{2} (1+x^2)^{\\frac{-1}{2}} \\cdot (1+x^2)'$$"
   ]
  },
  {
   "cell_type": "markdown",
   "metadata": {},
   "source": [
    "$$ y' = \\sqrt{1+x^2} + x^2 (1+x^2)^{\\frac{-1}{2}} = \\sqrt{1+x^2}+\\frac{x^2}{\\sqrt{1+x^2}} = \\frac{x^2+1+x^2}{\\sqrt{1+x^2}} = \\frac{2x^2+1}{\\sqrt{1+x^2}}$$"
   ]
  },
  {
   "cell_type": "markdown",
   "metadata": {},
   "source": [
    "3)\n",
    "$$ y = \\sqrt {x + \\sqrt{x}} $$ "
   ]
  },
  {
   "cell_type": "markdown",
   "metadata": {},
   "source": [
    "$$ y' = \\frac{1}{2(x + \\sqrt x)} \\cdot (1 + \\frac{1}{2\\sqrt x}) =  \\frac{1}{2(x + \\sqrt x)} + \\frac{1}{4\\sqrt x(x + \\sqrt x)} = \\frac{2\\sqrt x + 1}{4\\sqrt x(x + \\sqrt x)}$$"
   ]
  },
  {
   "cell_type": "markdown",
   "metadata": {},
   "source": [
    "*4)\n",
    "$$ y = \\sqrt {x + \\sqrt{x + \\sqrt{x}}} $$ "
   ]
  },
  {
   "cell_type": "markdown",
   "metadata": {},
   "source": [
    "5)\n",
    "$$ y = (x^2 +2)^5 \\cdot (3x - x^3)^3 $$"
   ]
  },
  {
   "cell_type": "markdown",
   "metadata": {},
   "source": [
    "$$ y' = 5(x^2 +2)^4 \\cdot 2x \\cdot (3x - x^3)^3 + 3(3x-x^3)^2 \\cdot (3 - 3x^2) \\cdot (x^2 + 2)^5$$"
   ]
  },
  {
   "cell_type": "markdown",
   "metadata": {},
   "source": [
    "6)\n",
    "$$ y = (1+x) \\cdot (2-x)^2 \\cdot (x^2-3x)^3 \\cdot sinx $$"
   ]
  },
  {
   "cell_type": "markdown",
   "metadata": {},
   "source": [
    "$$ y' = ((1+x) \\cdot (2-x)^2 \\cdot (x^2-3x)^3 \\cdot sinx) \\cdot (\\frac{1}{(1+x)} + \\frac{2}{(2-x)} + \\frac{3(2x-3)}{(x^2-3x)} + cos x )$$"
   ]
  },
  {
   "cell_type": "markdown",
   "metadata": {},
   "source": [
    "7)\n",
    "$$ y = \\sqrt[x]{x} $$"
   ]
  },
  {
   "cell_type": "markdown",
   "metadata": {},
   "source": [
    "$$ y' =  \\sqrt[x]{x} \\cdot ln x $$"
   ]
  },
  {
   "cell_type": "markdown",
   "metadata": {},
   "source": [
    "8)\n",
    "$$ y = \\frac {2x}{1 - x^2} $$"
   ]
  },
  {
   "cell_type": "markdown",
   "metadata": {},
   "source": [
    "$$ y' = \\frac{(2-2x^2 + 2x)}{(1-x^2)^2} $$"
   ]
  },
  {
   "cell_type": "markdown",
   "metadata": {},
   "source": [
    "9)\n",
    "$$ y = \\frac{x}{(x+1) \\cdot (2 - 3x)} $$"
   ]
  },
  {
   "cell_type": "markdown",
   "metadata": {},
   "source": [
    "$$ y'= \\frac{(x+1) \\cdot (2 - 3x) + (1 + 6x)}{(2 - x - 3x^2)^2} $$"
   ]
  },
  {
   "cell_type": "markdown",
   "metadata": {},
   "source": [
    "10)\n",
    "$$ y= \\frac{(2-x^2)^3 \\cdot (x-1)^2}{(2x^3 - 3x) \\cdot e^x} $$"
   ]
  },
  {
   "cell_type": "markdown",
   "metadata": {},
   "source": [
    "$$ y'= (\\frac{(2-x^2)^3 \\cdot (x-1)^2}{(2x^3 - 3x) \\cdot e^x}) \\cdot (\\frac{-6x}{(2-x^2)} +  \\frac{2}{(x-1)} - \\frac{6x^2-3}{(2x^3-3x)} - e^x)$$"
   ]
  },
  {
   "cell_type": "markdown",
   "metadata": {},
   "source": [
    "11)\n",
    "$$ y = ln(x + \\sqrt{x^2 +1}) $$"
   ]
  },
  {
   "cell_type": "markdown",
   "metadata": {},
   "source": [
    "$$ y' = \\frac{1}{(x + \\sqrt(x^2+1)) }\\cdot (1 + \\frac{1}{2\\sqrt(x^2+1)}) \\cdot 2x $$"
   ]
  },
  {
   "cell_type": "markdown",
   "metadata": {},
   "source": [
    "12)\n",
    "$$ y = x \\cdot ln(x + \\sqrt{x^2+1}) - \\sqrt{x^2+1} $$"
   ]
  },
  {
   "cell_type": "markdown",
   "metadata": {},
   "source": [
    "$$ y' = (x \\cdot ln(x + \\sqrt{x^2+1}))' - \\frac{2x}{2 \\sqrt{}x^2+1} = ln(x + \\sqrt{x^2+1}) + x(\\frac{(x + \\sqrt{x^2+1})'}{x + \\sqrt{x^2+1}})  - \\frac{x}{\\sqrt{}x^2+1} $$"
   ]
  },
  {
   "cell_type": "markdown",
   "metadata": {},
   "source": [
    "$$ (x + \\sqrt{x^2+1})' = 1 + \\frac{x}{\\sqrt{x^2+1}} $$"
   ]
  },
  {
   "cell_type": "markdown",
   "metadata": {},
   "source": [
    "$$ y' = ln(x + \\sqrt{x^2+1}) + x(\\frac{1}{x + \\sqrt{x^2+1}})(1 + \\frac{x}{\\sqrt{x^2+1}})  - \\frac{x}{\\sqrt{}x^2+1} $$"
   ]
  },
  {
   "cell_type": "markdown",
   "metadata": {},
   "source": [
    "14)∗\n",
    "Найти длину 𝑥 и ширину 𝑦 прямоугольника при заданном периметре 𝑃 = 144 см, при которых данный\n",
    "прямоугольник имеет наибольшую площадь 𝑆."
   ]
  },
  {
   "cell_type": "markdown",
   "metadata": {},
   "source": [
    "y = 72 - x, s = y * x = (72-x)x\n",
    "$$ s = 72x - x^2 $$"
   ]
  },
  {
   "cell_type": "markdown",
   "metadata": {},
   "source": [
    "$$ s' = 72 - 2x $$"
   ]
  },
  {
   "cell_type": "code",
   "execution_count": 1,
   "metadata": {},
   "outputs": [
    {
     "name": "stdout",
     "output_type": "stream",
     "text": [
      "При периметре равном 144 см наибольшую площадь (1296 см кв) имеет квадрат со стороной = 36 см\n"
     ]
    }
   ],
   "source": [
    "# 0 = 72 - 2x => x = 36\n",
    "x = 36\n",
    "s_max = (72 - 36)*36\n",
    "print(f\"При периметре равном 144 см наибольшую площадь ({s_max} см кв) имеет квадрат со стороной = {x} см\")"
   ]
  },
  {
   "cell_type": "code",
   "execution_count": 2,
   "metadata": {},
   "outputs": [],
   "source": [
    "import numpy as np"
   ]
  },
  {
   "cell_type": "code",
   "execution_count": 3,
   "metadata": {},
   "outputs": [],
   "source": [
    "x = np.arange(0, 72, 0.5)\n",
    "y = 72 - x\n",
    "s = y*x"
   ]
  },
  {
   "cell_type": "code",
   "execution_count": 4,
   "metadata": {},
   "outputs": [],
   "source": [
    "import matplotlib.pyplot as plt"
   ]
  },
  {
   "cell_type": "code",
   "execution_count": 5,
   "metadata": {},
   "outputs": [
    {
     "data": {
      "text/plain": [
       "<function matplotlib.pyplot.show>"
      ]
     },
     "execution_count": 5,
     "metadata": {},
     "output_type": "execute_result"
    },
    {
     "data": {
      "image/png": "[encoded data removed]",
      "text/plain": [
       "<Figure size 432x288 with 1 Axes>"
      ]
     },
     "metadata": {
      "needs_background": "light"
     },
     "output_type": "display_data"
    }
   ],
   "source": [
    "plt.plot(x, s)\n",
    "plt.show"
   ]
  },
  {
   "cell_type": "code",
   "execution_count": 6,
   "metadata": {},
   "outputs": [
    {
     "data": {
      "text/plain": [
       "1296.0"
      ]
     },
     "execution_count": 6,
     "metadata": {},
     "output_type": "execute_result"
    }
   ],
   "source": [
    "s.max()"
   ]
  },
  {
   "cell_type": "code",
   "execution_count": 7,
   "metadata": {},
   "outputs": [],
   "source": [
    "s_max = s.max()\n",
    "s_max_ind = np.where(s == s_max)\n",
    "x_target = x[s_max_ind]"
   ]
  },
  {
   "cell_type": "code",
   "execution_count": 8,
   "metadata": {},
   "outputs": [
    {
     "data": {
      "text/plain": [
       "array([36.])"
      ]
     },
     "execution_count": 8,
     "metadata": {},
     "output_type": "execute_result"
    }
   ],
   "source": [
    "x_target"
   ]
  },
  {
   "cell_type": "code",
   "execution_count": 9,
   "metadata": {},
   "outputs": [
    {
     "data": {
      "text/plain": [
       "36.0"
      ]
     },
     "execution_count": 9,
     "metadata": {},
     "output_type": "execute_result"
    }
   ],
   "source": [
    "1296/36"
   ]
  },
  {
   "cell_type": "code",
   "execution_count": null,
   "metadata": {},
   "outputs": [],
   "source": []
  }
 ],
 "metadata": {
  "kernelspec": {
   "display_name": "Python 3",
   "language": "python",
   "name": "python3"
  },
  "language_info": {
   "codemirror_mode": {
    "name": "ipython",
    "version": 3
   },
   "file_extension": ".py",
   "mimetype": "text/x-python",
   "name": "python",
   "nbconvert_exporter": "python",
   "pygments_lexer": "ipython3",
   "version": "3.7.2"
  }
 },
 "nbformat": 4,
 "nbformat_minor": 2
}
