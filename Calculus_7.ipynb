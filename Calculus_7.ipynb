{
 "cells": [
  {
   "cell_type": "markdown",
   "metadata": {},
   "source": [
    " Найти производную функции:"
   ]
  },
  {
   "cell_type": "markdown",
   "metadata": {},
   "source": [
    "1)\n",
    "$$ y =  \\frac{1}{x} + \\frac{2}{x^2} - \\frac{5}{x^3} + \\sqrt{x} - \\sqrt[3]{x} + \\frac{3}{x} $$"
   ]
  },
  {
   "cell_type": "markdown",
   "metadata": {},
   "source": [
    "$$ y' =  -1  - 4x^{-3}+ 15x^{-4} + \\frac{1}{2}x^{\\frac{-1}{2}} - \\frac{1}{3}x^{\\frac{-1}{3}} + 3x^{-2} $$"
   ]
  },
  {
   "cell_type": "markdown",
   "metadata": {},
   "source": [
    "2)\n",
    "$$ y = x \\cdot \\sqrt{1 + x^2} $$ "
   ]
  },
  {
   "cell_type": "markdown",
   "metadata": {},
   "source": [
    "$$ y' = (x)' \\cdot \\sqrt{1+x^2} + (\\sqrt{1+x^2})' \\cdot x = \\sqrt{1+x^2} + x \\cdot \\frac{1}{2} (1+x^2)^{\\frac{-1}{2}} \\cdot (1+x^2)'$$"
   ]
  },
  {
   "cell_type": "markdown",
   "metadata": {},
   "source": [
    "$$ y' = \\sqrt{1+x^2} + x^2 (1+x^2)^{\\frac{-1}{2}} = \\sqrt{1+x^2}+\\frac{x^2}{\\sqrt{1+x^2}} = \\frac{x^2+1+x^2}{\\sqrt{1+x^2}} = \\frac{2x^2+1}{\\sqrt{1+x^2}}$$"
   ]
  },
  {
   "cell_type": "markdown",
   "metadata": {},
   "source": [
    "3)\n",
    "$$ y = \\sqrt {x + \\sqrt{x}} $$ "
   ]
  },
  {
   "cell_type": "markdown",
   "metadata": {},
   "source": [
    "$$ y' = \\frac{1}{2(x + \\sqrt x)} \\cdot (1 + \\frac{1}{2\\sqrt x}) =  \\frac{1}{2(x + \\sqrt x)} + \\frac{1}{4\\sqrt x(x + \\sqrt x)} = \\frac{2\\sqrt x + 1}{4\\sqrt x(x + \\sqrt x)}$$"
   ]
  },
  {
   "cell_type": "markdown",
   "metadata": {},
   "source": [
    "4)\n",
    "$$ y = \\sqrt {x + \\sqrt{x + \\sqrt{x}}} $$ "
   ]
  },
  {
   "cell_type": "markdown",
   "metadata": {},
   "source": [
    "5)\n",
    "$$ y = (x^2 +2)^5 \\cdot (3x - x^3)^3 $$"
   ]
  },
  {
   "cell_type": "markdown",
   "metadata": {},
   "source": [
    "$$ y' = (x^2 +2)^5 \\cdot (3x - x^3)^3 \\cdot (\\frac {5}{} $$"
   ]
  },
  {
   "cell_type": "code",
   "execution_count": null,
   "metadata": {},
   "outputs": [],
   "source": []
  }
 ],
 "metadata": {
  "kernelspec": {
   "display_name": "Python 3",
   "language": "python",
   "name": "python3"
  },
  "language_info": {
   "codemirror_mode": {
    "name": "ipython",
    "version": 3
   },
   "file_extension": ".py",
   "mimetype": "text/x-python",
   "name": "python",
   "nbconvert_exporter": "python",
   "pygments_lexer": "ipython3",
   "version": "3.7.2"
  }
 },
 "nbformat": 4,
 "nbformat_minor": 2
}
