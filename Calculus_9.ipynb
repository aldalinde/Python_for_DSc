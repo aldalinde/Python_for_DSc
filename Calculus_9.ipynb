{
 "cells": [
  {
   "cell_type": "markdown",
   "metadata": {},
   "source": [
    " Исследовать на условный экстремум:"
   ]
  },
  {
   "cell_type": "markdown",
   "metadata": {},
   "source": [
    "1.\n",
    "$$ 𝑈 = 3 − 8𝑥 + 6𝑦, если \\ 𝑥^2 + 𝑦^2 = 36 $$"
   ]
  },
  {
   "cell_type": "markdown",
   "metadata": {},
   "source": [
    "$$ L = (3 − 8𝑥 + 6𝑦)+ \\lambda_1 (𝑥^2 + 𝑦^2 - 36) $$"
   ]
  },
  {
   "cell_type": "markdown",
   "metadata": {},
   "source": [
    "$$ \\begin{cases} L'_x = -8 + \\lambda_1 \\cdot 2x = 0 \\\\ L'_y = 6 + \\lambda_1 \\cdot 2y = 0 \\\\ L'_{\\lambda_1} = (𝑥^2 + 𝑦^2 - 36) = 0 \\end{cases} $$"
   ]
  },
  {
   "cell_type": "markdown",
   "metadata": {},
   "source": [
    "$$ \\begin{cases} x = \\frac{-8}{2\\lambda_1} \\\\ y = \\frac{6}{2\\lambda_1} = 0 \\\\ \\frac{64}{4\\lambda_1^2} + \\frac{36}{4\\lambda_1^2} = 36 \\end{cases} $$"
   ]
  },
  {
   "cell_type": "markdown",
   "metadata": {},
   "source": [
    "$$ \\lambda_1 = \\pm \\frac{5}{6}  $$"
   ]
  },
  {
   "cell_type": "markdown",
   "metadata": {},
   "source": [
    "$$ при \\lambda_1 = \\frac{5}{6}, x = -4.8, y = 3.6 \\\\ при \\lambda_1 = -\\frac{5}{6}, x = 4.8, y = -3.6  $$"
   ]
  },
  {
   "cell_type": "markdown",
   "metadata": {},
   "source": [
    "$$ detL_{matrix} = 0 - 2x(4x\\lambda_1) + 2y(-4y\\lambda_1) = -8\\lambda_1 (x^2 + y^2) $$"
   ]
  },
  {
   "cell_type": "markdown",
   "metadata": {},
   "source": [
    "$$ при \\lambda > 0, detL{matrix} < 0,  при \\lambda < 0, detL{matrix} > 0 $$"
   ]
  },
  {
   "cell_type": "markdown",
   "metadata": {},
   "source": [
    "$$ A(-\\frac{5}{6}, 4.8, -3.6) = max, B(\\frac{5}{6}, -4.8, 3.6) = min $$"
   ]
  },
  {
   "cell_type": "markdown",
   "metadata": {},
   "source": [
    "2.\n",
    "$$ 𝑈 = 2𝑥^2 + 12𝑥𝑦 + 32𝑦^2 + 15, если \\  𝑥^2 + 16𝑦^2 = 64 $$"
   ]
  },
  {
   "cell_type": "markdown",
   "metadata": {},
   "source": [
    "$$ A = 2(𝑥^2 + 16𝑦^2) +12𝑥𝑦 +  15 = 149 + 12xy = 0 $$"
   ]
  },
  {
   "cell_type": "markdown",
   "metadata": {},
   "source": [
    "$$ \\begin{cases} A'_x = 12y = 0 \\\\ A'_y = 12x = 0  \\end{cases} $$"
   ]
  },
  {
   "cell_type": "markdown",
   "metadata": {},
   "source": [
    "$$ \\begin{cases} A'_{xx} = 0 \\\\ A'_{yy} = 0 \\\\ A'_{xy} = 12 \\end{cases} $$"
   ]
  },
  {
   "cell_type": "markdown",
   "metadata": {},
   "source": [
    "(0;0)"
   ]
  },
  {
   "cell_type": "markdown",
   "metadata": {},
   "source": []
  }
 ],
 "metadata": {
  "kernelspec": {
   "display_name": "Python 3",
   "language": "python",
   "name": "python3"
  },
  "language_info": {
   "codemirror_mode": {
    "name": "ipython",
    "version": 3
   },
   "file_extension": ".py",
   "mimetype": "text/x-python",
   "name": "python",
   "nbconvert_exporter": "python",
   "pygments_lexer": "ipython3",
   "version": "3.7.2"
  }
 },
 "nbformat": 4,
 "nbformat_minor": 2
}
