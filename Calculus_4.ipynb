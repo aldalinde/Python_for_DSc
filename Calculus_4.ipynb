{
 "cells": [
  {
   "cell_type": "markdown",
   "metadata": {},
   "source": [
    "Тема “Предел функции”\n",
    "\n",
    "Задача 1. Предложить пример функции, не имеющей предела в нуле и в бесконечностях.\n"
   ]
  },
  {
   "cell_type": "markdown",
   "metadata": {},
   "source": [
    "$$ f(x) = \\sqrt {1 - x^2}$$"
   ]
  },
  {
   "cell_type": "markdown",
   "metadata": {},
   "source": [
    "Задача 2. Привести пример функции, не имеющей предела в точке, но определенной в ней."
   ]
  },
  {
   "cell_type": "markdown",
   "metadata": {},
   "source": [
    "$$ f(x) = sinx $$"
   ]
  },
  {
   "cell_type": "markdown",
   "metadata": {},
   "source": [
    "- от противного - ищуЮ возможен ли случай, когда высказывание ложно.\n",
    "- ищу, при каких условиях правая часть будет ложной. Если будет при этом левая истиной - тогда и только тогда\n",
    "вся формула будет ложной и не м.б. тавтологией.\n",
    "- чтобы дизъюнкция была ложной, все ее части должны быть ложными (В и отрицание А)\n",
    "- в этом случае в левой части в дизъюнкции одна часть ложь (В), вторая (А) - истина. То есть левая часть высказывания - истина.\n",
    "- таким образом при левой части - истине, правая - ложь. Что делает всю формулу на выходе ложью. -> тавтология отсутствует"
   ]
  },
  {
   "cell_type": "markdown",
   "metadata": {},
   "source": [
    "2)\n",
    "$$ A \\to (A \\cup (\\overline{B} \\cap A) $$"
   ]
  },
  {
   "cell_type": "markdown",
   "metadata": {},
   "source": [
    "Формула является тавтологией, так как ее можно привести к виду А -> А. После знака следования в дизъюнкции достаточно наступления одного из условий: А. Остальное можно отбросить.\n",
    "В вебинаре это поименовано как \"закон поглощения для дизъюнкции\""
   ]
  },
  {
   "cell_type": "markdown",
   "metadata": {},
   "source": [
    "3) Сформулируйте словесно высказывания:\n",
    "А: сегодня светит солнце; В: сегодня сыро; С: я поеду на дачу. \n",
    "$$ (\\overline{A} \\cup B) \\to \\overline{C} $$"
   ]
  },
  {
   "cell_type": "markdown",
   "metadata": {},
   "source": [
    "Если сегодня будет пасмурно или сыро, то я не поеду на дачу"
   ]
  },
  {
   "cell_type": "markdown",
   "metadata": {},
   "source": [
    "4)\n",
    "$$ C \\to (A \\cup \\overline{B}) $$"
   ]
  },
  {
   "cell_type": "markdown",
   "metadata": {},
   "source": [
    "Сегодня будет солнечно и сухо, когда я буду ехать на дачу"
   ]
  },
  {
   "cell_type": "markdown",
   "metadata": {},
   "source": [
    "Пользуясь правилом построения противоположного\n",
    "высказывания, записать утверждения, противоположные\n",
    "следующим:\n",
    "\n",
    "5) На любом курсе каждого факультета есть студенты,\n",
    "сдающие все экзамены на «отлично»."
   ]
  },
  {
   "cell_type": "markdown",
   "metadata": {},
   "source": [
    "$$ \\forall exam \\in (\\exists student \\in (\\forall course \\in (\\forall faculty))) : exam = 5 $$ "
   ]
  },
  {
   "cell_type": "markdown",
   "metadata": {},
   "source": [
    "Существует факультет на котором есть курс, на котором все студенты хотя бы один экзамен сдают не на отлично"
   ]
  },
  {
   "cell_type": "markdown",
   "metadata": {},
   "source": [
    "6) Каждый студент философского факультета имеет друга,\n",
    "который умеет решать все логические задачи.\n"
   ]
  },
  {
   "cell_type": "markdown",
   "metadata": {},
   "source": [
    "$$ \\forall student \\in phfac \\exists friend \\in student \\forall problem \\in LP : friend + problem \\neq 0 $$"
   ]
  },
  {
   "cell_type": "markdown",
   "metadata": {},
   "source": [
    "Есть такая логическая задача, что есть студент философского факультета, у которого ни один друг не может ее решить."
   ]
  },
  {
   "cell_type": "markdown",
   "metadata": {},
   "source": [
    "7) В любом самолете на рейсе Вашингтон-Москва\n",
    "присутствует хотя бы один сотрудник силовых органов, в каждой\n",
    "пуговице одежды которого вмонтирован микрофон."
   ]
  },
  {
   "cell_type": "markdown",
   "metadata": {},
   "source": [
    "$$ \\forall airplane \\in WM \\exists member \\in airplane \\forall button \\in member : button = 1 $$"
   ]
  },
  {
   "cell_type": "markdown",
   "metadata": {},
   "source": [
    "Хотя бы в одном самолете рейса Вашингтон-Москва у всех сотрудников силовых органов на борту есть хотя бы одна пуговица без микрофона"
   ]
  },
  {
   "cell_type": "markdown",
   "metadata": {},
   "source": [
    "Множества. Предел последовательности\n",
    "Представьте в виде несократимой рациональной дроби:\n",
    "8) 0.(216)\n",
    "\n",
    "a1 = 0.(216)\n",
    "1000*a1 = 216.(216) = 216 +a1\n",
    "999 *a1 = 216\n",
    "a1 =  0.(216) = 216/999 = 8/37"
   ]
  },
  {
   "cell_type": "markdown",
   "metadata": {},
   "source": [
    "9) 1.0(01)\n",
    "\n",
    "a2 = 1.0(01)\n",
    "10*a2 = 10.(01) = 10 + 0.(01)\n",
    "a = 0.(01)\n",
    "100*a = 1.(01) = 1 + a => a = 1/99\n",
    "a2 = 990/99 + 1/99 = 991/99"
   ]
  },
  {
   "cell_type": "code",
   "execution_count": null,
   "metadata": {},
   "outputs": [],
   "source": []
  }
 ],
 "metadata": {
  "kernelspec": {
   "display_name": "Python 3",
   "language": "python",
   "name": "python3"
  },
  "language_info": {
   "codemirror_mode": {
    "name": "ipython",
    "version": 3
   },
   "file_extension": ".py",
   "mimetype": "text/x-python",
   "name": "python",
   "nbconvert_exporter": "python",
   "pygments_lexer": "ipython3",
   "version": "3.7.2"
  }
 },
 "nbformat": 4,
 "nbformat_minor": 2
}
