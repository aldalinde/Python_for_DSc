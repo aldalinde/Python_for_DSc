{
 "cells": [
  {
   "cell_type": "code",
   "execution_count": 1,
   "metadata": {},
   "outputs": [],
   "source": [
    "import numpy as np"
   ]
  },
  {
   "cell_type": "markdown",
   "metadata": {},
   "source": [
    "Задание 1.Провести дисперсионный анализ для определения того,\n",
    "\n",
    "есть ли различия среднего роста среди взрослых футболистов, хоккеистов и штангистов.\n",
    "\n",
    "Даны значения роста в трех группах случайно выбранных спортсменов:\n",
    "\n",
    "Футболисты: 173, 175, 180, 178, 177, 185, 183, 182. soccer (sc)\n",
    "\n",
    "Хоккеисты: 177, 179, 180, 188, 177, 172, 171, 184, 180. hockey (hk)\n",
    "\n",
    "Штангисты: 172, 173, 169, 177, 166, 180, 178, 177, 172, 166, 170. barbell (bb)"
   ]
  },
  {
   "cell_type": "code",
   "execution_count": 2,
   "metadata": {},
   "outputs": [],
   "source": [
    "sc = np.array([173, 175, 180, 178, 177, 185, 183, 182])\n",
    "hk = np.array([177, 179, 180, 188, 177, 172, 171, 184, 180])\n",
    "bb = np.array([172, 173, 169, 177, 166, 180, 178, 177, 172, 166, 170])"
   ]
  },
  {
   "cell_type": "code",
   "execution_count": 3,
   "metadata": {},
   "outputs": [],
   "source": [
    "all_mean = (np.sum(sc)+np.sum(hk)+np.sum(bb)) / (np.size(sc)+ np.size(hk)+np.size(bb))\n",
    "# сумма произведений квадратов отклонений средних по группам от общего среднего и наблюдений в группе\n",
    "fact_dev = (np.mean(sc)-all_mean)**2*np.size(sc) + (np.mean(hk)-all_mean)**2*np.size(hk) + (np.mean(bb)-all_mean)**2*np.size(bb)\n",
    "# факторная дисперсия\n",
    "fact_var = fact_dev/2"
   ]
  },
  {
   "cell_type": "code",
   "execution_count": 4,
   "metadata": {},
   "outputs": [],
   "source": [
    "# остаточная сумма квадратов отклонений\n",
    "resid_dev = np.sum((sc - np.mean(sc))**2) + np.sum((hk - np.mean(hk))**2) + np.sum((bb - np.mean(bb))**2)\n",
    "# Остаточная дисперсия\n",
    "resid_var = resid_dev / ((np.size(sc)+ np.size(hk)+np.size(bb)) - 3)"
   ]
  },
  {
   "cell_type": "code",
   "execution_count": 5,
   "metadata": {},
   "outputs": [
    {
     "data": {
      "text/plain": [
       "830.9642857142858"
      ]
     },
     "execution_count": 5,
     "metadata": {},
     "output_type": "execute_result"
    }
   ],
   "source": [
    "all_dev = np.sum((sc-all_mean)**2) + np.sum((hk-all_mean)**2) + np.sum((bb-all_mean)**2)\n",
    "all_dev"
   ]
  },
  {
   "cell_type": "code",
   "execution_count": 6,
   "metadata": {},
   "outputs": [
    {
     "data": {
      "text/plain": [
       "830.964285714286"
      ]
     },
     "execution_count": 6,
     "metadata": {},
     "output_type": "execute_result"
    }
   ],
   "source": [
    "fact_dev + resid_dev"
   ]
  },
  {
   "cell_type": "code",
   "execution_count": 7,
   "metadata": {},
   "outputs": [
    {
     "data": {
      "text/plain": [
       "5.500053450812598"
      ]
     },
     "execution_count": 7,
     "metadata": {},
     "output_type": "execute_result"
    }
   ],
   "source": [
    "f_h = fact_var / resid_var\n",
    "f_h"
   ]
  },
  {
   "cell_type": "code",
   "execution_count": 8,
   "metadata": {},
   "outputs": [
    {
     "data": {
      "text/plain": [
       "25"
      ]
     },
     "execution_count": 8,
     "metadata": {},
     "output_type": "execute_result"
    }
   ],
   "source": [
    "df_1 = 2\n",
    "df_2 = ((np.size(sc)+ np.size(hk)+np.size(bb)) - 3)\n",
    "df_2"
   ]
  },
  {
   "cell_type": "code",
   "execution_count": 9,
   "metadata": {},
   "outputs": [],
   "source": [
    "# while alpha = 0.05, df1 = 2, df2 = 25, f_cr = 3.3852\n",
    "# while alpha = 0.01, df1 = 2, df2 = 25, f_cr = 5.568"
   ]
  },
  {
   "cell_type": "markdown",
   "metadata": {},
   "source": [
    "При критической области 5% фактор вида спорта показывает различия среднего роста спортсмена (критерий 5.5 больше значения критической точки 3.3852),\n",
    "а при 1% - эти различия входят в разброс предсказания математического ожидания генеральной совокупности. \n"
   ]
  },
  {
   "cell_type": "code",
   "execution_count": null,
   "metadata": {},
   "outputs": [],
   "source": []
  }
 ],
 "metadata": {
  "kernelspec": {
   "display_name": "Python 3",
   "language": "python",
   "name": "python3"
  },
  "language_info": {
   "codemirror_mode": {
    "name": "ipython",
    "version": 3
   },
   "file_extension": ".py",
   "mimetype": "text/x-python",
   "name": "python",
   "nbconvert_exporter": "python",
   "pygments_lexer": "ipython3",
   "version": "3.7.2"
  }
 },
 "nbformat": 4,
 "nbformat_minor": 2
}
