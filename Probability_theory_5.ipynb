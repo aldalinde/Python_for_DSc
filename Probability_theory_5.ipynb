{
 "cells": [
  {
   "cell_type": "markdown",
   "metadata": {},
   "source": [
    "Задание 1. Известно, что генеральная совокупность распределена нормально\n",
    "со средним квадратическим отклонением, равным 16.\n",
    "Найти доверительный интервал для оценки математического ожидания a с надежностью 0.95,\n",
    "если выборочная средняя M = 80, а объем выборки n = 256."
   ]
  },
  {
   "cell_type": "code",
   "execution_count": 1,
   "metadata": {},
   "outputs": [],
   "source": [
    "import numpy as np\n",
    "from math import factorial"
   ]
  },
  {
   "cell_type": "code",
   "execution_count": 2,
   "metadata": {},
   "outputs": [
    {
     "name": "stdout",
     "output_type": "stream",
     "text": [
      "доверительный интервал для оценки математического ожидания a =  78.04 , 81.96\n"
     ]
    }
   ],
   "source": [
    "mean1 = 80\n",
    "n1 = 256\n",
    "sigma1 = 16\n",
    "confidence1 = 0.95\n",
    "#2f(coeff) = confidence1 => f(coeff) = 0.95/2 = 0.475\n",
    "coeff1 = 1.96\n",
    "t1 = coeff1 * (sigma1 / np.sqrt(n1))\n",
    "print(\"доверительный интервал для оценки математического ожидания a = \", mean1 - t1, \",\", mean1 + t1)"
   ]
  },
  {
   "cell_type": "markdown",
   "metadata": {},
   "source": [
    "Задание 2. В результате 10 независимых измерений некоторой величины X, выполненных с одинаковой точностью,\n",
    "\n",
    "получены опытные данные:\n",
    "\n",
    "6.9, 6.1, 6.2, 6.8, 7.5, 6.3, 6.4, 6.9, 6.7, 6.1\n",
    "\n",
    "Предполагая, что результаты измерений подчинены нормальному закону распределения вероятностей,\n",
    "оценить истинное значение величины X при помощи доверительного интервала, покрывающего это\n",
    "значение с доверительной вероятностью 0,95."
   ]
  },
  {
   "cell_type": "code",
   "execution_count": 7,
   "metadata": {},
   "outputs": [
    {
     "name": "stdout",
     "output_type": "stream",
     "text": [
      "истинное значение величины X  с доверительной вероятностью 0,95 =  6.267538255912426 , 6.912461744087575\n"
     ]
    }
   ],
   "source": [
    "x2 = np.array([6.9, 6.1, 6.2, 6.8, 7.5, 6.3, 6.4, 6.9, 6.7, 6.1])\n",
    "n2 = np.size(x2)\n",
    "mean2 = np.mean(x2)\n",
    "confidence2 = 0.95\n",
    "\n",
    "dispersion2 = []\n",
    "for i in x2:\n",
    "    sq_err = (i - mean2)**2\n",
    "    dispersion2.append(sq_err)\n",
    "\n",
    "d2 = np.sum(dispersion2)/n2\n",
    "non_shifted_d2 = np.sum(dispersion2)/(n2-1)\n",
    "\n",
    "sigma2 = np.sqrt(non_shifted_d2)\n",
    "\n",
    "#coeff_student(degree of freedom(9), confidence(0.95))\n",
    "coeff_student2 = 2.262\n",
    "\n",
    "t2 = coeff_student2 * (sigma2 / np.sqrt(n2))\n",
    "print(\"истинное значение величины X  с доверительной вероятностью 0,95 = \", mean2 - t2, \",\", mean2 + t2)"
   ]
  },
  {
   "cell_type": "markdown",
   "metadata": {},
   "source": [
    "Задание 3. Утверждается, что шарики для подшипников, изготовленные автоматическим станком,\n",
    "имеют средний диаметр 17 мм.\n",
    "Используя односторонний критерий с α=0,05, проверить эту гипотезу, если в выборке из\n",
    "n=100\n",
    "шариков средний диаметр оказался равным 17.5 мм, а дисперсия известна и равна 4 мм."
   ]
  },
  {
   "cell_type": "code",
   "execution_count": 4,
   "metadata": {},
   "outputs": [
    {
     "name": "stdout",
     "output_type": "stream",
     "text": [
      "значение критерия =  2.5\n",
      "значение критической точки при одностороннем альфа равном 0,05 =  1.66\n",
      "H0 гипотезу о среднем значении равном 17 мм можно считать опровергнутой\n"
     ]
    }
   ],
   "source": [
    "h0_mean3 = 17\n",
    "alfa_oneside = 0.05\n",
    "alfa = 0.05 * 2\n",
    "n3 = 100\n",
    "h1_mean3 = 17.5\n",
    "dispersion3 = 4\n",
    "sigma3 = np.sqrt(dispersion3)\n",
    "\n",
    "#with sigma 2mm criteria difference of mean value should be 2.5 => probability 0.0175\n",
    "criteria_point1 = (h1_mean3 - h0_mean3) / sigma3 * (np.sqrt(n3))\n",
    "print(\"значение критерия = \", criteria_point1)\n",
    "\n",
    "#critical_point for hipothesis 0 => with alfa 0.10 => H0 critical point should be less than H1 criteria point. H0 overturned \n",
    "critical_point0 = 1.66\n",
    "\n",
    "print(\"значение критической точки при одностороннем альфа равном 0,05 = \", critical_point0)\n",
    "\n",
    "print(\"H0 гипотезу о среднем значении равном 17 мм можно считать опровергнутой\")"
   ]
  },
  {
   "cell_type": "markdown",
   "metadata": {},
   "source": [
    "Задание 4 Продавец утверждает, что средний вес пачки печенья составляет 200 г.\n",
    "\n",
    "Из партии извлечена выборка из 10 пачек. Вес каждой пачки составляет:\n",
    "202, 203, 199, 197, 195, 201, 200, 204, 194, 190.\n",
    "\n",
    "Известно, что их веса распределены нормально.\n",
    "Верно ли утверждение продавца, если учитывать, что доверительная вероятность равна 99%?"
   ]
  },
  {
   "cell_type": "code",
   "execution_count": 6,
   "metadata": {},
   "outputs": [
    {
     "name": "stdout",
     "output_type": "stream",
     "text": [
      "среднее квадратичное отклонение выборки (г.) =  4.453463071962462\n",
      "сигма-отклонение Н1 гипотезы 1.0651074037450896\n",
      "допустимое сигма-отклонение Н0 гипотезы 2.821\n",
      "доверительный интервал по гипотезе 0 =  196.02716121855752 , 203.97283878144248\n",
      "среднее проверочной выборки 198.5\n"
     ]
    }
   ],
   "source": [
    "mean4_h0 = 200\n",
    "x4 = np.array([202, 203, 199, 197, 195, 201, 200, 204, 194, 190])\n",
    "n4 = np.size(x4)\n",
    "h1_mean4 = np.mean(x4)\n",
    "confidence4 = 0.99\n",
    "\n",
    "dispersion4 = []\n",
    "for i in x4:\n",
    "    sq_err = (i - h1_mean4)**2\n",
    "    dispersion4.append(sq_err)\n",
    "\n",
    "d4 = np.sum(dispersion4)/n2\n",
    "non_shifted_d4 = np.sum(dispersion4)/(n2-1)\n",
    "\n",
    "sigma4 = np.sqrt(non_shifted_d4)\n",
    "print(\"среднее квадратичное отклонение выборки (г.) = \", sigma4)\n",
    "\n",
    "#checking the sigma value of H1-mean\n",
    "critical_point0_cookies = (mean4_h0 - h1_mean4) / sigma4 * (np.sqrt(n4))\n",
    "print(\"сигма-отклонение Н1 гипотезы\", critical_point0_cookies)\n",
    "\n",
    "#coeff_student(degree of freedom(9), confidence(0.99))\n",
    "coeff_student4 = 2.821\n",
    "\n",
    "print(\"допустимое сигма-отклонение Н0 гипотезы\", coeff_student4)\n",
    "\n",
    "#H1 mean value located within the credible interval of H0\n",
    "\n",
    "t4 = coeff_student4 * (sigma4 / np.sqrt(n4))\n",
    "print(\"доверительный интервал по гипотезе 0 = \", mean4_h0 - t4, \",\", mean4_h0 + t4)\n",
    "print(\"среднее проверочной выборки\", h1_mean4)"
   ]
  },
  {
   "cell_type": "code",
   "execution_count": null,
   "metadata": {},
   "outputs": [],
   "source": []
  }
 ],
 "metadata": {
  "kernelspec": {
   "display_name": "Python 3",
   "language": "python",
   "name": "python3"
  },
  "language_info": {
   "codemirror_mode": {
    "name": "ipython",
    "version": 3
   },
   "file_extension": ".py",
   "mimetype": "text/x-python",
   "name": "python",
   "nbconvert_exporter": "python",
   "pygments_lexer": "ipython3",
   "version": "3.7.2"
  }
 },
 "nbformat": 4,
 "nbformat_minor": 2
}
