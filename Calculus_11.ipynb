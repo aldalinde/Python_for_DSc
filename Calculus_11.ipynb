{
 "cells": [
  {
   "cell_type": "markdown",
   "metadata": {},
   "source": [
    "Вычислить интегралы."
   ]
  },
  {
   "cell_type": "markdown",
   "metadata": {},
   "source": [
    "1. \n",
    "$$  \\int \\frac{2x+3}{(x-2)(x+5)})dx = \\int (\\frac{A}{x-2} + \\frac{B}{x+5})dx = \\int \\frac{Ax+5A+Bx-2B)}{(x-2)(x+5)}dx$$"
   ]
  },
  {
   "cell_type": "markdown",
   "metadata": {},
   "source": [
    "$$ \\begin{cases} A+B=2 \\\\ 5A-2B=3 \\end{cases} => \\\\ => B = 2-A, 5A-4 + 2A = 3 => \\\\ =>  A=1, B=1 $$"
   ]
  },
  {
   "cell_type": "markdown",
   "metadata": {},
   "source": [
    "$$ $$"
   ]
  },
  {
   "cell_type": "markdown",
   "metadata": {},
   "source": [
    "$$  => \\int(\\frac{1}{x-2} + \\frac{1}{x+5})dx = ln|x-2| + ln|x+5| + C$$"
   ]
  },
  {
   "cell_type": "markdown",
   "metadata": {},
   "source": [
    "2.\n",
    "$$ \\int e^{2x}cos3x dx = \\left[ {U = e^{2x} => dU = 2e^{2x}dx \\over dV = cos3xdx => V= sin3x} \\right] = e^{2x}sin3x - \\int sin3x2e^{2x}dx$$"
   ]
  },
  {
   "cell_type": "markdown",
   "metadata": {},
   "source": [
    "$$ e^{2x}sin3x - \\int sin3x2e^{2x}dx = \\left[ {U = 2e^{2x} => dU = 4e^{2x}dx \\over dV = sin3xdx => V= -cos3x} \\right] = e^{2x}sin3x - \\int cos3x4e^{2x}dx + cos3x\\cdot 2e^{2x} $$"
   ]
  },
  {
   "cell_type": "markdown",
   "metadata": {},
   "source": [
    "$$ e^{2x}sin3x + cos3x\\cdot 2e^{2x} = 4\\int cos3xe^{2x}dx + \\int cos3xe^{2x}dx  $$"
   ]
  },
  {
   "cell_type": "markdown",
   "metadata": {},
   "source": [
    "$$\\int cos3xe^{2x}dx = \\frac {e^{2x}sin3x + cos3x\\cdot 2e^{2x}}{5} $$"
   ]
  },
  {
   "cell_type": "markdown",
   "metadata": {},
   "source": [
    "3.\n",
    "Вычислить определенный интеграл на отрезке:\n",
    "$$ \\int_0^{ln2} xe^{-x} dx = \\left[ \\int x e^{ax}dx = \\frac{e^{ax}}{a^2}(ax-1) + C\\right] = \\left. e^{-x}(-x-1) +C \\right|_0^{ln2} = \\left. (e^{-x}\\cdot(-x)- e^{-x}) +C \\right|_0^{ln2} =  (e^{-ln2}(-ln2)- e^{-ln2}) -(e^{0}(0)- e^{0}) $$"
   ]
  },
  {
   "cell_type": "markdown",
   "metadata": {},
   "source": [
    "$$ \\int_0^{ln2} xe^{-x} dx = -\\frac{1}{2}ln2 +\\frac{1}{2}$$"
   ]
  },
  {
   "cell_type": "code",
   "execution_count": null,
   "metadata": {},
   "outputs": [],
   "source": []
  }
 ],
 "metadata": {
  "kernelspec": {
   "display_name": "Python 3",
   "language": "python",
   "name": "python3"
  },
  "language_info": {
   "codemirror_mode": {
    "name": "ipython",
    "version": 3
   },
   "file_extension": ".py",
   "mimetype": "text/x-python",
   "name": "python",
   "nbconvert_exporter": "python",
   "pygments_lexer": "ipython3",
   "version": "3.7.2"
  }
 },
 "nbformat": 4,
 "nbformat_minor": 2
}
