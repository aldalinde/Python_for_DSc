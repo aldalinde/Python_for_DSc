{
 "cells": [
  {
   "cell_type": "markdown",
   "metadata": {},
   "source": [
    "Тема 8 \"Понятие об интеграле\""
   ]
  },
  {
   "cell_type": "markdown",
   "metadata": {},
   "source": [
    "1. Найти неопределенный интеграл:\n",
    "$$  \\int (2x^2 - 2x - 1 + sinx - cosx + lnx + e^x)dx =  \\frac{2}{3}x^3 - x^2 -x - cosx - sinx + \\int ln x dx + e^x + C$$"
   ]
  },
  {
   "cell_type": "markdown",
   "metadata": {},
   "source": [
    "$$ \\int UdV = UV - \\int VdU \\\\ U = ln x => dU = (ln x)'dx = \\frac{dx}{x} \\\\ dV = dx => V = x$$"
   ]
  },
  {
   "cell_type": "markdown",
   "metadata": {},
   "source": [
    "$$ \\int ln x dx = x \\cdot ln x - \\int x \\frac{dx}{x} = x \\cdot ln x - (x + C) $$"
   ]
  },
  {
   "cell_type": "markdown",
   "metadata": {},
   "source": [
    "$$  => \\int (2x^2 - 2x - 1 + sinx - cosx + lnx + e^x)dx = \\frac{2}{3}x^3 - x^2 -2x - cosx - sinx + x \\cdot ln x + e^x + C $$"
   ]
  },
  {
   "cell_type": "markdown",
   "metadata": {},
   "source": [
    "2.\n",
    "$$ \\int (2x + 6xz^2 - 5x^2y - 3lnz) dx = x^2 + 3z^2x^2 - \\frac{5}{3}yx^3 - 3 ln z x$$"
   ]
  },
  {
   "cell_type": "markdown",
   "metadata": {},
   "source": [
    "3. Вычислить определенный интеграл:\n",
    "$$ \\int_0^\\pi 3x^2 sin(2x) dx = 6\\int_0^\\pi x^2sinxcox dx  $$"
   ]
  },
  {
   "cell_type": "markdown",
   "metadata": {},
   "source": [
    "$$ \\int UdV = UV - \\int VdU \\\\ U = x^2sinx => dU = (x^2sinx)'dx = (2xsinx + cosx x^2)dx \\\\ dV = cosx dx => V = sinx$$"
   ]
  },
  {
   "cell_type": "markdown",
   "metadata": {},
   "source": [
    "$$ 6\\int x^2sinxcox dx = 6x^2sin^2x - 6\\int sinx(2xsinx + cosx x^2)dx =  6x^2sin^2x - 6\\int 2x sin^2xdx - 6\\int sinxcosx x^2dx $$"
   ]
  },
  {
   "cell_type": "markdown",
   "metadata": {},
   "source": [
    "$$ x^2sin^2x - \\int 2x sin^2xdx =  2\\int sinxcosx x^2dx$$"
   ]
  },
  {
   "cell_type": "markdown",
   "metadata": {},
   "source": []
  },
  {
   "cell_type": "markdown",
   "metadata": {},
   "source": [
    "4. Найти неопределенный интеграл:\n",
    "$$ \\int \\frac{1}{ \\sqrt{x+1}} dx = 2 \\sqrt{x+1} +C$$"
   ]
  },
  {
   "cell_type": "markdown",
   "metadata": {},
   "source": [
    "$$ \\int \\frac{dx}{\\sqrt{ax+b}} = \\frac{2}{a} \\cdot \\sqrt{ax+b} + C$$"
   ]
  },
  {
   "cell_type": "code",
   "execution_count": null,
   "metadata": {},
   "outputs": [],
   "source": []
  }
 ],
 "metadata": {
  "kernelspec": {
   "display_name": "Python 3",
   "language": "python",
   "name": "python3"
  },
  "language_info": {
   "codemirror_mode": {
    "name": "ipython",
    "version": 3
   },
   "file_extension": ".py",
   "mimetype": "text/x-python",
   "name": "python",
   "nbconvert_exporter": "python",
   "pygments_lexer": "ipython3",
   "version": "3.7.2"
  }
 },
 "nbformat": 4,
 "nbformat_minor": 2
}
