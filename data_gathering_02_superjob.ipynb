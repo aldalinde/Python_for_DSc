{
 "cells": [
  {
   "cell_type": "markdown",
   "metadata": {},
   "source": [
    "1) Необходимо собрать информацию о вакансиях на должность программиста\n",
    "или разработчика с сайта superjob.ru или hh.ru. (Можно с обоих сразу)\n",
    "Приложение должно анализировать несколько страниц сайта. Получившийся список должен содержать в себе: \n",
    "• Наименование вакансии, \n",
    "• Предлагаемую зарплату,\n",
    "• Ссылку на саму вакансию"
   ]
  },
  {
   "cell_type": "code",
   "execution_count": 1,
   "metadata": {},
   "outputs": [],
   "source": [
    "from pprint import pprint\n",
    "import requests\n",
    "import re\n",
    "from bs4 import BeautifulSoup as bs"
   ]
  },
  {
   "cell_type": "code",
   "execution_count": 2,
   "metadata": {},
   "outputs": [],
   "source": [
    "\n",
    "def get_topic():\n",
    "    topic = ('Программист')\n",
    "    return topic\n",
    "\n",
    "def get_link():\n",
    "    link='https://www.superjob.ru/vacancy/search/?keywords='+get_topic()\n",
    "    return link\n",
    "\n",
    "def get_topic_page():\n",
    "    answer = ''\n",
    "    while answer != 'N':\n",
    "        link = get_link()\n",
    "        response = requests.get(link)\n",
    "        if response.ok:\n",
    "            return response.text\n",
    "        else:\n",
    "            answer = input('Такой статьи, кажется, пока нет. Продолжим? Y/N')\n",
    "\n"
   ]
  },
  {
   "cell_type": "code",
   "execution_count": 3,
   "metadata": {},
   "outputs": [],
   "source": [
    "site_text = get_topic_page()            "
   ]
  },
  {
   "cell_type": "code",
   "execution_count": 4,
   "metadata": {},
   "outputs": [],
   "source": [
    "#parsed_site = bs(site_text, 'html.parser')\n",
    "parsed_site = bs(site_text, 'html.parser')"
   ]
  },
  {
   "cell_type": "code",
   "execution_count": 5,
   "metadata": {},
   "outputs": [],
   "source": [
    "rus_words = re.findall(r'[а-яА-Я]+', site_text)\n",
    "#rus_words = re.findall(r'company-item-salary', site_text)"
   ]
  },
  {
   "cell_type": "code",
   "execution_count": 6,
   "metadata": {},
   "outputs": [],
   "source": [
    "#print(rus_words)"
   ]
  },
  {
   "cell_type": "code",
   "execution_count": 7,
   "metadata": {},
   "outputs": [],
   "source": [
    "key_words = ['Python','Java','C++']\n",
    "\n",
    "\n",
    "vacancy_blocks = parsed_site.findAll('div', attrs={'class': '_3zucV _2GPIV i6-sc _3VcZr'})\n",
    "\n",
    "#vacancy_words = re.findall(r'<div class=\"_2g1F-\">(<span class=\"_3mfro.+)', divs_site)\n"
   ]
  },
  {
   "cell_type": "code",
   "execution_count": 8,
   "metadata": {},
   "outputs": [],
   "source": [
    "#pprint(divs_site.contents)"
   ]
  },
  {
   "cell_type": "code",
   "execution_count": 9,
   "metadata": {},
   "outputs": [
    {
     "data": {
      "text/plain": [
       "20"
      ]
     },
     "execution_count": 9,
     "metadata": {},
     "output_type": "execute_result"
    }
   ],
   "source": [
    "len(vacancy_blocks)"
   ]
  },
  {
   "cell_type": "code",
   "execution_count": 10,
   "metadata": {},
   "outputs": [],
   "source": [
    "#vacancy_blocks[0].findChildren()"
   ]
  },
  {
   "cell_type": "code",
   "execution_count": 29,
   "metadata": {},
   "outputs": [
    {
     "name": "stdout",
     "output_type": "stream",
     "text": [
      "1.\n",
      "Ссылка на вакансию: /vakansii/veb-programmist-28243219.html\n",
      "Наименование вакансии: Веб-программист, web-программист\n",
      "Предлагаема зарплата: 80000\n",
      "2.\n",
      "Ссылка на вакансию: /vakansii/programmist-1s-32350726.html\n",
      "Наименование вакансии: Программист 1С / Ведущий программист 1С\n",
      "Предлагаема зарплата: 120000140000\n",
      "3.\n",
      "Ссылка на вакансию: /vakansii/programmist-1s-30708588.html\n",
      "Наименование вакансии: Программист 1С\n",
      "Сумма предлагаемой заработной платы не указана\n",
      "4.\n",
      "Ссылка на вакансию: /vakansii/veduschij-programmist-1s-31746539.html\n",
      "Наименование вакансии: Ведущий программист 1С\n",
      "Предлагаема зарплата: 120000150000\n",
      "5.\n",
      "Ссылка на вакансию: /vakansii/web-programmist-29723693.html\n",
      "Наименование вакансии: Web-программист / Web-разработчик\n",
      "Предлагаема зарплата: 170000\n",
      "6.\n",
      "Ссылка на вакансию: /vakansii/programmist-delphi-30280217.html\n",
      "Наименование вакансии: Программист Delphi\n",
      "Предлагаема зарплата: 100000120000\n",
      "7.\n",
      "Ссылка на вакансию: /vakansii/php-programmist-30349329.html\n",
      "Наименование вакансии: PHP-программист\n",
      "Предлагаема зарплата: 121800\n",
      "8.\n",
      "Ссылка на вакансию: /vakansii/programmist-s-30350957.html\n",
      "Наименование вакансии: Программист С++\n",
      "Предлагаема зарплата: 120000\n",
      "9.\n",
      "Ссылка на вакансию: /vakansii/veb-programmist-31375774.html\n",
      "Наименование вакансии: Веб-программист (PHP)\n",
      "Предлагаема зарплата: 115000\n",
      "10.\n",
      "Ссылка на вакансию: /vakansii/pomoschnik-programmista-1s-31354918.html\n",
      "Наименование вакансии: Помощник программиста 1С / Стажер / Программист 1С\n",
      "Предлагаема зарплата: 4800055000\n",
      "11.\n",
      "Ссылка на вакансию: /vakansii/inzhener-programmist-asu-32258177.html\n",
      "Наименование вакансии: Инженер-программист АСУ\n",
      "Сумма предлагаемой заработной платы не указана\n"
     ]
    }
   ],
   "source": [
    "n = 1\n",
    "for vacancy in vacancy_blocks:\n",
    "    link = vacancy.find('a')\n",
    "    if 'vakansii' in link['href']:\n",
    "        print(f'{n}.')\n",
    "        l = link['href']\n",
    "        print(f'Ссылка на вакансию: {l}')\n",
    "        job_pos = vacancy.find('div', attrs={'class': '_3mfro CuJz5 PlM3e _2JVkc _3LJqf'})\n",
    "        j = job_pos.get_text()\n",
    "        print(f'Наименование вакансии: {j}')\n",
    "        job_sal = vacancy.find('span', attrs={'class': re.compile(\"salary\")})\n",
    "        s = ''.join(re.findall(r'[\\d+]', job_sal.text))\n",
    "        if len(s) > 0:\n",
    "            print(f'Предлагаема зарплата: {s}')\n",
    "        else:\n",
    "            print('Сумма предлагаемой заработной платы не указана')\n",
    "        n+=1\n",
    "\n",
    "        "
   ]
  },
  {
   "cell_type": "code",
   "execution_count": null,
   "metadata": {},
   "outputs": [],
   "source": []
  },
  {
   "cell_type": "code",
   "execution_count": null,
   "metadata": {},
   "outputs": [],
   "source": []
  },
  {
   "cell_type": "code",
   "execution_count": null,
   "metadata": {},
   "outputs": [],
   "source": [
    "\n"
   ]
  },
  {
   "cell_type": "code",
   "execution_count": null,
   "metadata": {},
   "outputs": [],
   "source": [
    "def get_words(html_content):\n",
    "    words = re.findall(\"[а-яА-Я]{3,}\",html_content)\n",
    "    return words\n",
    "\n",
    "def get_common_words(topic):\n",
    "    words_list = get_words(topic)\n",
    "    rate={}\n",
    "    for word in words_list:\n",
    "        if word in rate:\n",
    "            rate[word]+=1\n",
    "        else:\n",
    "            rate[word]=1\n",
    "    rate_list = list(rate.items())\n",
    "    rate_list.sort(key = lambda x: -x[1])\n",
    "    return rate_list\n"
   ]
  },
  {
   "cell_type": "code",
   "execution_count": null,
   "metadata": {},
   "outputs": [],
   "source": []
  }
 ],
 "metadata": {
  "kernelspec": {
   "display_name": "Python 3",
   "language": "python",
   "name": "python3"
  },
  "language_info": {
   "codemirror_mode": {
    "name": "ipython",
    "version": 3
   },
   "file_extension": ".py",
   "mimetype": "text/x-python",
   "name": "python",
   "nbconvert_exporter": "python",
   "pygments_lexer": "ipython3",
   "version": "3.7.2"
  }
 },
 "nbformat": 4,
 "nbformat_minor": 2
}
