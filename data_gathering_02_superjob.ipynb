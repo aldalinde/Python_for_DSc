{
 "cells": [
  {
   "cell_type": "markdown",
   "metadata": {},
   "source": [
    "1) Необходимо собрать информацию о вакансиях на должность программиста\n",
    "или разработчика с сайта superjob.ru или hh.ru. (Можно с обоих сразу)\n",
    "Приложение должно анализировать несколько страниц сайта. Получившийся список должен содержать в себе: \n",
    "• Наименование вакансии, \n",
    "• Предлагаемую зарплату,\n",
    "• Ссылку на саму вакансию"
   ]
  },
  {
   "cell_type": "code",
   "execution_count": 1,
   "metadata": {},
   "outputs": [],
   "source": [
    "from pprint import pprint\n",
    "import requests\n",
    "import re\n",
    "from bs4 import BeautifulSoup as bs"
   ]
  },
  {
   "cell_type": "code",
   "execution_count": 2,
   "metadata": {},
   "outputs": [],
   "source": [
    "\n",
    "def get_name():\n",
    "    topic = ('Программист')\n",
    "    return topic\n",
    "\n",
    "def get_link():\n",
    "    link='https://www.superjob.ru/vacancy/search/?keywords='+get_name()\n",
    "    return link\n",
    "\n",
    "def getting_page(link = get_link()):\n",
    "    answer = ''\n",
    "    while answer != 'N':\n",
    "        response = requests.get(link)\n",
    "        if response.ok:\n",
    "            return response.text\n",
    "        else:\n",
    "            answer = input('Такой статьи, кажется, пока нет. Продолжим? Y/N')\n",
    "\n",
    "def parsing_page(site_text):\n",
    "    parsed_site = bs(site_text, 'html.parser')\n",
    "    vacancy_blocks = parsed_site.findAll('div', attrs={'class': '_3zucV _2GPIV i6-sc _3VcZr'})\n",
    "    return vacancy_blocks"
   ]
  },
  {
   "cell_type": "code",
   "execution_count": 3,
   "metadata": {},
   "outputs": [
    {
     "name": "stdout",
     "output_type": "stream",
     "text": [
      "Сколько вакансий Вы хотите просмотреть? 23\n"
     ]
    }
   ],
   "source": [
    "number = int(input('Сколько вакансий Вы хотите просмотреть? '))"
   ]
  },
  {
   "cell_type": "code",
   "execution_count": 4,
   "metadata": {},
   "outputs": [],
   "source": [
    "site_text = getting_page()            "
   ]
  },
  {
   "cell_type": "code",
   "execution_count": 5,
   "metadata": {},
   "outputs": [],
   "source": [
    "#parsed_site = bs(site_text, 'html.parser')\n",
    "parsed_site = bs(site_text, 'html.parser')"
   ]
  },
  {
   "cell_type": "code",
   "execution_count": 6,
   "metadata": {},
   "outputs": [],
   "source": [
    "key_words = ['Python','Java','C++']\n",
    "\n",
    "\n",
    "vacancy_blocks = parsed_site.findAll('div', attrs={'class': re.compile(r'.?_3zucV _2GPIV i6-sc _3VcZr')})\n",
    "\n",
    "#vacancy_blocks[0].findChildren()"
   ]
  },
  {
   "cell_type": "code",
   "execution_count": 7,
   "metadata": {},
   "outputs": [],
   "source": [
    "def searching_link(parsed_site):\n",
    "    searching_link = parsed_site.find('a', rel='next')\n",
    "    link_2 = searching_link['href']\n",
    "    new_link = f'https://www.superjob.ru{link_2}'\n",
    "    return new_link\n"
   ]
  },
  {
   "cell_type": "code",
   "execution_count": 8,
   "metadata": {},
   "outputs": [],
   "source": [
    "\n",
    "def forming_vacancies(vacancy_blocks, number=number, n=1):\n",
    "    m = 1\n",
    "    while True:\n",
    "        for vacancy in vacancy_blocks:\n",
    "            link = vacancy.find('a', attrs={'href': re.compile(r'^/vakansii/')})\n",
    "            if 'vakansii' in link['href']:\n",
    "                print(f'{n}.')\n",
    "                n+=1\n",
    "                m+=1\n",
    "                l = link['href']\n",
    "                print(f'Ссылка на вакансию: {l}')\n",
    "                job_pos = vacancy.find('div', attrs={'class': '_3mfro CuJz5 PlM3e _2JVkc _3LJqf'})\n",
    "                j = job_pos.get_text()\n",
    "                print(f'Наименование вакансии: {j}')\n",
    "                job_sal = vacancy.find('span', attrs={'class': re.compile(\"salary\")})\n",
    "                s = job_sal.get_text()\n",
    "                print(s)\n",
    "            if n >= number+1 or m >= len(vacancy_blocks):\n",
    "                break            \n",
    "        return n\n",
    "\n",
    "        "
   ]
  },
  {
   "cell_type": "code",
   "execution_count": null,
   "metadata": {},
   "outputs": [],
   "source": []
  },
  {
   "cell_type": "code",
   "execution_count": 9,
   "metadata": {},
   "outputs": [
    {
     "name": "stdout",
     "output_type": "stream",
     "text": [
      "1.\n",
      "Ссылка на вакансию: /vakansii/veduschij-programmist-1s-30727378.html\n",
      "Наименование вакансии: Ведущий программист 1С\n",
      "100 000 ₽\n",
      "2.\n",
      "Ссылка на вакансию: /vakansii/javascript-32434463.html\n",
      "Наименование вакансии: JavaScript (веб) программист\n",
      "110 000 — 120 000 ₽\n",
      "3.\n",
      "Ссылка на вакансию: /vakansii/programmist-1s-32355948.html\n",
      "Наименование вакансии: Программист 1С\n",
      "110 000 — 150 000 ₽\n",
      "4.\n",
      "Ссылка на вакансию: /vakansii/programmist-1s-32174069.html\n",
      "Наименование вакансии: Программист 1С\n",
      "По договорённости\n",
      "5.\n",
      "Ссылка на вакансию: /vakansii/programmist-c-32405114.html\n",
      "Наименование вакансии: Программист C++, Qt, QML\n",
      "По договорённости\n",
      "6.\n",
      "Ссылка на вакансию: /vakansii/programmist-abs-cft-32263158.html\n",
      "Наименование вакансии: Программист АБС ЦФТ\n",
      "По договорённости\n",
      "7.\n",
      "Ссылка на вакансию: /vakansii/programmist-javascript-32159051.html\n",
      "Наименование вакансии: Программист javascript (телекоммуникационные услуги связи)\n",
      "от 60 000 ₽\n",
      "8.\n",
      "Ссылка на вакансию: /vakansii/inzhener-programmist-c-32330027.html\n",
      "Наименование вакансии: Инженер-программист C#\n",
      "По договорённости\n",
      "9.\n",
      "Ссылка на вакансию: /vakansii/veduschij-programmist-1s-8-32399181.html\n",
      "Наименование вакансии: Ведущий программист 1С 8\n",
      "от 150 000 ₽\n",
      "10.\n",
      "Ссылка на вакансию: /vakansii/inzhener-programmist-32154251.html\n",
      "Наименование вакансии: Инженер-программист\n",
      "98 310 ₽\n",
      "11.\n",
      "Ссылка на вакансию: /vakansii/programmist-php-31914382.html\n",
      "Наименование вакансии: Программист PHP\n",
      "По договорённости\n",
      "12.\n",
      "Ссылка на вакансию: /vakansii/programmist-1s-32136829.html\n",
      "Наименование вакансии: Программист 1С / Эксперт 1С / Системный архитектор\n",
      "180 000 ₽\n",
      "13.\n",
      "Ссылка на вакансию: /vakansii/starshij-programmist-1s-32389271.html\n",
      "Наименование вакансии: Старший программист 1С\n",
      "110 000 — 150 000 ₽\n",
      "14.\n",
      "Ссылка на вакансию: /vakansii/programmist-podderzhki-1s-32355543.html\n",
      "Наименование вакансии: Программист поддержки 1С\n",
      "По договорённости\n",
      "15.\n",
      "Ссылка на вакансию: /vakansii/programmist-1s-32373973.html\n",
      "Наименование вакансии: Программист 1С\n",
      "125 000 ₽\n",
      "16.\n",
      "Ссылка на вакансию: /vakansii/veduschij-programmist-1s-32220120.html\n",
      "Наименование вакансии: Ведущий программист 1С\n",
      "По договорённости\n",
      "17.\n",
      "Ссылка на вакансию: /vakansii/programmist-1s-32389001.html\n",
      "Наименование вакансии: Программист 1С\n",
      "100 000 — 140 000 ₽\n",
      "18.\n",
      "Ссылка на вакансию: /vakansii/programmist-1c-26792187.html\n",
      "Наименование вакансии: Программист 1C\n",
      "По договорённости\n",
      "19.\n",
      "Ссылка на вакансию: /vakansii/mladshij-programmist-1s-32373784.html\n",
      "Наименование вакансии: Младший программист 1С\n",
      "По договорённости\n",
      "20.\n",
      "Ссылка на вакансию: /vakansii/programmist-1s-32373763.html\n",
      "Наименование вакансии: Программист 1С\n",
      "По договорённости\n",
      "21.\n",
      "Ссылка на вакансию: /vakansii/programmist-1s-31857482.html\n",
      "Наименование вакансии: Программист 1С\n",
      "По договорённости\n",
      "22.\n",
      "Ссылка на вакансию: /vakansii/programmist-c-30558941.html\n",
      "Наименование вакансии: Программист C#\n",
      "от 160 000 ₽\n",
      "23.\n",
      "Ссылка на вакансию: /vakansii/tehnik-programmist-1s-32355109.html\n",
      "Наименование вакансии: Техник-программист 1С\n",
      "20 000 — 40 000 ₽\n"
     ]
    },
    {
     "ename": "NameError",
     "evalue": "name 'm2' is not defined",
     "output_type": "error",
     "traceback": [
      "\u001b[0;31m---------------------------------------------------------------------------\u001b[0m",
      "\u001b[0;31mNameError\u001b[0m                                 Traceback (most recent call last)",
      "\u001b[0;32m<ipython-input-9-f3ae84f304c0>\u001b[0m in \u001b[0;36m<module>\u001b[0;34m()\u001b[0m\n\u001b[1;32m     10\u001b[0m \u001b[0;34m\u001b[0m\u001b[0m\n\u001b[1;32m     11\u001b[0m \u001b[0;34m\u001b[0m\u001b[0m\n\u001b[0;32m---> 12\u001b[0;31m \u001b[0;32mif\u001b[0m \u001b[0mm2\u001b[0m \u001b[0;34m<=\u001b[0m \u001b[0mnumber\u001b[0m\u001b[0;34m:\u001b[0m\u001b[0;34m\u001b[0m\u001b[0;34m\u001b[0m\u001b[0m\n\u001b[0m\u001b[1;32m     13\u001b[0m     \u001b[0msite_text_3\u001b[0m \u001b[0;34m=\u001b[0m \u001b[0mrequests\u001b[0m\u001b[0;34m.\u001b[0m\u001b[0mget\u001b[0m\u001b[0;34m(\u001b[0m\u001b[0msearching_link\u001b[0m\u001b[0;34m(\u001b[0m\u001b[0mparsed_site_2\u001b[0m\u001b[0;34m)\u001b[0m\u001b[0;34m)\u001b[0m\u001b[0;34m.\u001b[0m\u001b[0mtext\u001b[0m\u001b[0;34m\u001b[0m\u001b[0;34m\u001b[0m\u001b[0m\n\u001b[1;32m     14\u001b[0m     \u001b[0mparsed_site_3\u001b[0m \u001b[0;34m=\u001b[0m \u001b[0mbs\u001b[0m\u001b[0;34m(\u001b[0m\u001b[0msite_text_3\u001b[0m\u001b[0;34m,\u001b[0m \u001b[0;34m'html.parser'\u001b[0m\u001b[0;34m)\u001b[0m\u001b[0;34m\u001b[0m\u001b[0;34m\u001b[0m\u001b[0m\n",
      "\u001b[0;31mNameError\u001b[0m: name 'm2' is not defined"
     ]
    }
   ],
   "source": [
    "# написать функцию и цикл\n",
    "\n",
    "m1 = forming_vacancies(vacancy_blocks)\n",
    "\n",
    "if m1 <= number:\n",
    "    site_text_2 = requests.get(searching_link(parsed_site)).text\n",
    "    parsed_site_2 = bs(site_text_2, 'html.parser')\n",
    "    vacancy_blocks_2 = parsed_site_2.findAll('div', attrs={'class': '_3zucV _2GPIV i6-sc _3VcZr'})\n",
    "    m2 = forming_vacancies(vacancy_blocks_2, number = number, n=m1)\n",
    "\n",
    "\n",
    "if m2 <= number:\n",
    "    site_text_3 = requests.get(searching_link(parsed_site_2)).text\n",
    "    parsed_site_3 = bs(site_text_3, 'html.parser')\n",
    "    vacancy_blocks_3 = parsed_site_3.findAll('div', attrs={'class': '_3zucV _2GPIV i6-sc _3VcZr'})\n",
    "    m3 = forming_vacancies(vacancy_blocks_3, number = number, n=m2)\n"
   ]
  },
  {
   "cell_type": "code",
   "execution_count": null,
   "metadata": {},
   "outputs": [],
   "source": []
  }
 ],
 "metadata": {
  "kernelspec": {
   "display_name": "Python 3",
   "language": "python",
   "name": "python3"
  },
  "language_info": {
   "codemirror_mode": {
    "name": "ipython",
    "version": 3
   },
   "file_extension": ".py",
   "mimetype": "text/x-python",
   "name": "python",
   "nbconvert_exporter": "python",
   "pygments_lexer": "ipython3",
   "version": "3.7.2"
  }
 },
 "nbformat": 4,
 "nbformat_minor": 2
}
