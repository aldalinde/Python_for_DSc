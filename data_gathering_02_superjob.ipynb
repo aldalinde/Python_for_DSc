{
 "cells": [
  {
   "cell_type": "markdown",
   "metadata": {},
   "source": [
    "1) Необходимо собрать информацию о вакансиях на должность программиста\n",
    "или разработчика с сайта superjob.ru или hh.ru. (Можно с обоих сразу)\n",
    "Приложение должно анализировать несколько страниц сайта. Получившийся список должен содержать в себе: \n",
    "• Наименование вакансии, \n",
    "• Предлагаемую зарплату,\n",
    "• Ссылку на саму вакансию"
   ]
  },
  {
   "cell_type": "code",
   "execution_count": 1,
   "metadata": {},
   "outputs": [],
   "source": [
    "from pprint import pprint\n",
    "import requests\n",
    "import re\n",
    "from bs4 import BeautifulSoup as bs"
   ]
  },
  {
   "cell_type": "code",
   "execution_count": 2,
   "metadata": {},
   "outputs": [],
   "source": [
    "\n",
    "def get_topic():\n",
    "    topic = ('Программист')\n",
    "    return topic\n",
    "\n",
    "def get_link():\n",
    "    link='https://www.superjob.ru/vacancy/search/?keywords='+get_topic()\n",
    "    return link\n",
    "\n",
    "def get_topic_page():\n",
    "    answer = ''\n",
    "    while answer != 'N':\n",
    "        link = get_link()\n",
    "        response = requests.get(link)\n",
    "        if response.ok:\n",
    "            return response.text\n",
    "        else:\n",
    "            answer = input('Такой статьи, кажется, пока нет. Продолжим? Y/N')\n",
    "\n"
   ]
  },
  {
   "cell_type": "code",
   "execution_count": 4,
   "metadata": {},
   "outputs": [],
   "source": [
    "site_text = get_topic_page()            "
   ]
  },
  {
   "cell_type": "code",
   "execution_count": 5,
   "metadata": {},
   "outputs": [],
   "source": [
    "#parsed_site = bs(site_text, 'html.parser')\n",
    "parsed_site = bs(site_text, 'html.parser')"
   ]
  },
  {
   "cell_type": "code",
   "execution_count": 6,
   "metadata": {},
   "outputs": [],
   "source": [
    "rus_words = re.findall(r'[а-яА-Я]+', site_text)\n",
    "#rus_words = re.findall(r'company-item-salary', site_text)"
   ]
  },
  {
   "cell_type": "code",
   "execution_count": 16,
   "metadata": {},
   "outputs": [],
   "source": [
    "#print(rus_words)"
   ]
  },
  {
   "cell_type": "code",
   "execution_count": 18,
   "metadata": {},
   "outputs": [],
   "source": [
    "key_words = ['Python','Java','C++']\n",
    "\n",
    "\n",
    "vacancy_blocks = parsed_site.findAll('div', attrs={'class': '_3zucV _2GPIV i6-sc _3VcZr'})\n",
    "\n",
    "#vacancy_words = re.findall(r'<div class=\"_2g1F-\">(<span class=\"_3mfro.+)', divs_site)\n"
   ]
  },
  {
   "cell_type": "code",
   "execution_count": 9,
   "metadata": {},
   "outputs": [],
   "source": [
    "#pprint(divs_site.contents)"
   ]
  },
  {
   "cell_type": "code",
   "execution_count": 19,
   "metadata": {},
   "outputs": [
    {
     "data": {
      "text/plain": [
       "30"
      ]
     },
     "execution_count": 19,
     "metadata": {},
     "output_type": "execute_result"
    }
   ],
   "source": [
    "len(vacancy_blocks)"
   ]
  },
  {
   "cell_type": "code",
   "execution_count": 22,
   "metadata": {},
   "outputs": [],
   "source": [
    "#vacancy_blocks[0].findChildren()"
   ]
  },
  {
   "cell_type": "code",
   "execution_count": 24,
   "metadata": {},
   "outputs": [
    {
     "name": "stdout",
     "output_type": "stream",
     "text": [
      "/vakansii/veb-programmist-28243219.html\n",
      "/clients/centralnaya-ppk-2874309.html\n",
      "/clients/simbat-161967.html\n",
      "/clients/gazartstroj-2837310.html\n",
      "/vakansii/programmist-1s-32350726.html\n",
      "/vakansii/programmist-1s-30708588.html\n",
      "/clients/fashion-house-731602.html\n",
      "/vakansii/veduschij-programmist-1s-31746539.html\n",
      "/vakansii/web-programmist-29723693.html\n",
      "/vakansii/programmist-delphi-30280217.html\n",
      "/vakansii/php-programmist-30349329.html\n",
      "/vakansii/programmist-s-30350957.html\n",
      "/vakansii/veb-programmist-31375774.html\n",
      "/vakansii/pomoschnik-programmista-1s-31354918.html\n",
      "/clients/ekko-ros-321.html\n",
      "/vakansii/inzhener-programmist-asu-32258177.html\n",
      "/clients/torgovyj-dom-holod-134927.html\n",
      "/clients/torgovyj-dom-holod-134927.html\n",
      "/clients/koncern-kalashnikov-735224.html\n",
      "/clients/imma-medicinskie-kliniki-775772.html\n",
      "/vakansii/inzhener-programmist-16-otdela-32421414.html\n",
      "/vakansii/programmist-1s-32383707.html\n",
      "/vakansii/veduschij-programmist-1c-32081341.html\n",
      "/vakansii/programmist-1s-32050456.html\n",
      "/vakansii/programmist-1s-31642454.html\n",
      "/vakansii/programmist-1s-32368668.html\n",
      "/clients/imejdzhin-veb-3270689.html\n",
      "/vakansii/programmist-1s-32214667.html\n",
      "/vakansii/programmist-1s-32363980.html\n",
      "/vakansii/programmist-1s-32318409.html\n"
     ]
    }
   ],
   "source": [
    "for vacancy in vacancy_blocks:\n",
    "    link = vacancy.find('a')\n",
    "    print(link['href'])"
   ]
  },
  {
   "cell_type": "code",
   "execution_count": null,
   "metadata": {},
   "outputs": [],
   "source": []
  },
  {
   "cell_type": "code",
   "execution_count": null,
   "metadata": {},
   "outputs": [],
   "source": []
  },
  {
   "cell_type": "code",
   "execution_count": null,
   "metadata": {},
   "outputs": [],
   "source": [
    "\n"
   ]
  },
  {
   "cell_type": "code",
   "execution_count": null,
   "metadata": {},
   "outputs": [],
   "source": [
    "def get_words(html_content):\n",
    "    words = re.findall(\"[а-яА-Я]{3,}\",html_content)\n",
    "    return words\n",
    "\n",
    "def get_common_words(topic):\n",
    "    words_list = get_words(topic)\n",
    "    rate={}\n",
    "    for word in words_list:\n",
    "        if word in rate:\n",
    "            rate[word]+=1\n",
    "        else:\n",
    "            rate[word]=1\n",
    "    rate_list = list(rate.items())\n",
    "    rate_list.sort(key = lambda x: -x[1])\n",
    "    return rate_list\n"
   ]
  },
  {
   "cell_type": "code",
   "execution_count": null,
   "metadata": {},
   "outputs": [],
   "source": []
  }
 ],
 "metadata": {
  "kernelspec": {
   "display_name": "Python 3",
   "language": "python",
   "name": "python3"
  },
  "language_info": {
   "codemirror_mode": {
    "name": "ipython",
    "version": 3
   },
   "file_extension": ".py",
   "mimetype": "text/x-python",
   "name": "python",
   "nbconvert_exporter": "python",
   "pygments_lexer": "ipython3",
   "version": "3.7.2"
  }
 },
 "nbformat": 4,
 "nbformat_minor": 2
}
