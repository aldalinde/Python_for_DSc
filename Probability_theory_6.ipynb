{
 "cells": [
  {
   "cell_type": "code",
   "execution_count": 1,
   "metadata": {},
   "outputs": [],
   "source": [
    "import numpy as np\n",
    "from math import factorial"
   ]
  },
  {
   "cell_type": "markdown",
   "metadata": {},
   "source": [
    "Задание 1. Даны значения величины заработной платы заемщиков банка (zp)\n",
    "\n",
    "и значения их поведенческого кредитного скоринга (ks):"
   ]
  },
  {
   "cell_type": "code",
   "execution_count": 2,
   "metadata": {},
   "outputs": [],
   "source": [
    "zp = np.array([35, 45, 190, 200, 40, 70, 54, 150, 120, 110])\n",
    "ks = np.array([401, 574, 874, 919, 459, 739, 653, 902, 746, 832])"
   ]
  },
  {
   "cell_type": "code",
   "execution_count": 3,
   "metadata": {},
   "outputs": [
    {
     "name": "stdout",
     "output_type": "stream",
     "text": [
      "9157.839999999997\n"
     ]
    }
   ],
   "source": [
    "#Найдите ковариацию этих двух величин с помощью элементарных действий, (M[XY] - M[X]*M[Y]):\n",
    "covar_zp_ks = np.mean(zp*ks) - (np.mean(zp) * np.mean(ks))\n",
    "print(covar_zp_ks)"
   ]
  },
  {
   "cell_type": "code",
   "execution_count": 4,
   "metadata": {},
   "outputs": [
    {
     "data": {
      "text/plain": [
       "9157.84"
      ]
     },
     "execution_count": 4,
     "metadata": {},
     "output_type": "execute_result"
    }
   ],
   "source": [
    "# function M[(x_i - M[X]) * (y_i - M[Y])]\n",
    "def covar(a, b):\n",
    "    summa = 0\n",
    "    for i in range(0, len(a)):\n",
    "        summa += ((a[i] -  np.mean(a)) * (b[i] - np.mean(b)))\n",
    "    return summa/(len(a))\n",
    "covar(zp, ks)"
   ]
  },
  {
   "cell_type": "code",
   "execution_count": 5,
   "metadata": {},
   "outputs": [
    {
     "data": {
      "text/plain": [
       "array([[ 3494.64,  9157.84],\n",
       "       [ 9157.84, 30468.89]])"
      ]
     },
     "execution_count": 5,
     "metadata": {},
     "output_type": "execute_result"
    }
   ],
   "source": [
    "#а затем с помощью функции cov из numpy. Полученные значения должны быть равны.\n",
    "np.cov(zp, ks, ddof=0)"
   ]
  },
  {
   "cell_type": "code",
   "execution_count": 6,
   "metadata": {},
   "outputs": [
    {
     "name": "stdout",
     "output_type": "stream",
     "text": [
      "коэффициент корреляции Пирсона =  0.8874900920739162\n"
     ]
    }
   ],
   "source": [
    "#Найдите коэффициент корреляции Пирсона с помощью ковариации и среднеквадратичных отклонений двух признаков,\n",
    "def sigma(arr):\n",
    "    disp = []\n",
    "    for i in arr:\n",
    "        sq_err = (i - np.mean(arr))**2\n",
    "        disp.append(sq_err)\n",
    "    return np.sqrt(np.mean(disp))\n",
    "\n",
    "corr_zp_ks = covar(zp, ks) / (sigma(zp) * sigma(ks))\n",
    "print(\"коэффициент корреляции Пирсона = \", corr_zp_ks)"
   ]
  },
  {
   "cell_type": "code",
   "execution_count": 7,
   "metadata": {},
   "outputs": [
    {
     "data": {
      "text/plain": [
       "0.8874900920739159"
      ]
     },
     "execution_count": 7,
     "metadata": {},
     "output_type": "execute_result"
    }
   ],
   "source": [
    "#а затем с использованием функций из библиотек numpy и pandas.\n",
    "import pandas as pd\n",
    "\n",
    "df_zpks = pd.DataFrame({'zp': zp, 'ks': ks}, columns=['zp','ks'])\n",
    "df_zpks['zp'].corr(df_zpks['ks'])"
   ]
  },
  {
   "cell_type": "code",
   "execution_count": 8,
   "metadata": {},
   "outputs": [
    {
     "data": {
      "text/plain": [
       "(0.8874900920739163, 0.0006107546587257514)"
      ]
     },
     "execution_count": 8,
     "metadata": {},
     "output_type": "execute_result"
    }
   ],
   "source": [
    "from scipy.stats.stats import pearsonr\n",
    "pearsonr(zp, ks)"
   ]
  },
  {
   "cell_type": "markdown",
   "metadata": {},
   "source": [
    "Задание 2. Измерены значения IQ выборки студентов,\n",
    "обучающихся в местных технических вузах:\n",
    "\n",
    "131, 125, 115, 122, 131, 115, 107, 99, 125, 111.\n",
    "\n",
    "Известно, что в генеральной совокупности IQ распределен нормально.\n",
    "\n",
    "Найдите доверительный интервал для математического ожидания с надежностью 0.95."
   ]
  },
  {
   "cell_type": "code",
   "execution_count": 9,
   "metadata": {},
   "outputs": [
    {
     "name": "stdout",
     "output_type": "stream",
     "text": [
      "доверительный интервал для математического ожидания с надежностью 0.95 =  110.94370977419166 , 125.25629022580833\n"
     ]
    }
   ],
   "source": [
    "x2 = np.array([131, 125, 115, 122, 131, 115, 107, 99, 125, 111])\n",
    "n2 = np.size(x2)\n",
    "mean2 = np.mean(x2)\n",
    "confidence2 = 0.95\n",
    "\n",
    "sigma2 = sigma(x2)\n",
    "\n",
    "#coeff_student(degree of freedom(9), confidence(0.95))\n",
    "coeff_student2 = 2.262\n",
    "\n",
    "t2 = coeff_student2 * (sigma2 / np.sqrt(n2))\n",
    "print(\"доверительный интервал для математического ожидания с надежностью 0.95 = \", mean2 - t2, \",\", mean2 + t2)"
   ]
  },
  {
   "cell_type": "markdown",
   "metadata": {},
   "source": [
    "Задание 3. Известно, что рост футболистов в сборной распределен нормально\n",
    "\n",
    "с дисперсией генеральной совокупности, равной 25 кв.см.\n",
    "Объем выборки равен 27, среднее выборочное составляет 174.2.\n",
    "\n",
    "Найдите доверительный интервал для математического ожидания с надежностью 0.95."
   ]
  },
  {
   "cell_type": "code",
   "execution_count": 10,
   "metadata": {},
   "outputs": [
    {
     "name": "stdout",
     "output_type": "stream",
     "text": [
      "значение критерия =  2.3\n",
      "доверительный интервал =  162.7 , 185.7\n"
     ]
    }
   ],
   "source": [
    "dispersion3 = 25\n",
    "sigma3 = np.sqrt(dispersion3)\n",
    "conf = 0.95\n",
    "n3 = 27\n",
    "mean3 = 174.2\n",
    "\n",
    "# Laplas(0,05) \n",
    "criteria_point1 = 2.3\n",
    "print(\"значение критерия = \", criteria_point1)\n",
    "\n",
    "delta = criteria_point1 * sigma3\n",
    "print(\"доверительный интервал = \", mean3 - delta, \",\", mean3 + delta)"
   ]
  }
 ],
 "metadata": {
  "kernelspec": {
   "display_name": "Python 3",
   "language": "python",
   "name": "python3"
  },
  "language_info": {
   "codemirror_mode": {
    "name": "ipython",
    "version": 3
   },
   "file_extension": ".py",
   "mimetype": "text/x-python",
   "name": "python",
   "nbconvert_exporter": "python",
   "pygments_lexer": "ipython3",
   "version": "3.7.2"
  }
 },
 "nbformat": 4,
 "nbformat_minor": 2
}
