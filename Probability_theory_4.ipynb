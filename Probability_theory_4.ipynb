{
 "cells": [
  {
   "cell_type": "markdown",
   "metadata": {},
   "source": [
    "Задание 1. Случайная непрерывная величина A имеет равномерное распределение на промежутке (200, 800]. \n",
    "Найдите ее среднее значение и дисперсию."
   ]
  },
  {
   "cell_type": "code",
   "execution_count": 1,
   "metadata": {},
   "outputs": [],
   "source": [
    "import numpy as np\n",
    "from math import factorial"
   ]
  },
  {
   "cell_type": "code",
   "execution_count": 2,
   "metadata": {},
   "outputs": [
    {
     "name": "stdout",
     "output_type": "stream",
     "text": [
      "среднее значение величины A  =  500.0\n",
      "дисперсия величины A  =  30000.0\n"
     ]
    }
   ],
   "source": [
    "a1 = 200\n",
    "b1 = 800\n",
    "mean1 = (b1+a1)/2\n",
    "dispersion1 = ((b1-a1)**2)/12\n",
    "print(\"среднее значение величины A  = \", mean1)\n",
    "print(\"дисперсия величины A  = \", dispersion1)"
   ]
  },
  {
   "cell_type": "markdown",
   "metadata": {},
   "source": [
    "Задание 2. О случайной непрерывной равномерно распределенной величине B известно, что ее дисперсия равна 0.2.\n",
    "Можно ли найти правую границу величины B и ее среднее значение зная, что левая граница равна 0.5?\n",
    "Если да, найдите ее."
   ]
  },
  {
   "cell_type": "code",
   "execution_count": 3,
   "metadata": {},
   "outputs": [
    {
     "name": "stdout",
     "output_type": "stream",
     "text": [
      "правая граница величины B =  2.049193338482967\n",
      "checking dispersion value =  0.20000000000000004\n",
      "среднее значение величины B  =  1.2745966692414834\n"
     ]
    }
   ],
   "source": [
    "a2 = 0.5\n",
    "dispersion2 = 0.2\n",
    "b2 = np.sqrt(12*dispersion2) + a2\n",
    "print(\"правая граница величины B = \", b2)\n",
    "print(\"checking dispersion value = \", ((b2-a2)**2)/12)\n",
    "mean2 = (b2+a2)/2\n",
    "print(\"среднее значение величины B  = \", mean2)"
   ]
  },
  {
   "cell_type": "markdown",
   "metadata": {},
   "source": [
    "Задание 3. Непрерывная случайная величина X распределена нормально и задана плотностью распределения\n",
    "\n",
    "f(x) = (1 / (4 * sqrt(2*pi))) * (exp(-(x+2)**2) / 32).\n",
    "\n",
    "Найдите:\n",
    "\n",
    "а). M(X)\n",
    "\n",
    "б). D(X)\n",
    "\n",
    "в). std(X) (среднее квадратичное отклонение)"
   ]
  },
  {
   "cell_type": "code",
   "execution_count": 4,
   "metadata": {},
   "outputs": [
    {
     "name": "stdout",
     "output_type": "stream",
     "text": [
      "математическоое ожидание величины Х, М(Х) =  -2\n",
      "дисперсия величины Х, D(Х) = sigma**2, равна  16\n",
      "std(X) (среднее квадратичное отклонение) =  4\n"
     ]
    }
   ],
   "source": [
    "mean3 = -2\n",
    "sigma3 = 4\n",
    "dispersion3 = sigma3**2\n",
    "print(\"математическоое ожидание величины Х, М(Х) = \", mean3)\n",
    "print(\"дисперсия величины Х, D(Х) = sigma**2, равна \", dispersion3)\n",
    "print(\"std(X) (среднее квадратичное отклонение) = \", sigma3)"
   ]
  },
  {
   "cell_type": "markdown",
   "metadata": {},
   "source": [
    "Задание 4) Рост взрослого населения города X имеет нормальное распределение. \n",
    "Причем, средний рост равен 174 см, а среднее квадратичное отклонение равно 8 см.\n",
    "Какова вероятность того, что случайным образом выбранный взрослый человек имеет рост:\n"
   ]
  },
  {
   "cell_type": "code",
   "execution_count": 5,
   "metadata": {},
   "outputs": [],
   "source": [
    "# the step in the instances is sigma = 8 sm => the results should be in accordance\n",
    "def z_trans(x, mu = 174, sigma  = 8):\n",
    "    return (x-mu)/sigma"
   ]
  },
  {
   "cell_type": "code",
   "execution_count": 6,
   "metadata": {},
   "outputs": [
    {
     "name": "stdout",
     "output_type": "stream",
     "text": [
      "1.0\n",
      "вероятность того, что случайным образом выбранный взрослый человек имеет рост больше 182 см: 0.15869999999999995\n"
     ]
    }
   ],
   "source": [
    "# а). больше 182 см => 1 sigma => (100 - 68.2)/2 = 15.9\n",
    "print(z_trans(182))\n",
    "print(\"вероятность того, что случайным образом выбранный взрослый человек имеет рост больше 182 см:\", 1-0.8413)"
   ]
  },
  {
   "cell_type": "code",
   "execution_count": 7,
   "metadata": {},
   "outputs": [
    {
     "name": "stdout",
     "output_type": "stream",
     "text": [
      "2.0\n",
      "вероятность того, что случайным образом выбранный взрослый человек имеет рост больше 190 см: 0.022800000000000042\n"
     ]
    }
   ],
   "source": [
    "# б). больше 190 см\n",
    "print(z_trans(190))\n",
    "print(\"вероятность того, что случайным образом выбранный взрослый человек имеет рост больше 190 см:\", 1-0.9772)"
   ]
  },
  {
   "cell_type": "code",
   "execution_count": 8,
   "metadata": {},
   "outputs": [
    {
     "name": "stdout",
     "output_type": "stream",
     "text": [
      "2.0\n",
      "-1.0\n",
      "вероятность того, что случайным образом выбранный взрослый человек имеет рост от 166 см до 190 см: 0.8185\n"
     ]
    }
   ],
   "source": [
    "#should be 81.8 = -1sigma/1sigma  +  (-2sigma/2sigma minus -1sigma/1sigma)/2 = 68.2 + (95.4 - 68.2)/2\n",
    "# в). от 166 см до 190 см\n",
    "print(z_trans(190))\n",
    "print(z_trans(166))\n",
    "print(\"вероятность того, что случайным образом выбранный взрослый человек имеет рост от 166 см до 190 см:\", 0.9772-0.1587)"
   ]
  },
  {
   "cell_type": "code",
   "execution_count": 9,
   "metadata": {},
   "outputs": [
    {
     "name": "stdout",
     "output_type": "stream",
     "text": [
      "1.0\n",
      "-1.0\n",
      "вероятность того, что случайным образом выбранный взрослый человек имеет рост от 166 см до 182 см: 0.6826000000000001\n"
     ]
    }
   ],
   "source": [
    "# г). от 166 см до 182 см => must be around 68,2 = between -1 sigma and 1 sigma\n",
    "print(z_trans(182))\n",
    "print(z_trans(166))\n",
    "print(\"вероятность того, что случайным образом выбранный взрослый человек имеет рост от 166 см до 182 см:\", 0.8413-0.1587)"
   ]
  },
  {
   "cell_type": "code",
   "execution_count": 10,
   "metadata": {},
   "outputs": [
    {
     "name": "stdout",
     "output_type": "stream",
     "text": [
      "2.0\n",
      "-2.0\n",
      "вероятность того, что случайным образом выбранный взрослый человек имеет рост от 158 см до 190 см: 0.9543999999999999\n"
     ]
    }
   ],
   "source": [
    "# д). от 158 см до 190 см\n",
    "print(z_trans(190))\n",
    "print(z_trans(158))\n",
    "print(\"вероятность того, что случайным образом выбранный взрослый человек имеет рост от 158 см до 190 см:\", 0.9772-0.0228)"
   ]
  },
  {
   "cell_type": "code",
   "execution_count": 11,
   "metadata": {},
   "outputs": [
    {
     "name": "stdout",
     "output_type": "stream",
     "text": [
      "2.0\n",
      "-3.0\n",
      "вероятность того, что рост не выше 150 см или не ниже 190 см: 0.02410000000000004\n"
     ]
    }
   ],
   "source": [
    "# е). не выше 150 см или не ниже 190 см\n",
    "print(z_trans(190))\n",
    "print(z_trans(150))\n",
    "print(\"вероятность того, что рост не выше 150 см или не ниже 190 см:\", 1-0.9772+0.0013)"
   ]
  },
  {
   "cell_type": "code",
   "execution_count": 12,
   "metadata": {},
   "outputs": [
    {
     "name": "stdout",
     "output_type": "stream",
     "text": [
      "3.0\n",
      "-3.0\n",
      "вероятность того, что рост не выше 150 см или не ниже 198 см: 0.0026\n"
     ]
    }
   ],
   "source": [
    "# ё). не выше 150 см или не ниже 198 см\n",
    "print(z_trans(198))\n",
    "print(z_trans(150))\n",
    "print(\"вероятность того, что рост не выше 150 см или не ниже 198 см:\", 0.0013*2)"
   ]
  },
  {
   "cell_type": "code",
   "execution_count": 13,
   "metadata": {},
   "outputs": [
    {
     "name": "stdout",
     "output_type": "stream",
     "text": [
      "-1.0\n",
      "вероятность того, что случайным образом выбранный взрослый человек имеет рост ниже 166 см: 0.1587\n"
     ]
    }
   ],
   "source": [
    "# ж). ниже 166 см.\n",
    "print(z_trans(166))\n",
    "print(\"вероятность того, что случайным образом выбранный взрослый человек имеет рост ниже 166 см:\", 0.1587)"
   ]
  },
  {
   "cell_type": "markdown",
   "metadata": {},
   "source": [
    "Задание 5) На сколько сигм (средних квадратичных отклонений) отклоняется рост человека, равный 190 см, от \n",
    "математического ожидания роста в популяции, в которой M(X) = 178 см и D(X) = 25 кв.см?"
   ]
  },
  {
   "cell_type": "code",
   "execution_count": 14,
   "metadata": {},
   "outputs": [
    {
     "name": "stdout",
     "output_type": "stream",
     "text": [
      "рост человека, равный 190 см, отклоняется на  2.4 сигм\n"
     ]
    }
   ],
   "source": [
    "# calculating sigma, then difference between M(X) and x and dividing it to sigma\n",
    "mu5 = 178\n",
    "d5 = 25\n",
    "sigma5 = np.sqrt(d5)\n",
    "x_5 = 190\n",
    "print(\"рост человека, равный 190 см, отклоняется на \", (x_5-mu5)/sigma5 , \"сигм\") "
   ]
  },
  {
   "cell_type": "code",
   "execution_count": null,
   "metadata": {},
   "outputs": [],
   "source": []
  }
 ],
 "metadata": {
  "kernelspec": {
   "display_name": "Python 3",
   "language": "python",
   "name": "python3"
  },
  "language_info": {
   "codemirror_mode": {
    "name": "ipython",
    "version": 3
   },
   "file_extension": ".py",
   "mimetype": "text/x-python",
   "name": "python",
   "nbconvert_exporter": "python",
   "pygments_lexer": "ipython3",
   "version": "3.7.2"
  }
 },
 "nbformat": 4,
 "nbformat_minor": 2
}
