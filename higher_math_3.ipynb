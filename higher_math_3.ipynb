{
 "cells": [
  {
   "cell_type": "code",
   "execution_count": 1,
   "metadata": {},
   "outputs": [],
   "source": [
    "import numpy as np\n",
    "import matplotlib.pyplot as plt\n",
    "%matplotlib inline"
   ]
  },
  {
   "cell_type": "markdown",
   "metadata": {},
   "source": [
    "5.1.\n",
    "Вычислите, по возможности не используя программирование:\n",
    "(5Е)–1, где Е – единичная матрица размера 5х5."
   ]
  },
  {
   "cell_type": "markdown",
   "metadata": {},
   "source": [
    "1)  E=[[1, 0, 0, 0, 0],\n",
    "       [0, 1, 0, 0, 0],\n",
    "       [0, 0, 1, 0, 0],\n",
    "       [0, 0, 0, 1, 0],\n",
    "       [0, 0, 0, 0, 1]]\n",
    "       \n",
    "2)При умножении матрицы на скаляр умножается каждый элемент. Е*5 - будет матрица той же формы,\n",
    "единицы заменятся на 5.\n",
    "\n",
    "3) Минус 1 =>  каждый элемент - 1:\n",
    "      [[ 4, -1, -1, -1, -1],\n",
    "       [-1,  4, -1, -1, -1],\n",
    "       [-1, -1,  4, -1, -1],\n",
    "       [-1, -1, -1,  4, -1],\n",
    "       [-1, -1, -1, -1,  4]]"
   ]
  },
  {
   "cell_type": "markdown",
   "metadata": {},
   "source": [
    "5.2.\n",
    "Вычислите определитель: [[1, 2, 3], [4, 0, 6], [7, 8, 9]]"
   ]
  },
  {
   "cell_type": "code",
   "execution_count": 2,
   "metadata": {},
   "outputs": [
    {
     "name": "stdout",
     "output_type": "stream",
     "text": [
      "59.999999999999986\n"
     ]
    }
   ],
   "source": [
    "Ar1 = np.array([[1, 2, 3], [4, 0, 6], [7, 8, 9]])\n",
    "det1 = np.linalg.det(Ar1)\n",
    "print(det1)"
   ]
  },
  {
   "cell_type": "markdown",
   "metadata": {},
   "source": [
    "5.3.\n",
    "1. Вычислите матрицу, обратную данной: [[1, 2, 3], [4, 0, 6], [7, 8, 9]]"
   ]
  },
  {
   "cell_type": "code",
   "execution_count": 3,
   "metadata": {},
   "outputs": [
    {
     "name": "stdout",
     "output_type": "stream",
     "text": [
      "[[-0.8         0.1         0.2       ]\n",
      " [ 0.1        -0.2         0.1       ]\n",
      " [ 0.53333333  0.1        -0.13333333]]\n"
     ]
    }
   ],
   "source": [
    "I1 = np.linalg.inv(Ar1)\n",
    "print(I1)"
   ]
  },
  {
   "cell_type": "markdown",
   "metadata": {},
   "source": [
    "2. Приведите пример матрицы 4х4, ранг которой равен 1."
   ]
  },
  {
   "cell_type": "code",
   "execution_count": 4,
   "metadata": {},
   "outputs": [
    {
     "data": {
      "text/plain": [
       "1"
      ]
     },
     "execution_count": 4,
     "metadata": {},
     "output_type": "execute_result"
    }
   ],
   "source": [
    "R1 = np.array([[2, 5, 3, 8],\n",
    "               [-4, -10, -6, -16],\n",
    "               [1, 2.5, 1.5, 4],\n",
    "               [-1, -2.5, -1.5, -4]])\n",
    "np.linalg.matrix_rank(R1)"
   ]
  },
  {
   "cell_type": "markdown",
   "metadata": {},
   "source": [
    "5.4.\n",
    "Вычислите скалярное произведение двух векторов:  \n",
    "(1, 5)  и  (2, 8)"
   ]
  },
  {
   "cell_type": "code",
   "execution_count": 5,
   "metadata": {},
   "outputs": [],
   "source": [
    "#(1, 5)*(2, 8) = 1*2 + 5*8 = 42"
   ]
  },
  {
   "cell_type": "markdown",
   "metadata": {},
   "source": [
    "5.5\n",
    "Вычислите смешанное произведение трех векторов:\n",
    "(1, 5, 0), (2, 8, 7) и (7, 1.5, 3) \n"
   ]
  },
  {
   "cell_type": "code",
   "execution_count": 6,
   "metadata": {},
   "outputs": [
    {
     "data": {
      "text/plain": [
       "array([[1. , 5. , 0. ],\n",
       "       [2. , 8. , 7. ],\n",
       "       [7. , 1.5, 3. ]])"
      ]
     },
     "execution_count": 6,
     "metadata": {},
     "output_type": "execute_result"
    }
   ],
   "source": [
    "a = np.array([1, 5, 0])\n",
    "b = np.array([2, 8, 7])\n",
    "c = np.array([7, 1.5, 3])\n",
    "M = np.vstack((a,b,c))\n",
    "M"
   ]
  },
  {
   "cell_type": "code",
   "execution_count": 7,
   "metadata": {},
   "outputs": [
    {
     "data": {
      "text/plain": [
       "228.50000000000009"
      ]
     },
     "execution_count": 7,
     "metadata": {},
     "output_type": "execute_result"
    }
   ],
   "source": [
    "np.linalg.det(M)"
   ]
  },
  {
   "cell_type": "code",
   "execution_count": 8,
   "metadata": {},
   "outputs": [],
   "source": [
    "# Cмешанное произведение трех векторов: (1, 5, 0), (2, 8, 7) и (7, 1.5, 3) = 228.5"
   ]
  },
  {
   "cell_type": "markdown",
   "metadata": {},
   "source": [
    "6.1. Решите линейную систему: [[1, 2, 3], [4, 0, 6], [7, 8, 9]] * X = [12,2,1]"
   ]
  },
  {
   "cell_type": "code",
   "execution_count": 9,
   "metadata": {},
   "outputs": [],
   "source": [
    "#Решение методом подстановки:\n",
    "\n",
    "#    x1 + 2*x2 + 3*x3 = 12\n",
    "#    4*x1 + 6*x3 = 2\n",
    "#    7*x1 + 8*x2 + 9*x3 = 1\n",
    "    \n",
    "#x1 = -46/5 = -9.2\n",
    "#x2 = 9/10 = 0.9\n",
    "#x3 = 97/15 = 6.4666666667"
   ]
  },
  {
   "cell_type": "code",
   "execution_count": 10,
   "metadata": {},
   "outputs": [
    {
     "data": {
      "text/plain": [
       "array([-9.2       ,  0.9       ,  6.46666667])"
      ]
     },
     "execution_count": 10,
     "metadata": {},
     "output_type": "execute_result"
    }
   ],
   "source": [
    "# решение средствами python\n",
    "B = np.array([12,2,1])\n",
    "np.linalg.solve(Ar1, B)"
   ]
  },
  {
   "cell_type": "markdown",
   "metadata": {},
   "source": [
    "6.2. Найдите псевдорешение:\n",
    "\n",
    "x + 2y – z = 1\n",
    "\n",
    "3x – 4y = 7\n",
    "\n",
    "8x – 5y + 2z = 12\n",
    "\n",
    "2x – 5z = 7\n",
    "\n",
    "11x +4y – 7z = 15"
   ]
  },
  {
   "cell_type": "code",
   "execution_count": 11,
   "metadata": {},
   "outputs": [],
   "source": [
    "Ar2 = np.array([[1, 2, -1], [3, -4, 0], [8, -5, 2], [2, 0, -5], [11, 4, -7]])\n",
    "B2 = np.array([1, 7, 12, 7, 15])"
   ]
  },
  {
   "cell_type": "code",
   "execution_count": 12,
   "metadata": {},
   "outputs": [
    {
     "name": "stderr",
     "output_type": "stream",
     "text": [
      "C:\\Users\\Армик\\AppData\\Local\\Programs\\Python\\Python37\\lib\\site-packages\\ipykernel_launcher.py:1: FutureWarning: `rcond` parameter will change to the default of machine precision times ``max(M, N)`` where M and N are the input matrix dimensions.\n",
      "To use the future default and silence this warning we advise to pass `rcond=None`, to keep using the old, explicitly pass `rcond=-1`.\n",
      "  \"\"\"Entry point for launching an IPython kernel.\n"
     ]
    },
    {
     "data": {
      "text/plain": [
       "(array([ 1.13919353, -0.90498444, -0.9009803 ]),\n",
       " array([0.71523211]),\n",
       " 3,\n",
       " array([15.2817306 ,  9.59852942,  3.65197794]))"
      ]
     },
     "execution_count": 12,
     "metadata": {},
     "output_type": "execute_result"
    }
   ],
   "source": [
    "np.linalg.lstsq(Ar2, B2)"
   ]
  },
  {
   "cell_type": "code",
   "execution_count": 13,
   "metadata": {},
   "outputs": [],
   "source": [
    "check = np.dot(Ar2, [ 1.13919353, -0.90498444, -0.9009803 ])"
   ]
  },
  {
   "cell_type": "code",
   "execution_count": 14,
   "metadata": {},
   "outputs": [
    {
     "data": {
      "text/plain": [
       "array([-0.76979505,  0.03751835, -0.16349016, -0.21671144,  0.21805317])"
      ]
     },
     "execution_count": 14,
     "metadata": {},
     "output_type": "execute_result"
    }
   ],
   "source": [
    "check - B2"
   ]
  },
  {
   "cell_type": "markdown",
   "metadata": {},
   "source": [
    "6.3. Сколько решений имеет линейная система:\n",
    "    [[1, 2, 3],\n",
    "     [4, 5, 6], \n",
    "     [7, 8, 9]]\n",
    "     * X =\n",
    "     [12, 2, 1]"
   ]
  },
  {
   "cell_type": "code",
   "execution_count": 15,
   "metadata": {},
   "outputs": [
    {
     "name": "stdout",
     "output_type": "stream",
     "text": [
      "2 3\n"
     ]
    }
   ],
   "source": [
    "Ar3 = np.array([[1, 2, 3],\n",
    "                [4, 5, 6],\n",
    "                [7, 8, 9]])\n",
    "B3 = np.array([[12, 2, 1]])\n",
    "C3 = np.concatenate((Ar3, B3.T), axis=1)\n",
    "print(np.linalg.matrix_rank(Ar3), np.linalg.matrix_rank(C3))"
   ]
  },
  {
   "cell_type": "markdown",
   "metadata": {},
   "source": [
    "Если ноль – то измените вектор правой части так, чтобы система стала совместной, и решите ее. "
   ]
  },
  {
   "cell_type": "code",
   "execution_count": 16,
   "metadata": {},
   "outputs": [],
   "source": [
    "Ar3 = np.array([[1, 2, 3],\n",
    "                [4, 5, 6],\n",
    "                [7, 8, 9]])\n",
    "B3_1 = np.array([4, 7, 10])"
   ]
  },
  {
   "cell_type": "code",
   "execution_count": 17,
   "metadata": {},
   "outputs": [
    {
     "data": {
      "text/plain": [
       "array([-2.,  3.,  0.])"
      ]
     },
     "execution_count": 17,
     "metadata": {},
     "output_type": "execute_result"
    }
   ],
   "source": [
    "np.linalg.solve(Ar3, B3_1)"
   ]
  },
  {
   "cell_type": "code",
   "execution_count": 18,
   "metadata": {},
   "outputs": [],
   "source": [
    "import scipy\n",
    "import scipy.linalg"
   ]
  },
  {
   "cell_type": "markdown",
   "metadata": {},
   "source": [
    "6.4. Вычислите LU-разложение матрицы:\n",
    "               [[1, 2, 3],\n",
    "                [2, 16, 21],\n",
    "                [4, 28, 73]]"
   ]
  },
  {
   "cell_type": "code",
   "execution_count": 19,
   "metadata": {},
   "outputs": [
    {
     "name": "stdout",
     "output_type": "stream",
     "text": [
      "Matrix L =  [[ 1.    0.    0.  ]\n",
      " [ 0.25  1.    0.  ]\n",
      " [ 0.5  -0.4   1.  ]]\n",
      "Matrix U =  [[  4.    28.    73.  ]\n",
      " [  0.    -5.   -15.25]\n",
      " [  0.     0.   -21.6 ]]\n"
     ]
    }
   ],
   "source": [
    "Ar4 = np.array([[1, 2, 3],\n",
    "                [2, 16, 21],\n",
    "                [4, 28, 73]])\n",
    "P, L, U = scipy.linalg.lu(Ar4)\n",
    "print('Matrix L = ', L)\n",
    "print('Matrix U = ', U)"
   ]
  },
  {
   "cell_type": "code",
   "execution_count": 20,
   "metadata": {},
   "outputs": [
    {
     "data": {
      "text/plain": [
       "array([ 3., -0., -0.])"
      ]
     },
     "execution_count": 20,
     "metadata": {},
     "output_type": "execute_result"
    }
   ],
   "source": [
    "B4 = np.array([3, 6, 12])\n",
    "np.linalg.solve(Ar4, B4)"
   ]
  },
  {
   "cell_type": "markdown",
   "metadata": {},
   "source": [
    "6.5. Найдите нормальное псевдорешение недоопределенной системы:\n",
    "\n",
    "x + 2y – z = 1\n",
    "\n",
    "8x – 5y + 2z = 12"
   ]
  },
  {
   "cell_type": "code",
   "execution_count": null,
   "metadata": {},
   "outputs": [],
   "source": []
  }
 ],
 "metadata": {
  "kernelspec": {
   "display_name": "Python 3",
   "language": "python",
   "name": "python3"
  },
  "language_info": {
   "codemirror_mode": {
    "name": "ipython",
    "version": 3
   },
   "file_extension": ".py",
   "mimetype": "text/x-python",
   "name": "python",
   "nbconvert_exporter": "python",
   "pygments_lexer": "ipython3",
   "version": "3.7.2"
  }
 },
 "nbformat": 4,
 "nbformat_minor": 2
}
