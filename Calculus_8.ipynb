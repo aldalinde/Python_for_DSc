{
 "cells": [
  {
   "cell_type": "markdown",
   "metadata": {},
   "source": [
    " Производные функций нескольких переменных\n",
    " Найти частные производные первого и второго порядка; yбедиться в равенстве смешанных производных:"
   ]
  },
  {
   "cell_type": "markdown",
   "metadata": {},
   "source": [
    "1.\n",
    "$$ U = x^3 + 3xy^2 + z^2 - 39x - 36y + 2z +26 $$"
   ]
  },
  {
   "cell_type": "markdown",
   "metadata": {},
   "source": [
    "$$ U'_x = 3x^2 + 3y^2 - 39 $$"
   ]
  },
  {
   "cell_type": "markdown",
   "metadata": {},
   "source": [
    "$$ U''_x = 6x $$"
   ]
  },
  {
   "cell_type": "markdown",
   "metadata": {},
   "source": [
    "$$ U'_y = 6xy - 36 $$"
   ]
  },
  {
   "cell_type": "markdown",
   "metadata": {},
   "source": [
    "$$ U''_y = 6x $$"
   ]
  },
  {
   "cell_type": "markdown",
   "metadata": {},
   "source": [
    "$$ U'z = 2z+2 $$"
   ]
  },
  {
   "cell_type": "markdown",
   "metadata": {},
   "source": [
    "$$ U''_z = 2 $$"
   ]
  },
  {
   "cell_type": "markdown",
   "metadata": {},
   "source": [
    "$$ U''_{xy} = (3x^2 + 3y^2 - 39)'_y = U''_{yx} = (6xy - 36)'_x = 6y $$"
   ]
  },
  {
   "cell_type": "markdown",
   "metadata": {},
   "source": [
    "$$ U''_{zy} = (2𝑧+2)'_y = U''_{yz} = (6𝑥𝑦−36)'_z = 0 $$"
   ]
  },
  {
   "cell_type": "markdown",
   "metadata": {},
   "source": [
    "$$ U''_{zx} = (2z + 2)'_x = U''_{xz} = ( 3x^2 + 3y^2 - 39 )'_z = 0 $$"
   ]
  },
  {
   "cell_type": "markdown",
   "metadata": {},
   "source": [
    "2.\n",
    "$$ U = \\frac{256}{x} + \\frac{x^2}{y} + \\frac{y^2}{z} + z^2 = 256x^{-1} + x^2y^{-1} + y^2z^{-1} +z^2 $$"
   ]
  },
  {
   "cell_type": "markdown",
   "metadata": {},
   "source": [
    "$$ U'_x = -256x^{-2} + 2xy^{-1}$$"
   ]
  },
  {
   "cell_type": "markdown",
   "metadata": {},
   "source": [
    "$$ U''_x = 512x^{-3} + 2y^{-1} $$ "
   ]
  },
  {
   "cell_type": "markdown",
   "metadata": {},
   "source": [
    "$$ U'_y = -x^2y^{-2} + 2yz^{-1} $$"
   ]
  },
  {
   "cell_type": "markdown",
   "metadata": {},
   "source": [
    "$$ U''_y = 2x^2y^{-3} + 2z^{-1}$$"
   ]
  },
  {
   "cell_type": "markdown",
   "metadata": {},
   "source": [
    "$$ U'_z = -y^2z^{-2} + 2z $$"
   ]
  },
  {
   "cell_type": "markdown",
   "metadata": {},
   "source": [
    "$$ U''_z = 2y^2z^{-3} +2$$"
   ]
  },
  {
   "cell_type": "markdown",
   "metadata": {},
   "source": [
    "$$ U''_{xy} = (-256x^{-2} + 2xy^{-1})'_y = U''_{yx} = (-x^2y^{-2} + 2yz^{-1})'_x =  -2xy^{-2} $$"
   ]
  },
  {
   "cell_type": "markdown",
   "metadata": {},
   "source": [
    "$$ U''_{xz} = (-256x^{-2} + 2xy^{-1})'_z = U''_{zx} = (-y^2z^{-2} + 2z)'_x =  0 $$"
   ]
  },
  {
   "cell_type": "markdown",
   "metadata": {},
   "source": [
    "$$ U''_{yz} = (-x^2y^{-2} + 2yz^{-1})'_z = U''_{zy} = (-y^2z^{-2} + 2z)'_y =  -2yz^{-2}  $$"
   ]
  },
  {
   "cell_type": "markdown",
   "metadata": {},
   "source": [
    "3.\n",
    "Найти производную функции\n",
    "$$ 𝑈 = 𝑥^2 + 𝑦^2 + 𝑧^2 $$\n",
    "по направлению вектора 𝑐 (−9, 8, −12) в точку 𝑀(8; −12; 9)"
   ]
  },
  {
   "cell_type": "code",
   "execution_count": 11,
   "metadata": {},
   "outputs": [],
   "source": [
    "import numpy as np"
   ]
  },
  {
   "cell_type": "code",
   "execution_count": 13,
   "metadata": {},
   "outputs": [
    {
     "data": {
      "text/plain": [
       "17.0"
      ]
     },
     "execution_count": 13,
     "metadata": {},
     "output_type": "execute_result"
    }
   ],
   "source": [
    "c = np.sqrt((-9)**2 + 8**2 + (-12)**2)\n",
    "c"
   ]
  },
  {
   "cell_type": "markdown",
   "metadata": {},
   "source": [
    "$$ c_0 = (\\frac{-9}{17}, \\frac{8}{17}, \\frac{-12}{17}) $$"
   ]
  },
  {
   "cell_type": "markdown",
   "metadata": {},
   "source": [
    "$$ gradU = (2x, 2y, 2z), gradU|_{(8; −12; 9)}  = (16, -24, 18)$$"
   ]
  },
  {
   "cell_type": "markdown",
   "metadata": {},
   "source": [
    "$$ U'_c = (c_0 \\cdot gradU)$$"
   ]
  },
  {
   "cell_type": "code",
   "execution_count": 27,
   "metadata": {},
   "outputs": [
    {
     "name": "stdout",
     "output_type": "stream",
     "text": [
      "производная функции U по направлению вектора 𝑐(−9,8,−12) в 𝑀(8;−12;9) = -552/17 = -32.470588235294116\n"
     ]
    }
   ],
   "source": [
    "u_c1= (-9)*16 + 8*(-24) + (-12)*18\n",
    "u_c = u_c1/17\n",
    "print(f\"производная функции U по направлению вектора 𝑐(−9,8,−12) в 𝑀(8;−12;9) = {u_c1}/17 = {u_c}\")"
   ]
  },
  {
   "cell_type": "markdown",
   "metadata": {},
   "source": [
    "4. Найти производную функции\n",
    "$$ 𝑈 = 𝑒^{𝑥^2+𝑦^2+𝑧^2} $$\n",
    "по направлению вектора 𝑑 (4, −13, −16) в точку 𝐿(−16; 4; −13)."
   ]
  },
  {
   "cell_type": "markdown",
   "metadata": {},
   "source": [
    "$$ gradU = (2x \\cdot e^{(x^2 + y^2 + z^2)}, 2y \\cdot e^{(x^2 + y^2 + z^2)}, 2z \\cdot e^{(x^2 + y^2 + z^2)})$$"
   ]
  },
  {
   "cell_type": "code",
   "execution_count": 36,
   "metadata": {},
   "outputs": [
    {
     "name": "stdout",
     "output_type": "stream",
     "text": [
      "градиент в направлении 𝐿(−16; 4; −13) = (-1.0690954904511693e+193,2.672738726127923e+192,-8.68640085991575e+192)\n"
     ]
    }
   ],
   "source": [
    "#gradU|_{(−16; 4; −13)}  = (16, -24, 18)\n",
    "def deriv(x_target, y, z):\n",
    "    a = np.e**(x_target**2+ y**2+z**2)\n",
    "    return x_target*2*a\n",
    "grad_x = deriv(-16, 4, -13)\n",
    "grad_y = deriv(4, 16, -13)\n",
    "grad_z = deriv(-13, 4, -16)\n",
    "print(f\"градиент в направлении 𝐿(−16; 4; −13) = ({grad_x},{grad_y},{grad_z})\")"
   ]
  },
  {
   "cell_type": "code",
   "execution_count": 34,
   "metadata": {},
   "outputs": [
    {
     "data": {
      "text/plain": [
       "21.0"
      ]
     },
     "execution_count": 34,
     "metadata": {},
     "output_type": "execute_result"
    }
   ],
   "source": [
    "d = np.sqrt((-13)**2 + 4**2 + (-16)**2)\n",
    "d"
   ]
  },
  {
   "cell_type": "markdown",
   "metadata": {},
   "source": [
    "$$d_0 = (\\frac{4}{21}, \\frac{-13}{21}, \\frac{-16}{21}) $$"
   ]
  },
  {
   "cell_type": "code",
   "execution_count": 38,
   "metadata": {},
   "outputs": [
    {
     "name": "stdout",
     "output_type": "stream",
     "text": [
      "производная функции U по направлению вектора 𝑑(4,−13,−16) в 𝐿(−16;4;−13) = 6.147299070094223e+193/21 = 2.9272852714734396e+192\n"
     ]
    }
   ],
   "source": [
    "u_d1= 4*grad_x + (-13)*grad_y + (-16)*grad_z\n",
    "u_d = u_d1/21\n",
    "print(f\"производная функции U по направлению вектора 𝑑(4,−13,−16) в 𝐿(−16;4;−13) = {u_d1}/21 = {u_d}\")"
   ]
  },
  {
   "cell_type": "markdown",
   "metadata": {},
   "source": [
    "*5.Найти производную функции\n",
    "$$ 𝑈 = log_{21}(𝑥^2 + 𝑦^2 + 𝑧^2) $$\n",
    "в точку 𝐹 −19; 8; −4 по самому быстрому направлению."
   ]
  },
  {
   "cell_type": "markdown",
   "metadata": {},
   "source": [
    "$$ gradU = (\\frac{1}{21ln{(𝑥^2 + 𝑦^2 + 𝑧^2)}} \\cdot 2x, \\frac{1}{21ln{(𝑥^2 + 𝑦^2 + 𝑧^2)}} \\cdot 2y,\\frac{1}{21ln{(𝑥^2 + 𝑦^2 + 𝑧^2)}} \\cdot 2z )$$"
   ]
  },
  {
   "cell_type": "code",
   "execution_count": null,
   "metadata": {},
   "outputs": [],
   "source": [
    " "
   ]
  }
 ],
 "metadata": {
  "kernelspec": {
   "display_name": "Python 3",
   "language": "python",
   "name": "python3"
  },
  "language_info": {
   "codemirror_mode": {
    "name": "ipython",
    "version": 3
   },
   "file_extension": ".py",
   "mimetype": "text/x-python",
   "name": "python",
   "nbconvert_exporter": "python",
   "pygments_lexer": "ipython3",
   "version": "3.7.2"
  }
 },
 "nbformat": 4,
 "nbformat_minor": 2
}
