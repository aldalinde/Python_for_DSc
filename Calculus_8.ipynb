{
 "cells": [
  {
   "cell_type": "markdown",
   "metadata": {},
   "source": [
    " Производные функций нескольких переменных\n",
    " Найти частные производные первого и второго порядка; yбедиться в равенстве смешанных производных:"
   ]
  },
  {
   "cell_type": "markdown",
   "metadata": {},
   "source": [
    "1.\n",
    "$$ U = x^3 + 3xy^2 + z^2 - 39x - 36y + 2z +26 $$"
   ]
  },
  {
   "cell_type": "markdown",
   "metadata": {},
   "source": [
    "$$ U'_x = 3x^2 + 3y^2 - 39 $$"
   ]
  },
  {
   "cell_type": "markdown",
   "metadata": {},
   "source": [
    "$$ U''_x = 6x $$"
   ]
  },
  {
   "cell_type": "markdown",
   "metadata": {},
   "source": [
    "$$ U'_y = 6xy - 36 $$"
   ]
  },
  {
   "cell_type": "markdown",
   "metadata": {},
   "source": [
    "$$ U''_y = 6x $$"
   ]
  },
  {
   "cell_type": "markdown",
   "metadata": {},
   "source": [
    "$$ U'z = 2z+2 $$"
   ]
  },
  {
   "cell_type": "markdown",
   "metadata": {},
   "source": [
    "$$ U''_z = 2 $$"
   ]
  },
  {
   "cell_type": "markdown",
   "metadata": {},
   "source": [
    "$$ U''_{xy} = (3x^2 + 3y^2 - 39)'_y = U''_{yx} = (6xy - 36)'_x = 6y $$"
   ]
  },
  {
   "cell_type": "markdown",
   "metadata": {},
   "source": [
    "$$ U''_{zy} = (2𝑧+2)'_y = U''_{yz} = (6𝑥𝑦−36)'_z = 0 $$"
   ]
  },
  {
   "cell_type": "markdown",
   "metadata": {},
   "source": [
    "$$ U''_{zx} = (2z + 2)'_x = U''_{xz} = ( 3x^2 + 3y^2 - 39 )'_z = 0 $$"
   ]
  },
  {
   "cell_type": "markdown",
   "metadata": {},
   "source": [
    "2.\n",
    "$$ U = \\frac{256}{x} + \\frac{x^2}{y} + \\frac{y^2}{z} + z^2 = 256x^{-1} + x^2y^{-1} + y^2z^{-1} +z^2 $$"
   ]
  },
  {
   "cell_type": "markdown",
   "metadata": {},
   "source": [
    "$$ U'_x = -256x^{-2} + 2xy^{-1}$$"
   ]
  },
  {
   "cell_type": "markdown",
   "metadata": {},
   "source": [
    "$$ U''_x = 512x^{-3} + 2y^{-1} $$ "
   ]
  },
  {
   "cell_type": "markdown",
   "metadata": {},
   "source": [
    "$$ U'_y = -x^2y^{-2} + 2yz^{-1} $$"
   ]
  },
  {
   "cell_type": "markdown",
   "metadata": {},
   "source": [
    "$$ U''_y = 2x^2y^{-3} + 2z^{-1}$$"
   ]
  },
  {
   "cell_type": "markdown",
   "metadata": {},
   "source": [
    "$$ U'_z = -y^2z^{-2} + 2z $$"
   ]
  },
  {
   "cell_type": "markdown",
   "metadata": {},
   "source": [
    "$$ U''_z = 2y^2z^{-3} +2$$"
   ]
  },
  {
   "cell_type": "markdown",
   "metadata": {},
   "source": [
    "$$ U''_{xy} = (-256x^{-2} + 2xy^{-1})'_y = U''_{yx} = (-x^2y^{-2} + 2yz^{-1})'_x =  -2xy^{-2} $$"
   ]
  },
  {
   "cell_type": "markdown",
   "metadata": {},
   "source": [
    "$$ U''_{xz} = (-256x^{-2} + 2xy^{-1})'_z = U''_{zx} = (-y^2z^{-2} + 2z)'_x =  0 $$"
   ]
  },
  {
   "cell_type": "markdown",
   "metadata": {},
   "source": [
    "$$ U''_{yz} = (-x^2y^{-2} + 2yz^{-1})'_z = U''_{zy} = (-y^2z^{-2} + 2z)'_y =  -2yz^{-2}  $$"
   ]
  },
  {
   "cell_type": "markdown",
   "metadata": {},
   "source": [
    "3.\n",
    "Найти производную функции"
   ]
  },
  {
   "cell_type": "markdown",
   "metadata": {},
   "source": [
    "$$ 𝑈 = 𝑥^2 + 𝑦^2 + 𝑧^2 $$"
   ]
  },
  {
   "cell_type": "markdown",
   "metadata": {},
   "source": [
    "по направлению вектора 𝑐 (−9, 8, −12) в точку 𝑀(8; −12; 9)"
   ]
  },
  {
   "cell_type": "code",
   "execution_count": 1,
   "metadata": {},
   "outputs": [],
   "source": [
    "import numpy as np"
   ]
  },
  {
   "cell_type": "code",
   "execution_count": 2,
   "metadata": {},
   "outputs": [
    {
     "data": {
      "text/plain": [
       "17.0"
      ]
     },
     "execution_count": 2,
     "metadata": {},
     "output_type": "execute_result"
    }
   ],
   "source": [
    "c = np.sqrt((-9)**2 + 8**2 + (-12)**2)\n",
    "c"
   ]
  },
  {
   "cell_type": "markdown",
   "metadata": {},
   "source": [
    "$$ c_0 = (\\frac{-9}{17}, \\frac{8}{17}, \\frac{-12}{17}) $$"
   ]
  },
  {
   "cell_type": "markdown",
   "metadata": {},
   "source": [
    "$$ gradU = (2x, 2y, 2z), gradU|_{(8; −12; 9)}  = (16, -24, 18)$$"
   ]
  },
  {
   "cell_type": "markdown",
   "metadata": {},
   "source": [
    "$$ U'_c = (c_0 \\cdot gradU)$$"
   ]
  },
  {
   "cell_type": "code",
   "execution_count": 3,
   "metadata": {},
   "outputs": [
    {
     "name": "stdout",
     "output_type": "stream",
     "text": [
      "производная функции U по направлению вектора 𝑐(−9,8,−12) в 𝑀(8;−12;9) = -552/17 = -32.470588235294116\n"
     ]
    }
   ],
   "source": [
    "u_c1= (-9)*16 + 8*(-24) + (-12)*18\n",
    "u_c = u_c1/17\n",
    "print(f\"производная функции U по направлению вектора 𝑐(−9,8,−12) в 𝑀(8;−12;9) = {u_c1}/17 = {u_c}\")"
   ]
  },
  {
   "cell_type": "markdown",
   "metadata": {},
   "source": [
    "4. Найти производную функции\n",
    "$$ 𝑈 = 𝑒^{𝑥^2+𝑦^2+𝑧^2} $$\n",
    "по направлению вектора 𝑑 (4, −13, −16) в точку 𝐿(−16; 4; −13)."
   ]
  },
  {
   "cell_type": "markdown",
   "metadata": {},
   "source": [
    "$$ gradU = (2x \\cdot e^{(x^2 + y^2 + z^2)}, 2y \\cdot e^{(x^2 + y^2 + z^2)}, 2z \\cdot e^{(x^2 + y^2 + z^2)})$$"
   ]
  },
  {
   "cell_type": "code",
   "execution_count": 4,
   "metadata": {},
   "outputs": [
    {
     "name": "stdout",
     "output_type": "stream",
     "text": [
      "градиент в направлении 𝐿(−16; 4; −13) = (-1.0690954904511693e+193,2.672738726127923e+192,-8.68640085991575e+192)\n"
     ]
    }
   ],
   "source": [
    "#gradU|_{(−16; 4; −13)}\n",
    "def deriv(x_target, y, z):\n",
    "    a = np.e**(x_target**2+ y**2+z**2)\n",
    "    return x_target*2*a\n",
    "grad_x = deriv(-16, 4, -13)\n",
    "grad_y = deriv(4, 16, -13)\n",
    "grad_z = deriv(-13, 4, -16)\n",
    "print(f\"градиент в направлении 𝐿(−16; 4; −13) = ({grad_x},{grad_y},{grad_z})\")"
   ]
  },
  {
   "cell_type": "code",
   "execution_count": 5,
   "metadata": {},
   "outputs": [
    {
     "data": {
      "text/plain": [
       "21.0"
      ]
     },
     "execution_count": 5,
     "metadata": {},
     "output_type": "execute_result"
    }
   ],
   "source": [
    "d = np.sqrt((-13)**2 + 4**2 + (-16)**2)\n",
    "d"
   ]
  },
  {
   "cell_type": "markdown",
   "metadata": {},
   "source": [
    "$$d_0 = (\\frac{4}{21}, \\frac{-13}{21}, \\frac{-16}{21}) $$"
   ]
  },
  {
   "cell_type": "code",
   "execution_count": 6,
   "metadata": {},
   "outputs": [
    {
     "name": "stdout",
     "output_type": "stream",
     "text": [
      "производная функции U по направлению вектора 𝑑(4,−13,−16) в 𝐿(−16;4;−13) = 6.147299070094223e+193/21 = 2.9272852714734396e+192\n"
     ]
    }
   ],
   "source": [
    "u_d1= 4*grad_x + (-13)*grad_y + (-16)*grad_z\n",
    "u_d = u_d1/21\n",
    "print(f\"производная функции U по направлению вектора 𝑑(4,−13,−16) в 𝐿(−16;4;−13) = {u_d1}/21 = {u_d}\")"
   ]
  },
  {
   "cell_type": "markdown",
   "metadata": {},
   "source": [
    "*5.Найти производную функции\n",
    "$$ 𝑈 = log_{21}(𝑥^2 + 𝑦^2 + 𝑧^2) $$\n",
    "в точку 𝐹 −19; 8; −4 по самому быстрому направлению."
   ]
  },
  {
   "cell_type": "markdown",
   "metadata": {},
   "source": [
    "$$ gradU = (\\frac{1}{21ln{(𝑥^2 + 𝑦^2 + 𝑧^2)}} \\cdot 2x, \\frac{1}{21ln{(𝑥^2 + 𝑦^2 + 𝑧^2)}} \\cdot 2y,\\frac{1}{21ln{(𝑥^2 + 𝑦^2 + 𝑧^2)}} \\cdot 2z )$$"
   ]
  },
  {
   "cell_type": "code",
   "execution_count": 7,
   "metadata": {},
   "outputs": [
    {
     "name": "stdout",
     "output_type": "stream",
     "text": [
      "градиент U в точку 𝐹 −19; 8; −4  = (-1.2695508949107634e+193,5.345477452255846e+192,-2.672738726127923e+192)\n"
     ]
    }
   ],
   "source": [
    "def deriv1(x_target, y, z):\n",
    "    a = 21* (np.ln(x_target**2+ y**2+z**2))\n",
    "    return  x_target*2/a\n",
    "grad_x1 = deriv(-19, 8, -4)\n",
    "grad_y1 = deriv(8, -19, 4)\n",
    "grad_z1 = deriv(-4, 8, -19)\n",
    "print(f\"градиент U в точку 𝐹 −19; 8; −4  = ({grad_x1},{grad_y1},{grad_z1})\")"
   ]
  },
  {
   "cell_type": "code",
   "execution_count": 8,
   "metadata": {},
   "outputs": [
    {
     "ename": "OverflowError",
     "evalue": "(34, 'Result too large')",
     "output_type": "error",
     "traceback": [
      "\u001b[0;31m---------------------------------------------------------------------------\u001b[0m",
      "\u001b[0;31mOverflowError\u001b[0m                             Traceback (most recent call last)",
      "\u001b[0;32m<ipython-input-8-d0aecc58bc63>\u001b[0m in \u001b[0;36m<module>\u001b[0;34m()\u001b[0m\n\u001b[0;32m----> 1\u001b[0;31m \u001b[0mgrad_0x\u001b[0m \u001b[0;34m=\u001b[0m \u001b[0mgrad_x1\u001b[0m \u001b[0;34m/\u001b[0m \u001b[0mnp\u001b[0m\u001b[0;34m.\u001b[0m\u001b[0msqrt\u001b[0m\u001b[0;34m(\u001b[0m\u001b[0mgrad_x1\u001b[0m\u001b[0;34m**\u001b[0m\u001b[0;36m2\u001b[0m \u001b[0;34m+\u001b[0m \u001b[0mgrad_y1\u001b[0m\u001b[0;34m**\u001b[0m\u001b[0;36m2\u001b[0m \u001b[0;34m+\u001b[0m \u001b[0mgrad_z1\u001b[0m\u001b[0;34m**\u001b[0m\u001b[0;36m2\u001b[0m\u001b[0;34m)\u001b[0m\u001b[0;34m\u001b[0m\u001b[0;34m\u001b[0m\u001b[0m\n\u001b[0m\u001b[1;32m      2\u001b[0m \u001b[0mgrad_0y\u001b[0m \u001b[0;34m=\u001b[0m \u001b[0mgrad_y1\u001b[0m \u001b[0;34m/\u001b[0m \u001b[0mnp\u001b[0m\u001b[0;34m.\u001b[0m\u001b[0msqrt\u001b[0m\u001b[0;34m(\u001b[0m\u001b[0mgrad_x1\u001b[0m\u001b[0;34m**\u001b[0m\u001b[0;36m2\u001b[0m \u001b[0;34m+\u001b[0m \u001b[0mgrad_y1\u001b[0m\u001b[0;34m**\u001b[0m\u001b[0;36m2\u001b[0m \u001b[0;34m+\u001b[0m \u001b[0mgrad_z1\u001b[0m\u001b[0;34m**\u001b[0m\u001b[0;36m2\u001b[0m\u001b[0;34m)\u001b[0m\u001b[0;34m\u001b[0m\u001b[0;34m\u001b[0m\u001b[0m\n\u001b[1;32m      3\u001b[0m \u001b[0mgrad_0z\u001b[0m \u001b[0;34m=\u001b[0m \u001b[0mgrad_z1\u001b[0m \u001b[0;34m/\u001b[0m \u001b[0mnp\u001b[0m\u001b[0;34m.\u001b[0m\u001b[0msqrt\u001b[0m\u001b[0;34m(\u001b[0m\u001b[0mgrad_x1\u001b[0m\u001b[0;34m**\u001b[0m\u001b[0;36m2\u001b[0m \u001b[0;34m+\u001b[0m \u001b[0mgrad_y1\u001b[0m\u001b[0;34m**\u001b[0m\u001b[0;36m2\u001b[0m \u001b[0;34m+\u001b[0m \u001b[0mgrad_z1\u001b[0m\u001b[0;34m**\u001b[0m\u001b[0;36m2\u001b[0m\u001b[0;34m)\u001b[0m\u001b[0;34m\u001b[0m\u001b[0;34m\u001b[0m\u001b[0m\n\u001b[1;32m      4\u001b[0m \u001b[0mprint\u001b[0m\u001b[0;34m(\u001b[0m\u001b[0;34mf\"координаты единичного градиента U = {grad_0x},{grad_0y},{grad_0z}\"\u001b[0m\u001b[0;34m)\u001b[0m\u001b[0;34m\u001b[0m\u001b[0;34m\u001b[0m\u001b[0m\n",
      "\u001b[0;31mOverflowError\u001b[0m: (34, 'Result too large')"
     ]
    }
   ],
   "source": [
    "grad_0x = grad_x1 / np.sqrt(grad_x1**2 + grad_y1**2 + grad_z1**2)\n",
    "grad_0y = grad_y1 / np.sqrt(grad_x1**2 + grad_y1**2 + grad_z1**2)\n",
    "grad_0z = grad_z1 / np.sqrt(grad_x1**2 + grad_y1**2 + grad_z1**2)\n",
    "print(f\"координаты единичного градиента U = {grad_0x},{grad_0y},{grad_0z}\")"
   ]
  },
  {
   "cell_type": "markdown",
   "metadata": {},
   "source": [
    "Исследовать на экстремум следующие\n",
    "функции:"
   ]
  },
  {
   "cell_type": "markdown",
   "metadata": {},
   "source": [
    "6.\n",
    "$$ 𝑈 = 𝑥^2𝑦 + \\frac{1}{3}𝑦^3 + 2𝑥^2 + 3𝑦^2 − 1 $$"
   ]
  },
  {
   "cell_type": "markdown",
   "metadata": {},
   "source": [
    "$$ U'_x = 2xy+4x $$"
   ]
  },
  {
   "cell_type": "markdown",
   "metadata": {},
   "source": [
    "$$ U'_y = x^2 + y^2 + 6y $$"
   ]
  },
  {
   "cell_type": "markdown",
   "metadata": {},
   "source": [
    "$$ U''_{yy} = 2y + 6 $$"
   ]
  },
  {
   "cell_type": "markdown",
   "metadata": {},
   "source": [
    "$$ U''_{xx} = 2y + 4 $$"
   ]
  },
  {
   "cell_type": "markdown",
   "metadata": {},
   "source": [
    "$$ U''_{yx} = 2x $$"
   ]
  },
  {
   "cell_type": "markdown",
   "metadata": {},
   "source": [
    "точки:\n",
    "$$ A(0;0), B(2\\sqrt2; -2), C(-2\\sqrt2; -2) $$"
   ]
  },
  {
   "cell_type": "markdown",
   "metadata": {},
   "source": [
    "A \n",
    "$$ \t\\begin{pmatrix} 4 & 0 \\\\ 0 & 6 \\end{pmatrix}, \\Delta_1 = 4, \\Delta_2 = 24$$ "
   ]
  },
  {
   "cell_type": "markdown",
   "metadata": {},
   "source": [
    "B\n",
    "$$ \t\\begin{pmatrix} 0 & 4\\sqrt2 \\\\ 4\\sqrt2 & 2 \\end{pmatrix}, \\Delta_1 = 0, \\Delta_2 = -32$$ "
   ]
  },
  {
   "cell_type": "markdown",
   "metadata": {},
   "source": [
    " C\n",
    "$$ \t\\begin{pmatrix} 0 & -4\\sqrt2 \\\\ -4\\sqrt2 & 0 \\end{pmatrix}, \\Delta_1 = 0, \\Delta_2 = 32$$ "
   ]
  },
  {
   "cell_type": "code",
   "execution_count": null,
   "metadata": {},
   "outputs": [],
   "source": [
    "# один из миноров получился = 0, тогда правило матрицы не должно работать. Графически:"
   ]
  },
  {
   "cell_type": "code",
   "execution_count": null,
   "metadata": {},
   "outputs": [],
   "source": [
    "import matplotlib.pyplot as plt\n",
    "from pylab import *\n",
    "from mpl_toolkits.mplot3d import Axes3D"
   ]
  },
  {
   "cell_type": "code",
   "execution_count": null,
   "metadata": {},
   "outputs": [],
   "source": [
    "fig = figure()\n",
    "ax = Axes3D(fig)\n",
    "x_6 = np.arange(-10, 10)\n",
    "y_6 = np.arange(-10, 10)\n",
    "x_ssp, y_ssp = np.meshgrid(x_6 , y_6)\n",
    "z_ssp = (x_ssp**2)*y_ssp + 1/3*(y_ssp**3)+2*(x_ssp**2)+3*(y_ssp**2)-1\n",
    "ax.plot_wireframe(x_ssp, y_ssp, z_ssp)\n"
   ]
  },
  {
   "cell_type": "code",
   "execution_count": null,
   "metadata": {},
   "outputs": [],
   "source": [
    "# точки в районе B и C похожи на минимум и максимум."
   ]
  },
  {
   "cell_type": "code",
   "execution_count": null,
   "metadata": {},
   "outputs": [],
   "source": []
  }
 ],
 "metadata": {
  "kernelspec": {
   "display_name": "Python 3",
   "language": "python",
   "name": "python3"
  },
  "language_info": {
   "codemirror_mode": {
    "name": "ipython",
    "version": 3
   },
   "file_extension": ".py",
   "mimetype": "text/x-python",
   "name": "python",
   "nbconvert_exporter": "python",
   "pygments_lexer": "ipython3",
   "version": "3.7.2"
  }
 },
 "nbformat": 4,
 "nbformat_minor": 2
}
