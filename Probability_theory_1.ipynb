{
 "cells": [
  {
   "cell_type": "markdown",
   "metadata": {},
   "source": [
    "Задание 1. Из колоды в 52 карты извлекаются случайным образом 4 карты.\n",
    "\n",
    "a) Найти вероятность того, что все карты – крести.\n"
   ]
  },
  {
   "cell_type": "code",
   "execution_count": 1,
   "metadata": {},
   "outputs": [],
   "source": [
    "import numpy as np\n",
    "from math import factorial"
   ]
  },
  {
   "cell_type": "code",
   "execution_count": 2,
   "metadata": {},
   "outputs": [
    {
     "name": "stdout",
     "output_type": "stream",
     "text": [
      "270725.0\n"
     ]
    }
   ],
   "source": [
    "# number of 4-cards' combinations from 52 cards\n",
    "total_comb = factorial(52) / (factorial(4) * factorial(52-4))\n",
    "print(total_comb)"
   ]
  },
  {
   "cell_type": "code",
   "execution_count": 3,
   "metadata": {},
   "outputs": [
    {
     "name": "stdout",
     "output_type": "stream",
     "text": [
      "715.0\n"
     ]
    }
   ],
   "source": [
    "# number of combinations where all 4 cards are clubs\n",
    "clubs_comb = factorial(13) / (factorial(4) * factorial(13-4))\n",
    "print(clubs_comb)"
   ]
  },
  {
   "cell_type": "code",
   "execution_count": 4,
   "metadata": {},
   "outputs": [
    {
     "name": "stdout",
     "output_type": "stream",
     "text": [
      " вероятность того, что все карты – крести =  0.0026410564225690276\n"
     ]
    }
   ],
   "source": [
    "# вероятность того, что все карты – трефы. количество комбинаций с 4 трефами / на все сочетания\n",
    "clubs_prob = clubs_comb/total_comb\n",
    "print(\" вероятность того, что все карты – крести = \", clubs_prob)"
   ]
  },
  {
   "cell_type": "markdown",
   "metadata": {},
   "source": [
    "б) Найти вероятность, что среди 4-х карт окажется хотя бы один туз."
   ]
  },
  {
   "cell_type": "code",
   "execution_count": 5,
   "metadata": {},
   "outputs": [
    {
     "name": "stdout",
     "output_type": "stream",
     "text": [
      "вероятность, что среди 4-х карт окажется хотя бы один туз =  5.5406778095853724e-05\n",
      "probability in % =  0.005540677809585373 %\n"
     ]
    }
   ],
   "source": [
    "# количество сочетаний с хотя бы по 1 тузу из 4 карт = с 4 тузами + 3 тузами + 2 тузами + 1 тузом = 15\n",
    "print(\"вероятность, что среди 4-х карт окажется хотя бы один туз = \", 15/total_comb)\n",
    "print(\"probability in % = \", 15/270725*100, \"%\")"
   ]
  },
  {
   "cell_type": "markdown",
   "metadata": {},
   "source": [
    "Задание 2. На входной двери подъезда установлен кодовый замок, содержащий десять кнопок\n",
    "с цифрами от 0 до 9. Код содержит три цифры, которые нужно нажать одновременно.\n",
    "Какова вероятность того, что человек, не знающий код, откроет дверь с первой попытки?"
   ]
  },
  {
   "cell_type": "code",
   "execution_count": 6,
   "metadata": {},
   "outputs": [
    {
     "name": "stdout",
     "output_type": "stream",
     "text": [
      "number of code combinations =  120.0\n"
     ]
    }
   ],
   "source": [
    "# общее количество сочетаний из 10 по 3\n",
    "code_comb = factorial(10) / (factorial(3) * factorial(10-3))\n",
    "print(\"number of code combinations = \", code_comb)"
   ]
  },
  {
   "cell_type": "code",
   "execution_count": 7,
   "metadata": {},
   "outputs": [
    {
     "name": "stdout",
     "output_type": "stream",
     "text": [
      "вероятность того, что откроет дверь с первой попытки =  0.008333333333333333\n"
     ]
    }
   ],
   "source": [
    "print(\"вероятность того, что откроет дверь с первой попытки = \", 1/code_comb)"
   ]
  },
  {
   "cell_type": "markdown",
   "metadata": {},
   "source": [
    "Задание 3. В ящике имеется 15 деталей, из которых 9 окрашены.\n",
    "Рабочий случайным образом извлекает 3 детали.\n",
    "Какова вероятность того, что все извлеченные детали окрашены?"
   ]
  },
  {
   "cell_type": "code",
   "execution_count": 8,
   "metadata": {},
   "outputs": [
    {
     "name": "stdout",
     "output_type": "stream",
     "text": [
      "вероятность события А 9/15 =  0.6\n"
     ]
    }
   ],
   "source": [
    "# event A(1st piece), probability to take the coloured one\n",
    "a = 9/15\n",
    "print(\"вероятность события А 9/15 = \", a)"
   ]
  },
  {
   "cell_type": "code",
   "execution_count": 9,
   "metadata": {},
   "outputs": [
    {
     "name": "stdout",
     "output_type": "stream",
     "text": [
      "вероятность события B 8/14 =  0.5714285714285714\n"
     ]
    }
   ],
   "source": [
    "# event B(2nd piece), probability to take the coloured one\n",
    "b = 8/14\n",
    "print(\"вероятность события B 8/14 = \", b)"
   ]
  },
  {
   "cell_type": "code",
   "execution_count": 10,
   "metadata": {},
   "outputs": [
    {
     "name": "stdout",
     "output_type": "stream",
     "text": [
      "вероятность события C 7/13 =  0.5384615384615384\n"
     ]
    }
   ],
   "source": [
    "# event C(3rd piece), probability to take the coloured one\n",
    "c = 7/13\n",
    "print(\"вероятность события C 7/13 = \", c)"
   ]
  },
  {
   "cell_type": "code",
   "execution_count": 11,
   "metadata": {},
   "outputs": [
    {
     "name": "stdout",
     "output_type": "stream",
     "text": [
      "вероятность того, что все извлеченные детали окрашены =  0.18461538461538457\n"
     ]
    }
   ],
   "source": [
    "#A*B*C\n",
    "print(\"вероятность того, что все извлеченные детали окрашены = \", a*b*c)"
   ]
  },
  {
   "cell_type": "markdown",
   "metadata": {},
   "source": [
    "Задание 4. В лотерее 100 билетов. Из них 2 выигрышных. Какова вероятность того,\n",
    "что 2 приобретенных билета окажутся выигрышными?"
   ]
  },
  {
   "cell_type": "code",
   "execution_count": 12,
   "metadata": {},
   "outputs": [
    {
     "name": "stdout",
     "output_type": "stream",
     "text": [
      "вероятность события А 2/100 =  0.02\n"
     ]
    }
   ],
   "source": [
    "# event A(1st lottery ticket), probability to take the winning one\n",
    "a1 = 2/100\n",
    "print(\"вероятность события А 2/100 = \", a1)"
   ]
  },
  {
   "cell_type": "code",
   "execution_count": 13,
   "metadata": {},
   "outputs": [
    {
     "name": "stdout",
     "output_type": "stream",
     "text": [
      "вероятность события B 1/99 =  0.010101010101010102\n"
     ]
    }
   ],
   "source": [
    "# event B(2nd  lottery ticket), probability to take the winning one\n",
    "b1 = 1/99\n",
    "print(\"вероятность события B 1/99 = \", b1)"
   ]
  },
  {
   "cell_type": "code",
   "execution_count": 14,
   "metadata": {},
   "outputs": [
    {
     "name": "stdout",
     "output_type": "stream",
     "text": [
      "вероятность того, что 2 приобретенных билета окажутся выигрышными =  0.00020202020202020205\n"
     ]
    }
   ],
   "source": [
    "#A*B\n",
    "print(\"вероятность того, что 2 приобретенных билета окажутся выигрышными = \", a1*b1)"
   ]
  },
  {
   "cell_type": "code",
   "execution_count": null,
   "metadata": {},
   "outputs": [],
   "source": []
  }
 ],
 "metadata": {
  "kernelspec": {
   "display_name": "Python 3",
   "language": "python",
   "name": "python3"
  },
  "language_info": {
   "codemirror_mode": {
    "name": "ipython",
    "version": 3
   },
   "file_extension": ".py",
   "mimetype": "text/x-python",
   "name": "python",
   "nbconvert_exporter": "python",
   "pygments_lexer": "ipython3",
   "version": "3.7.2"
  }
 },
 "nbformat": 4,
 "nbformat_minor": 2
}
