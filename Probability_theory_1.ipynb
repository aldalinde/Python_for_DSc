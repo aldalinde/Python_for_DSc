{
 "cells": [
  {
   "cell_type": "markdown",
   "metadata": {},
   "source": [
    "Задание 1. Из колоды в 52 карты извлекаются случайным образом 4 карты.\n",
    "\n",
    "a) Найти вероятность того, что все карты – крести.\n"
   ]
  },
  {
   "cell_type": "code",
   "execution_count": 1,
   "metadata": {},
   "outputs": [],
   "source": [
    "import numpy as np\n",
    "from math import factorial"
   ]
  },
  {
   "cell_type": "code",
   "execution_count": 2,
   "metadata": {},
   "outputs": [
    {
     "name": "stdout",
     "output_type": "stream",
     "text": [
      "270725.0\n"
     ]
    }
   ],
   "source": [
    "# number of 4-cards' combinations from 52 cards\n",
    "total_comb = factorial(52) / (factorial(4) * factorial(52-4))\n",
    "print(total_comb)"
   ]
  },
  {
   "cell_type": "code",
   "execution_count": 3,
   "metadata": {},
   "outputs": [
    {
     "name": "stdout",
     "output_type": "stream",
     "text": [
      "715.0\n"
     ]
    }
   ],
   "source": [
    "# number of combinations where all 4 cards are clubs\n",
    "clubs_comb = factorial(13) / (factorial(4) * factorial(13-4))\n",
    "print(clubs_comb)"
   ]
  },
  {
   "cell_type": "code",
   "execution_count": 4,
   "metadata": {},
   "outputs": [
    {
     "name": "stdout",
     "output_type": "stream",
     "text": [
      " вероятность того, что все карты – крести =  0.0026410564225690276\n"
     ]
    }
   ],
   "source": [
    "# вероятность того, что все карты – трефы. количество комбинаций с 4 трефами / на все сочетания\n",
    "clubs_prob = clubs_comb/total_comb\n",
    "print(\" вероятность того, что все карты – крести = \", clubs_prob)"
   ]
  },
  {
   "cell_type": "markdown",
   "metadata": {},
   "source": [
    "б) Найти вероятность, что среди 4-х карт окажется хотя бы один туз."
   ]
  },
  {
   "cell_type": "code",
   "execution_count": 5,
   "metadata": {},
   "outputs": [
    {
     "name": "stdout",
     "output_type": "stream",
     "text": [
      "combinations of 1 ace and 3 other cards but aces =  69184.0\n"
     ]
    }
   ],
   "source": [
    "# количество сочетаний с хотя бы по 1 тузу из 4 карт = с 4 тузами + 3 тузами + 2 тузами + 1 тузом\n",
    "#A0 - 1 ace combinations \n",
    "#A1 - combinations of 3 other cards (48)\n",
    "a_0 = 4\n",
    "a_1 = factorial(48) / (factorial(3) * factorial(48-3))\n",
    "a = a_0*a_1\n",
    "print(\"combinations of 1 ace and 3 other cards but aces = \", a)"
   ]
  },
  {
   "cell_type": "code",
   "execution_count": 6,
   "metadata": {},
   "outputs": [
    {
     "name": "stdout",
     "output_type": "stream",
     "text": [
      "combinations of 2 aces and 2 other cards but aces =  6768.0\n"
     ]
    }
   ],
   "source": [
    "#B0 - 2 ace combinations \n",
    "#B1 - combinations of 2 other cards\n",
    "b_0 = 6\n",
    "b_1 = factorial(48) / (factorial(2) * factorial(48-2))\n",
    "b = b_0*b_1\n",
    "print(\"combinations of 2 aces and 2 other cards but aces = \", b)"
   ]
  },
  {
   "cell_type": "code",
   "execution_count": 7,
   "metadata": {},
   "outputs": [
    {
     "name": "stdout",
     "output_type": "stream",
     "text": [
      "combinations of 3 aces and 1 other card =  192\n"
     ]
    }
   ],
   "source": [
    "#C0 - 3 ace combinations \n",
    "#C1 - combinations of 1 other card (48)\n",
    "c_0 = 4\n",
    "c_1 = 48\n",
    "c = c_0*c_1\n",
    "print(\"combinations of 3 aces and 1 other card = \", c)"
   ]
  },
  {
   "cell_type": "code",
   "execution_count": 8,
   "metadata": {},
   "outputs": [
    {
     "name": "stdout",
     "output_type": "stream",
     "text": [
      "there is 1 4-ace combination\n"
     ]
    }
   ],
   "source": [
    "#D - 4-ace combination \n",
    "d = 1\n",
    "print(\"there is 1 4-ace combination\")"
   ]
  },
  {
   "cell_type": "code",
   "execution_count": 9,
   "metadata": {},
   "outputs": [],
   "source": [
    "# количество сочетаний с хотя бы по 1 тузу из 4 карт = с 4 тузами + 3 тузами + 2 тузами + 1 тузом\n",
    "total_ace = a+b+c+d"
   ]
  },
  {
   "cell_type": "code",
   "execution_count": 10,
   "metadata": {},
   "outputs": [
    {
     "name": "stdout",
     "output_type": "stream",
     "text": [
      "вероятность, что среди 4-х карт окажется хотя бы один туз 0.2812632745405855\n"
     ]
    }
   ],
   "source": [
    "ace_probability = total_ace / total_comb\n",
    "print(\"вероятность, что среди 4-х карт окажется хотя бы один туз\" , ace_probability)"
   ]
  },
  {
   "cell_type": "code",
   "execution_count": 11,
   "metadata": {},
   "outputs": [],
   "source": [
    "#СПОСОБ 2 (из разбора вебинара): рассчитать комбинации БЕЗ тузов\n",
    "no_aces = factorial(48)/(factorial(4) * factorial(48-4))\n"
   ]
  },
  {
   "cell_type": "code",
   "execution_count": 12,
   "metadata": {},
   "outputs": [
    {
     "name": "stdout",
     "output_type": "stream",
     "text": [
      "количество сочетаний, где среди 4-х карт окажется хотя бы один туз 76145.0\n"
     ]
    }
   ],
   "source": [
    "ace_comb = total_comb - no_aces\n",
    "print(\"количество сочетаний, где среди 4-х карт окажется хотя бы один туз\" , ace_comb)"
   ]
  },
  {
   "cell_type": "code",
   "execution_count": 13,
   "metadata": {},
   "outputs": [
    {
     "name": "stdout",
     "output_type": "stream",
     "text": [
      "True\n"
     ]
    }
   ],
   "source": [
    "#checking equality of two results\n",
    "print(ace_comb == total_ace)"
   ]
  },
  {
   "cell_type": "markdown",
   "metadata": {},
   "source": [
    "Задание 2. На входной двери подъезда установлен кодовый замок, содержащий десять кнопок\n",
    "с цифрами от 0 до 9. Код содержит три цифры, которые нужно нажать одновременно.\n",
    "Какова вероятность того, что человек, не знающий код, откроет дверь с первой попытки?"
   ]
  },
  {
   "cell_type": "code",
   "execution_count": 14,
   "metadata": {},
   "outputs": [
    {
     "name": "stdout",
     "output_type": "stream",
     "text": [
      "number of code combinations =  120.0\n"
     ]
    }
   ],
   "source": [
    "# общее количество сочетаний из 10 по 3\n",
    "code_comb = factorial(10) / (factorial(3) * factorial(10-3))\n",
    "print(\"number of code combinations = \", code_comb)"
   ]
  },
  {
   "cell_type": "code",
   "execution_count": 15,
   "metadata": {},
   "outputs": [
    {
     "name": "stdout",
     "output_type": "stream",
     "text": [
      "вероятность того, что откроет дверь с первой попытки =  0.008333333333333333\n"
     ]
    }
   ],
   "source": [
    "print(\"вероятность того, что откроет дверь с первой попытки = \", 1/code_comb)"
   ]
  },
  {
   "cell_type": "markdown",
   "metadata": {},
   "source": [
    "Задание 3. В ящике имеется 15 деталей, из которых 9 окрашены.\n",
    "Рабочий случайным образом извлекает 3 детали.\n",
    "Какова вероятность того, что все извлеченные детали окрашены?"
   ]
  },
  {
   "cell_type": "code",
   "execution_count": 16,
   "metadata": {},
   "outputs": [
    {
     "name": "stdout",
     "output_type": "stream",
     "text": [
      "вероятность события А 9/15 =  0.6\n"
     ]
    }
   ],
   "source": [
    "# event A(1st piece), probability to take the coloured one\n",
    "a = 9/15\n",
    "print(\"вероятность события А 9/15 = \", a)"
   ]
  },
  {
   "cell_type": "code",
   "execution_count": 17,
   "metadata": {},
   "outputs": [
    {
     "name": "stdout",
     "output_type": "stream",
     "text": [
      "вероятность события B 8/14 =  0.5714285714285714\n"
     ]
    }
   ],
   "source": [
    "# event B(2nd piece), probability to take the coloured one\n",
    "b = 8/14\n",
    "print(\"вероятность события B 8/14 = \", b)"
   ]
  },
  {
   "cell_type": "code",
   "execution_count": 18,
   "metadata": {},
   "outputs": [
    {
     "name": "stdout",
     "output_type": "stream",
     "text": [
      "вероятность события C 7/13 =  0.5384615384615384\n"
     ]
    }
   ],
   "source": [
    "# event C(3rd piece), probability to take the coloured one\n",
    "c = 7/13\n",
    "print(\"вероятность события C 7/13 = \", c)"
   ]
  },
  {
   "cell_type": "code",
   "execution_count": 19,
   "metadata": {},
   "outputs": [
    {
     "name": "stdout",
     "output_type": "stream",
     "text": [
      "вероятность того, что все извлеченные детали окрашены =  0.18461538461538457\n"
     ]
    }
   ],
   "source": [
    "#A*B*C\n",
    "print(\"вероятность того, что все извлеченные детали окрашены = \", a*b*c)"
   ]
  },
  {
   "cell_type": "markdown",
   "metadata": {},
   "source": [
    "Задание 4. В лотерее 100 билетов. Из них 2 выигрышных. Какова вероятность того,\n",
    "что 2 приобретенных билета окажутся выигрышными?"
   ]
  },
  {
   "cell_type": "code",
   "execution_count": 20,
   "metadata": {},
   "outputs": [
    {
     "name": "stdout",
     "output_type": "stream",
     "text": [
      "вероятность события А 2/100 =  0.02\n"
     ]
    }
   ],
   "source": [
    "# event A(1st lottery ticket), probability to take the winning one\n",
    "a1 = 2/100\n",
    "print(\"вероятность события А 2/100 = \", a1)"
   ]
  },
  {
   "cell_type": "code",
   "execution_count": 21,
   "metadata": {},
   "outputs": [
    {
     "name": "stdout",
     "output_type": "stream",
     "text": [
      "вероятность события B 1/99 =  0.010101010101010102\n"
     ]
    }
   ],
   "source": [
    "# event B(2nd  lottery ticket), probability to take the winning one\n",
    "b1 = 1/99\n",
    "print(\"вероятность события B 1/99 = \", b1)"
   ]
  },
  {
   "cell_type": "code",
   "execution_count": 22,
   "metadata": {},
   "outputs": [
    {
     "name": "stdout",
     "output_type": "stream",
     "text": [
      "вероятность того, что 2 приобретенных билета окажутся выигрышными =  0.00020202020202020205\n"
     ]
    }
   ],
   "source": [
    "#A*B\n",
    "print(\"вероятность того, что 2 приобретенных билета окажутся выигрышными = \", a1*b1)"
   ]
  },
  {
   "cell_type": "code",
   "execution_count": null,
   "metadata": {},
   "outputs": [],
   "source": []
  }
 ],
 "metadata": {
  "kernelspec": {
   "display_name": "Python 3",
   "language": "python",
   "name": "python3"
  },
  "language_info": {
   "codemirror_mode": {
    "name": "ipython",
    "version": 3
   },
   "file_extension": ".py",
   "mimetype": "text/x-python",
   "name": "python",
   "nbconvert_exporter": "python",
   "pygments_lexer": "ipython3",
   "version": "3.7.2"
  }
 },
 "nbformat": 4,
 "nbformat_minor": 2
}
