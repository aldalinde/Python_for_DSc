{
 "cells": [
  {
   "cell_type": "markdown",
   "metadata": {},
   "source": [
    "Задания к уроку 1\n",
    "1. Задание (на листочке)\n",
    " Вычислите:\n",
    "\n",
    "7*[[5, 10],[7, 12],[11.3, 5], [25, 30]] + 2*[[5, 10],[7, 12],[11.3, 5], [25, 30]]"
   ]
  },
  {
   "cell_type": "code",
   "execution_count": 1,
   "metadata": {},
   "outputs": [],
   "source": [
    "import numpy as np"
   ]
  },
  {
   "cell_type": "code",
   "execution_count": 2,
   "metadata": {},
   "outputs": [],
   "source": [
    "#creating a matrix as a numpy array object\n",
    "matr1 = np.array([[5, 10],[7, 12],[11.3, 5], [25, 30]])"
   ]
  },
  {
   "cell_type": "code",
   "execution_count": 3,
   "metadata": {},
   "outputs": [
    {
     "name": "stdout",
     "output_type": "stream",
     "text": [
      "[[ 35.   70. ]\n",
      " [ 49.   84. ]\n",
      " [ 79.1  35. ]\n",
      " [175.  210. ]]\n",
      "[[10.  20. ]\n",
      " [14.  24. ]\n",
      " [22.6 10. ]\n",
      " [50.  60. ]]\n"
     ]
    }
   ],
   "source": [
    "print(7 * matr1)\n",
    "print(2 * matr1)"
   ]
  },
  {
   "cell_type": "code",
   "execution_count": 4,
   "metadata": {},
   "outputs": [
    {
     "name": "stdout",
     "output_type": "stream",
     "text": [
      "[[ 45.   90. ]\n",
      " [ 63.  108. ]\n",
      " [101.7  45. ]\n",
      " [225.  270. ]]\n"
     ]
    }
   ],
   "source": [
    "calc1 = 7 * matr1 + 2* matr1\n",
    "print(calc1)"
   ]
  },
  {
   "cell_type": "markdown",
   "metadata": {},
   "source": [
    "2. Задание (на листочке):\n",
    "\n",
    "  1) Решите систему уравнений (на листочке):\n",
    "  \n",
    "3x – 2y + 5z = 7\n",
    "\n",
    "7x + 4y – 8z = 3\n",
    "\n",
    "5x – 3y – 4z = –12\n",
    "\n",
    "\n",
    "Линейная или нелинейная это система? \n",
    "А каждое уравнение по отдельности?"
   ]
  },
  {
   "cell_type": "markdown",
   "metadata": {},
   "source": [
    "\n",
    "6x – 4y + 10z = 14\n",
    "\n",
    "  \n",
    "13x + 2z = 17              =>    z = 17/2 - 13/2*x\n",
    "\n",
    "  \n",
    "5x - 3y - 4(17/2 - 13/2*x) = -12\n",
    "\n",
    "5x + 26x - 34 + 12 = 3y    =>    y = 31/3*x - 22/3\n",
    " \n",
    "7x + 4(31/3*x - 22/3) - 8(17/2 - 13/2*x) = 3\n",
    "\n",
    "59x + 124/3*x - 88/3 - 68 + 52x = 3\n",
    "\n",
    "301/3*x = 301/3\n",
    "\n",
    "x = 1\n",
    "\n",
    "z = 17/2 - 13/2 = 2\n",
    "\n",
    "y = 3\n",
    "\n",
    "Каждое уравнение отдельно и система в целом являются линейными.\n"
   ]
  },
  {
   "cell_type": "markdown",
   "metadata": {},
   "source": [
    "  2) Решите систему уравнений:\n",
    "x2 + y∙x – 9 = 0\n",
    "x – y/5 = 0\n",
    "Линейная или нелинейная это система? \n",
    "А каждое уравнение по отдельности?\n"
   ]
  },
  {
   "cell_type": "markdown",
   "metadata": {},
   "source": [
    "x = 1/5*y\n",
    "\n",
    "1/25*y2 + 1/5 *y2 = 9\n",
    "\n",
    "6/25 * y2 = 9\n",
    "\n",
    "1)y = -15/sqrt(6)    =>    x = 1/5 * -15/sqrt(6) = -3/sqrt(6)\n",
    "\n",
    "2)y = 15/sqrt(6)    =>    x = 1/5 * 15/sqrt(6) = 3/sqrt(6)\n",
    "\n",
    "Первое уравнение - квадратное (нелинейное), второе - линейное.\n",
    "\n",
    "Предполагая, что свойство системы определяется видом зависимости\n",
    "\n",
    "ее переменных, думаю, что эта система линейная. Но не уверена,\n",
    "\n",
    "что именно это определяет линейность/нелинейность системы уравнений."
   ]
  },
  {
   "cell_type": "markdown",
   "metadata": {},
   "source": [
    "3. Задание (на листочке):\n",
    "1) Решите задачу:\n",
    "Площадь пола прямоугольной комнаты равна 48 м2,а его периметр равен 28 м. Найдите длину и ширину комнаты.\n"
   ]
  },
  {
   "cell_type": "markdown",
   "metadata": {},
   "source": [
    "l + w = 14\n",
    "\n",
    "l * w = 48\n",
    "____________\n",
    "l = 14 - w\n",
    "\n",
    "(14 - w)*w -48 = 0\n",
    "\n",
    "-w2 + 14w - 48 = 0\n",
    "\n",
    "w = (- 14 +- sqrt(196 - 192)) / -2\n",
    "\n",
    "w1 = 6    l1 = 8\n",
    "w2 = 8    l2 = 6\n",
    "\n",
    "длина комнаты - 8 м2, а ширина - 6"
   ]
  },
  {
   "cell_type": "markdown",
   "metadata": {},
   "source": [
    "2) Решите задачу:\n",
    "Заседание парламента, за которое каждый депутат плюнул 2 раза. На каждом один плевок, на спикере - 200. Сколько депутатов."
   ]
  },
  {
   "cell_type": "markdown",
   "metadata": {},
   "source": [
    "При условии, что спикер тоже депутат:\n",
    "х - количество депутатов.\n",
    "2х = 200 + (х -1)\n",
    "х = 199\n",
    "Ответ: 199 депутатов"
   ]
  },
  {
   "cell_type": "markdown",
   "metadata": {},
   "source": []
  },
  {
   "cell_type": "code",
   "execution_count": 5,
   "metadata": {},
   "outputs": [],
   "source": [
    "#4. Задание (в программе):\n",
    "#Постройте на одном графике две кривые y(x) для функции двух переменной y(k,x)=cos(k∙x), взяв для одной кривой значение k=1, а для другой – любое другое k, не равное 1.\n",
    "\n",
    "import matplotlib.pyplot as plt"
   ]
  },
  {
   "cell_type": "code",
   "execution_count": 6,
   "metadata": {},
   "outputs": [],
   "source": [
    "x = np.linspace(0, 5 , 41)\n",
    "k1 = 1\n",
    "k2 = 2"
   ]
  },
  {
   "cell_type": "code",
   "execution_count": 7,
   "metadata": {},
   "outputs": [
    {
     "data": {
      "text/plain": [
       "<matplotlib.legend.Legend at 0x1cd4024f6d8>"
      ]
     },
     "execution_count": 7,
     "metadata": {},
     "output_type": "execute_result"
    },
    {
     "data": {
      "image/png": "[encoded data removed]",
      "text/plain": [
       "<Figure size 432x288 with 1 Axes>"
      ]
     },
     "metadata": {
      "needs_background": "light"
     },
     "output_type": "display_data"
    }
   ],
   "source": [
    "plt.plot(x, np.cos(k1*x))\n",
    "plt.plot(x, np.cos(k2*x))\n",
    "plt.xlabel('x')\n",
    "plt.ylabel('y(x)')\n",
    "plt.legend(labels=['y(x)=cos(x)', 'y(x)=cos(2x)'])"
   ]
  },
  {
   "cell_type": "markdown",
   "metadata": {},
   "source": [
    "Задания к уроку 2\n",
    "\n",
    "1. Задание\n",
    "Даны два вектора в трехмерном пространстве: (20,20,20) и (0,0,-20)\n",
    " 1)Найдите их сумму. (на листочке)"
   ]
  },
  {
   "cell_type": "markdown",
   "metadata": {},
   "source": [
    "Сумма векторов (20,20,20) и (0,0,-20) равна результирующему (20,20,0)"
   ]
  },
  {
   "cell_type": "code",
   "execution_count": 8,
   "metadata": {},
   "outputs": [],
   "source": [
    "# 2)Напишите код на Python, реализующий расчет длины вектора, заданного его координатами. (в программе)\n",
    "def vector_length(x1, x2, x3):\n",
    "    return pow(x1**2 + x2**2 + x3**2 , 0.5)"
   ]
  },
  {
   "cell_type": "code",
   "execution_count": 9,
   "metadata": {},
   "outputs": [
    {
     "data": {
      "text/plain": [
       "28.284271247461902"
      ]
     },
     "execution_count": 9,
     "metadata": {},
     "output_type": "execute_result"
    }
   ],
   "source": [
    "vector_length(20, 20, 0)"
   ]
  },
  {
   "cell_type": "markdown",
   "metadata": {},
   "source": [
    "2. Задание (на листочке)\n",
    "Почему прямые не кажутся перпендикулярными? (см.ролик)\n"
   ]
  },
  {
   "cell_type": "code",
   "execution_count": 10,
   "metadata": {},
   "outputs": [],
   "source": [
    "# если сделать график симметричным, то прямые зримо перпендикулярны:\n",
    "from pylab import rcParams"
   ]
  },
  {
   "cell_type": "code",
   "execution_count": 11,
   "metadata": {},
   "outputs": [
    {
     "data": {
      "text/plain": [
       "[-5, 5, -5, 5]"
      ]
     },
     "execution_count": 11,
     "metadata": {},
     "output_type": "execute_result"
    },
    {
     "data": {
      "image/png": "[encoded data removed]",
      "text/plain": [
       "<Figure size 216x216 with 1 Axes>"
      ]
     },
     "metadata": {
      "needs_background": "light"
     },
     "output_type": "display_data"
    }
   ],
   "source": [
    "rcParams['figure.figsize']=3, 3\n",
    "x_1 = np.linspace(-5, 5, 21)\n",
    "y = 3*x_1+1\n",
    "y_2 = (-1/3)*x_1+1\n",
    "plt.plot(x_1, y)\n",
    "plt.plot(x_1, y_2)\n",
    "plt.xlabel('x')\n",
    "plt.ylabel('y')\n",
    "plt.axis([-5, 5, -5, 5])"
   ]
  },
  {
   "cell_type": "markdown",
   "metadata": {},
   "source": [
    "3. Задание (в программе)\n",
    "Напишите код на Python, реализующий построение графиков:\n",
    "окружности,\n",
    "эллипса,\n",
    "гиперболы."
   ]
  },
  {
   "cell_type": "code",
   "execution_count": 12,
   "metadata": {},
   "outputs": [],
   "source": [
    "def circle(rad, x_0, y_0):\n",
    "    x = np.linspace(x_0 - rad, x_0 + rad, 100)\n",
    "    y1 = pow((rad**2 - (x - x_0)**2), 0.5) + y_0\n",
    "    y2 = -pow((rad**2 - (x - x_0)**2), 0.5) + y_0\n",
    "    rcParams['figure.figsize']=3, 3\n",
    "    plt.plot(x, y1)\n",
    "    plt.plot(x, y2)\n",
    "    plt.xlabel('x')\n",
    "    plt.ylabel('y')\n",
    "    plt.axis([x_0-rad-1, x_0+rad+1, y_0-rad-1, y_0+rad+1])"
   ]
  },
  {
   "cell_type": "code",
   "execution_count": 13,
   "metadata": {},
   "outputs": [
    {
     "data": {
      "image/png": "[encoded data removed]",
      "text/plain": [
       "<Figure size 216x216 with 1 Axes>"
      ]
     },
     "metadata": {
      "needs_background": "light"
     },
     "output_type": "display_data"
    }
   ],
   "source": [
    "circle_1 = circle(2, -5, 2)"
   ]
  },
  {
   "cell_type": "code",
   "execution_count": 14,
   "metadata": {},
   "outputs": [],
   "source": [
    "def ellipse(a, b):\n",
    "    x = np.linspace(-a, +a, 200)\n",
    "    y1 = b * pow((1- x**2/a**2), 0.5)\n",
    "    y2 = -b * pow((1- x**2/a**2), 0.5)\n",
    "    rcParams['figure.figsize']=a+1, b+1\n",
    "    plt.plot(x, y1)\n",
    "    plt.plot(x, y2)\n",
    "    plt.xlabel('x')\n",
    "    plt.ylabel('y')\n",
    "    plt.axis([-a-1, a+1, -b-1, b+1])\n",
    "    "
   ]
  },
  {
   "cell_type": "code",
   "execution_count": 15,
   "metadata": {},
   "outputs": [
    {
     "data": {
      "image/png": "[encoded data removed]",
      "text/plain": [
       "<Figure size 360x216 with 1 Axes>"
      ]
     },
     "metadata": {
      "needs_background": "light"
     },
     "output_type": "display_data"
    }
   ],
   "source": [
    "ellipse(4,2)"
   ]
  },
  {
   "cell_type": "code",
   "execution_count": 16,
   "metadata": {},
   "outputs": [],
   "source": [
    "def hyperbola(a, b):\n",
    "    y = np.linspace(-10, 10, 200)\n",
    "    x1 = a * pow((1 + y**2/b**2), 0.5)\n",
    "    x2 = -a * pow((1+ y**2/b**2), 0.5)\n",
    "    rcParams['figure.figsize']=5, 5\n",
    "    plt.plot(x1, y)\n",
    "    plt.plot(x2, y)\n",
    "    plt.xlabel('x')\n",
    "    plt.ylabel('y')\n",
    "    plt.axis([-10, 10, -10, 10])"
   ]
  },
  {
   "cell_type": "code",
   "execution_count": 19,
   "metadata": {},
   "outputs": [
    {
     "data": {
      "image/png": "[encoded data removed]",
      "text/plain": [
       "<Figure size 360x360 with 1 Axes>"
      ]
     },
     "metadata": {
      "needs_background": "light"
     },
     "output_type": "display_data"
    }
   ],
   "source": [
    "hyperbola(3,5)"
   ]
  },
  {
   "cell_type": "markdown",
   "metadata": {},
   "source": [
    "4. Задание (на листочке)\n",
    "1) Пусть задана плоскость:\n",
    "A1*x + B1*y +C1*z + D1 = 0\n",
    "Напишите уравнение плоскости, параллельной данной и проходящей через начало координат."
   ]
  },
  {
   "cell_type": "markdown",
   "metadata": {},
   "source": [
    "A1*x + B1*y +C1*z = 0"
   ]
  },
  {
   "cell_type": "markdown",
   "metadata": {},
   "source": [
    "2)  Пусть задана плоскость: A1x + B1y + C1z + D1 = 0\n",
    "и прямая: x-x1/x2-x1 = y-y1/y2-y1 = z-z1/z2-z1\n",
    "\n",
    "Как узнать, принадлежит прямая плоскости или нет?"
   ]
  },
  {
   "cell_type": "markdown",
   "metadata": {},
   "source": [
    "Прямая принадлежит плоскости, если соблюдается равенство:\n",
    "A1x1+ B1y1 + C1z1 = A1x2 + B1y2 + C1z2"
   ]
  },
  {
   "cell_type": "markdown",
   "metadata": {},
   "source": [
    "5. Задание (в программе)\n",
    "Нарисуйте трехмерный график двух параллельных плоскостей.\n",
    "Нарисуйте трехмерный график двух любых поверхностей второго порядка.\n"
   ]
  },
  {
   "cell_type": "code",
   "execution_count": null,
   "metadata": {},
   "outputs": [],
   "source": []
  }
 ],
 "metadata": {
  "kernelspec": {
   "display_name": "Python 3",
   "language": "python",
   "name": "python3"
  },
  "language_info": {
   "codemirror_mode": {
    "name": "ipython",
    "version": 3
   },
   "file_extension": ".py",
   "mimetype": "text/x-python",
   "name": "python",
   "nbconvert_exporter": "python",
   "pygments_lexer": "ipython3",
   "version": "3.7.2"
  }
 },
 "nbformat": 4,
 "nbformat_minor": 2
}
