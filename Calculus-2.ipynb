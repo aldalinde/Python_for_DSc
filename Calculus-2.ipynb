{
 "cells": [
  {
   "cell_type": "markdown",
   "metadata": {},
   "source": [
    "Тема “Введение в математических анализ”\n",
    "\n",
    "Задание 1. Как относятся друг к другу множество и последовательность? (в ответе использовать слова типа: часть, целое, общее, частное, родитель, дочерний субъект и т.д.)\n",
    "\n",
    "\n",
    "Множество - общее по отношению к последовательности. Особенность последовательностей по отношению к другим множествам - они упорядочены. Каждому элементу соответствует натуральное число - \"индекс\"."
   ]
  },
  {
   "cell_type": "markdown",
   "metadata": {},
   "source": [
    "Задание 2. Прочитать высказывания математической логики, построить их отрицания и установить истинность.\n"
   ]
  },
  {
   "cell_type": "markdown",
   "metadata": {},
   "source": [
    "1) Высказывание:\n",
    "$$\\forall y \\in [0;1] : sgn(y) = 1$$\n",
    "для любого у, принадлежащего отрезку от 0 до 1, функция-сигнум равна 1 - ложное высказывание\n",
    "\n",
    "Отрицание высказывания:\n",
    "$$\\exists y \\in [0;1] : sgn(y) \\neq 1$$\n",
    "существует у, принадлежащий отрезку от 0 до 1, чья функция-сигнум не равна 1 - истинное высказывание"
   ]
  },
  {
   "cell_type": "markdown",
   "metadata": {},
   "source": [
    "2) Высказывание:\n",
    "$$\\forall n \\in \\mathbb N > 2 : \\exists x, y, z, \\in \\mathbb N : x^n = y^n + z^n$$\n",
    "При любом n, являющимся натуральным числом больше 2, существуют натуральные числа x, y, z для которых верно равенство: x квадрат равно сумме квадратов y и z - истинное высказывание\n",
    "\n",
    "Отрицание высказывания:\n",
    "$$\\exists n \\in \\mathbb N \\leq 2 : \\forall x, y, z, \\in \\mathbb N : x^n \\neq y^n + z^n$$\n",
    "Существует n натуральное число меньшее или равное двум, для которого неверно равенство: x квадрат равно сумме квадратов y и z, где x, y, z - любое натуральное число - истинное высказывание"
   ]
  },
  {
   "cell_type": "markdown",
   "metadata": {},
   "source": [
    "3) Высказывание:\n",
    "$$\\forall x \\in \\mathbb R \\exists X \\in \\mathbb R : X > x$$\n",
    "для любого рационального числа x существует рациональное число Х, которое больше х - истинное высказывание\n",
    "\n",
    "Отрицание высказывания:\n",
    "$$\\exists x \\in \\mathbb R \\forall X \\in \\mathbb R : X \\leq x$$\n",
    "существует рациональное число х, для которого верно соотношение: Х меньше или равно х, где Х - любое рациональное число - истинное высказывание "
   ]
  },
  {
   "cell_type": "markdown",
   "metadata": {},
   "source": []
  },
  {
   "cell_type": "markdown",
   "metadata": {},
   "source": []
  },
  {
   "cell_type": "markdown",
   "metadata": {},
   "source": []
  },
  {
   "cell_type": "markdown",
   "metadata": {},
   "source": [
    "Тема “Множество”\n",
    "\n",
    "Задание 1. Даны три множества a,b и с.\n",
    "\n",
    "Необходимо выполнить все изученные виды бинарных операций над всеми комбинациями множеств.\n"
   ]
  },
  {
   "cell_type": "code",
   "execution_count": 1,
   "metadata": {},
   "outputs": [],
   "source": [
    "a = [0, 1, 2]\n",
    "b = [2, 3, 4]\n",
    "c = [4, 5, 6]"
   ]
  },
  {
   "cell_type": "markdown",
   "metadata": {},
   "source": [
    "$$ a \\cup b \\cup c = a \\cup c \\cup b = b \\cup a \\cup c = b \\cup c \\cup a = c \\cup b \\cup a = c \\cup a \\cup b$$"
   ]
  },
  {
   "cell_type": "code",
   "execution_count": 2,
   "metadata": {},
   "outputs": [
    {
     "data": {
      "text/plain": [
       "{0, 1, 2, 3, 4, 5, 6}"
      ]
     },
     "execution_count": 2,
     "metadata": {},
     "output_type": "execute_result"
    }
   ],
   "source": [
    "d = set(a + b + c)\n",
    "d"
   ]
  },
  {
   "cell_type": "code",
   "execution_count": null,
   "metadata": {},
   "outputs": [],
   "source": []
  },
  {
   "cell_type": "code",
   "execution_count": null,
   "metadata": {},
   "outputs": [],
   "source": []
  }
 ],
 "metadata": {
  "kernelspec": {
   "display_name": "Python 3",
   "language": "python",
   "name": "python3"
  },
  "language_info": {
   "codemirror_mode": {
    "name": "ipython",
    "version": 3
   },
   "file_extension": ".py",
   "mimetype": "text/x-python",
   "name": "python",
   "nbconvert_exporter": "python",
   "pygments_lexer": "ipython3",
   "version": "3.7.2"
  }
 },
 "nbformat": 4,
 "nbformat_minor": 2
}
