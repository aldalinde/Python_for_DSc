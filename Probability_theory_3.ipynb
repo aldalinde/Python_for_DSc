{
 "cells": [
  {
   "cell_type": "markdown",
   "metadata": {},
   "source": [
    "Задание 1. Даны значения зарплат из выборки выпускников:\n",
    "100, 80, 75, 77, 89, 33, 45, 25, 65, 17, 30, 24, 57, 55, 70, 75, 65, 84, 90, 150.\n",
    "Посчитать (желательно без использования статистических методов наподобие std, var, mean)\n",
    "среднее арифметическое, среднее квадратичное отклонение, смещенную и несмещенную оценки\n",
    "дисперсий для данной выборки."
   ]
  },
  {
   "cell_type": "code",
   "execution_count": 1,
   "metadata": {},
   "outputs": [],
   "source": [
    "import numpy as np\n",
    "from math import factorial"
   ]
  },
  {
   "cell_type": "code",
   "execution_count": 2,
   "metadata": {},
   "outputs": [
    {
     "name": "stdout",
     "output_type": "stream",
     "text": [
      "[ 17  24  25  30  33  45  55  57  65  65  70  75  75  77  80  84  89  90\n",
      " 100 150]\n"
     ]
    }
   ],
   "source": [
    "select1 = np.array([100, 80, 75, 77, 89, 33, 45, 25, 65, 17, 30, 24, 57, 55, 70, 75, 65, 84, 90, 150])\n",
    "select1 = np.array(sorted(select1))\n",
    "print(select1)"
   ]
  },
  {
   "cell_type": "code",
   "execution_count": 3,
   "metadata": {},
   "outputs": [
    {
     "name": "stdout",
     "output_type": "stream",
     "text": [
      "среднее арифметическое =  65.3\n"
     ]
    }
   ],
   "source": [
    "# mean_1 - среднее арифметическое\n",
    "mean_1 = sum(select1)/select1.size\n",
    "print(\"среднее арифметическое = \", mean_1)"
   ]
  },
  {
   "cell_type": "code",
   "execution_count": 4,
   "metadata": {},
   "outputs": [],
   "source": [
    "# d - дисперсия\n",
    "d = []\n",
    "\n",
    "for i in select1:\n",
    "    sq_err = (i - mean_1)**2\n",
    "    d.append(sq_err)\n",
    "dispersion = sum(d)/select1.size\n",
    "non_shifted_d = sum(d)/(select1.size - 1)"
   ]
  },
  {
   "cell_type": "code",
   "execution_count": 5,
   "metadata": {},
   "outputs": [],
   "source": [
    "# sigma_1 - среднее квадратичное отклонение\n",
    "sigma_1 = np.sqrt(dispersion)\n",
    "sigma_1_non_shifted = np.sqrt(non_shifted_d)"
   ]
  },
  {
   "cell_type": "code",
   "execution_count": 6,
   "metadata": {},
   "outputs": [
    {
     "name": "stdout",
     "output_type": "stream",
     "text": [
      "смещенная оценка дисперсии =  950.11\n",
      "среднее квадратичное отклонение от смещенной оценки дисперсии  =  30.823854398825596\n",
      "несмещенная оценка дисперсии =  1000.1157894736842\n",
      "среднее квадратичное отклонение от несмещенной оценки дисперсии =  31.624607341019814\n"
     ]
    }
   ],
   "source": [
    "print(\"смещенная оценка дисперсии = \", dispersion)\n",
    "print(\"среднее квадратичное отклонение от смещенной оценки дисперсии  = \", sigma_1)\n",
    "print(\"несмещенная оценка дисперсии = \", non_shifted_d)\n",
    "print(\"среднее квадратичное отклонение от несмещенной оценки дисперсии = \", sigma_1_non_shifted)"
   ]
  },
  {
   "cell_type": "markdown",
   "metadata": {},
   "source": [
    "Задача 2. В первом ящике находится 8 мячей, из которых 5 - белые.\n",
    "Во втором ящике - 12 мячей, из которых 5 белых. Из первого ящика вытаскивают\n",
    "случайным образом два мяча, из второго - 4. Какова вероятность того, что 3 мяча белые?"
   ]
  },
  {
   "cell_type": "code",
   "execution_count": 7,
   "metadata": {},
   "outputs": [],
   "source": [
    "# number of combinations (binomial coefficient) method\n",
    "def binom_coeff(n, k):\n",
    "    return factorial(n) / (factorial(k) * factorial(n-k))"
   ]
  },
  {
   "cell_type": "code",
   "execution_count": 8,
   "metadata": {},
   "outputs": [],
   "source": [
    "# Вероятность 3 белых (W)= вероятность 2 белых из 2 в 1-м ящике * на 1 белых из 4 во 2-м ящике +\n",
    "#                        + вероятность 0 белых из 2 в 1-м ящике * на 3 белых из 4 во 2-м ящике +\n",
    "#                        + вероятность 1 белых из 2 в 1-м ящике * на 2 белых из 4 во 2-м ящике."
   ]
  },
  {
   "cell_type": "code",
   "execution_count": 9,
   "metadata": {},
   "outputs": [
    {
     "name": "stdout",
     "output_type": "stream",
     "text": [
      "0.12626262626262627\n"
     ]
    }
   ],
   "source": [
    "# (p1) - вероятность 2 белых из 2 в 1-м ящике (p2_1) * на 1 белых из 4 во 2-м ящике (p1_2):\n",
    "total_comb_1 = binom_coeff(8, 2) #total combinations of 2 out of 8 from the 1st box\n",
    "p2_1 = binom_coeff(5, 2) / total_comb_1\n",
    "\n",
    "total_comb_2 = binom_coeff(12, 4) #total combinations of 4 out of 12 from the 2nd box\n",
    "p1_2 = binom_coeff(5, 1) * binom_coeff(7, 3) / total_comb_2\n",
    "\n",
    "p1 = p2_1 * p1_2\n",
    "print(p1)"
   ]
  },
  {
   "cell_type": "code",
   "execution_count": 10,
   "metadata": {},
   "outputs": [
    {
     "name": "stdout",
     "output_type": "stream",
     "text": [
      "0.01515151515151515\n"
     ]
    }
   ],
   "source": [
    "# (p2) - вероятность 0 белых из 2 в 1-м ящике (p0_1) * на 3 белых из 4 во 2-м ящике (p3_2):\n",
    "p0_1 = binom_coeff(5, 0) * binom_coeff(3, 2) / total_comb_1\n",
    "\n",
    "p3_2 = binom_coeff(5, 3) * binom_coeff(7, 1) / total_comb_2\n",
    "\n",
    "p2 = p0_1 * p3_2\n",
    "print(p2)"
   ]
  },
  {
   "cell_type": "code",
   "execution_count": 11,
   "metadata": {},
   "outputs": [
    {
     "name": "stdout",
     "output_type": "stream",
     "text": [
      "0.22727272727272727\n"
     ]
    }
   ],
   "source": [
    "# (p3) - вероятность 1 белых из 2 в 1-м ящике (p1_1) * на 2 белых из 4 во 2-м ящике (p2_2):\n",
    "p1_1 = binom_coeff(5, 1) * binom_coeff(3, 1) / total_comb_1\n",
    "\n",
    "p2_2 = binom_coeff(5, 2) * binom_coeff(7, 2) / total_comb_2\n",
    "\n",
    "p3 = p1_1 * p2_2\n",
    "print(p3)"
   ]
  },
  {
   "cell_type": "code",
   "execution_count": 12,
   "metadata": {},
   "outputs": [
    {
     "name": "stdout",
     "output_type": "stream",
     "text": [
      "# Вероятность 3 белых = 0.3686868686868687\n"
     ]
    }
   ],
   "source": [
    "# Вероятность 3 белых =\n",
    "print(\"# Вероятность 3 белых =\", p1 + p2 + p3)"
   ]
  },
  {
   "cell_type": "markdown",
   "metadata": {},
   "source": [
    "Задача 3. На соревновании по биатлону один из трех спортсменов стреляет\n",
    "и попадает в мишень. Вероятность попадания для первого спортсмена\n",
    "равна 0.9, для второго — 0.8, для третьего — 0.6. Найти вероятность того,\n",
    "что выстрел произведен: a). первым спортсменом б). вторым спортсменом в). третьим спортсменом."
   ]
  },
  {
   "cell_type": "code",
   "execution_count": 13,
   "metadata": {},
   "outputs": [
    {
     "name": "stdout",
     "output_type": "stream",
     "text": [
      "вероятность того, что выстрел произведен: a). первым спортсменом =  0.3913043478260869\n",
      "вероятность того, что выстрел произведен: б).вторым спортсменом =  0.34782608695652173\n",
      "вероятность того, что выстрел произведен: в). третьим спортсменом = 0.26086956521739124\n",
      "0.9999999999999999\n"
     ]
    }
   ],
   "source": [
    "# вероятность того, что выстрел произведен: a). первым спортсменом =  a probability/ sum of all probabilities\n",
    "p_a = 0.9\n",
    "p_b = 0.8\n",
    "p_c = 0.6\n",
    "summa_shooters = p_a + p_b + p_c\n",
    "p_a_shooter = p_a / summa_shooters\n",
    "p_b_shooter = p_b / summa_shooters\n",
    "p_c_shooter = p_c / summa_shooters\n",
    "print(\"вероятность того, что выстрел произведен: a). первым спортсменом = \", p_a_shooter)\n",
    "print(\"вероятность того, что выстрел произведен: б).вторым спортсменом = \", p_b_shooter)\n",
    "print(\"вероятность того, что выстрел произведен: в). третьим спортсменом =\", p_c_shooter)\n",
    "# checking sum of probabilities \n",
    "print(p_a_shooter + p_b_shooter + p_c_shooter)"
   ]
  },
  {
   "cell_type": "markdown",
   "metadata": {},
   "source": [
    "Задача 4. В университет на факультеты A и B поступило равное количество студентов,\n",
    "а на факультет C студентов поступило столько же, сколько на A и B вместе.\n",
    "Вероятность того, что студент факультета A сдаст первую сессию, равна 0.8.\n",
    "Для студента факультета B эта вероятность равна 0.7, а для студента факультета C - 0.9.\n",
    "Студент сдал первую сессию. Какова вероятность, что он учится:\n",
    "\n",
    "a). на факультете A б). на факультете B в). на факультете C?"
   ]
  },
  {
   "cell_type": "code",
   "execution_count": 14,
   "metadata": {},
   "outputs": [
    {
     "name": "stdout",
     "output_type": "stream",
     "text": [
      "вероятность, что он учится: на факультете A 0.24242424242424246\n",
      "вероятность, что он учится: на факультете B 0.21212121212121213\n",
      "вероятность, что он учится: на факультете C 0.5454545454545455\n",
      "1.0\n"
     ]
    }
   ],
   "source": [
    "p_st_a = 0.8\n",
    "p_st_b = 0.7\n",
    "p_st_c = 0.9\n",
    "summa_students = p_st_a + p_st_b + 2* p_st_c\n",
    "\n",
    "p_faculty_a = p_st_a / summa_students\n",
    "p_faculty_b = p_st_b / summa_students\n",
    "p_faculty_c = 2*p_st_c / summa_students\n",
    "\n",
    "print(\"вероятность, что он учится: на факультете A\" , p_faculty_a)\n",
    "print(\"вероятность, что он учится: на факультете B\" , p_faculty_b)\n",
    "print(\"вероятность, что он учится: на факультете C\" , p_faculty_c)\n",
    "\n",
    "# checking sum of probabilities \n",
    "print(p_faculty_a + p_faculty_b + p_faculty_c)"
   ]
  },
  {
   "cell_type": "markdown",
   "metadata": {},
   "source": [
    "Задача 5. Устройство состоит из трех деталей.\n",
    "Для первой детали вероятность выйти из строя в первый месяц равна 0.1,\n",
    "для второй - 0.2, для третьей - 0.25. Какова вероятность того, что в первый месяц выйдут из строя:\n",
    "\n",
    "а). все детали б). только две детали в). хотя бы одна деталь г). от одной до двух деталей?"
   ]
  },
  {
   "cell_type": "code",
   "execution_count": 15,
   "metadata": {},
   "outputs": [
    {
     "name": "stdout",
     "output_type": "stream",
     "text": [
      "вероятность того, что в первый месяц выйдут из строя а). все детали =  0.005000000000000001\n",
      "вероятность того, что в первый месяц выйдут из строя б). только две детали =  0.095\n",
      "вероятность того, что в первый месяц выйдут из строя в). хотя бы одна деталь =  0.65\n",
      "вероятность того, что в первый месяц выйдут из строя г). от одной до двух деталей =  0.645\n"
     ]
    }
   ],
   "source": [
    "\n",
    "all_pieces = 0.1 * 0.2 * 0.25\n",
    "two_pieces = 0.1*0.2 + 0.1*0.25 + 0.25*0.2\n",
    "at_least_one = all_pieces + two_pieces + 0.1 + 0.2 + 0.25\n",
    "from_2_to_1 = two_pieces + 0.1 + 0.2 + 0.25\n",
    "print(\"вероятность того, что в первый месяц выйдут из строя а). все детали = \",all_pieces)\n",
    "print(\"вероятность того, что в первый месяц выйдут из строя б). только две детали = \",two_pieces)\n",
    "print(\"вероятность того, что в первый месяц выйдут из строя в). хотя бы одна деталь = \",at_least_one)\n",
    "print(\"вероятность того, что в первый месяц выйдут из строя г). от одной до двух деталей = \" ,from_2_to_1)"
   ]
  },
  {
   "cell_type": "code",
   "execution_count": null,
   "metadata": {},
   "outputs": [],
   "source": []
  }
 ],
 "metadata": {
  "kernelspec": {
   "display_name": "Python 3",
   "language": "python",
   "name": "python3"
  },
  "language_info": {
   "codemirror_mode": {
    "name": "ipython",
    "version": 3
   },
   "file_extension": ".py",
   "mimetype": "text/x-python",
   "name": "python",
   "nbconvert_exporter": "python",
   "pygments_lexer": "ipython3",
   "version": "3.7.2"
  }
 },
 "nbformat": 4,
 "nbformat_minor": 2
}
