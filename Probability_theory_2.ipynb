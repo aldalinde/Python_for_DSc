{
 "cells": [
  {
   "cell_type": "markdown",
   "metadata": {},
   "source": [
    "Задание 1. Вероятность того, что стрелок попадет в мишень, выстрелив один раз,\n",
    "равна 0.8. Стрелок выстрелил 100 раз. Найдите вероятность того, что\n",
    "стрелок попадет в цель ровно 85 раз."
   ]
  },
  {
   "cell_type": "code",
   "execution_count": 1,
   "metadata": {},
   "outputs": [],
   "source": [
    "import numpy as np\n",
    "from math import factorial"
   ]
  },
  {
   "cell_type": "code",
   "execution_count": 2,
   "metadata": {},
   "outputs": [],
   "source": [
    "# binomial coefficient method\n",
    "def binom_coeff(n, k):\n",
    "    return factorial(n) / (factorial(k) * factorial(n-k))"
   ]
  },
  {
   "cell_type": "code",
   "execution_count": 3,
   "metadata": {},
   "outputs": [],
   "source": [
    "# binomial distribution method\n",
    "def binom_distr(p, n, k):\n",
    "    return binom_coeff(n, k) * (p**k) * ((1 - p)**(n-k))"
   ]
  },
  {
   "cell_type": "code",
   "execution_count": 4,
   "metadata": {},
   "outputs": [
    {
     "name": "stdout",
     "output_type": "stream",
     "text": [
      " вероятность того, что стрелок попадет в цель ровно 85 раз =  0.048061793700746355\n"
     ]
    }
   ],
   "source": [
    "# вероятность того, что стрелок попадет в цель ровно 85 раз\n",
    "print(\" вероятность того, что стрелок попадет в цель ровно 85 раз = \", binom_distr(0.8, 100, 85))"
   ]
  },
  {
   "cell_type": "markdown",
   "metadata": {},
   "source": [
    "Задача 2. Вероятность того, что лампочка перегорит в течение первого\n",
    "дня эксплуатации, равна 0.0004. В жилом комплексе после ремонта в один\n",
    "день включили 5000 новых лампочек.\n",
    "а) Какова вероятность, что ни одна из них не перегорит в первый день? "
   ]
  },
  {
   "cell_type": "code",
   "execution_count": 5,
   "metadata": {},
   "outputs": [],
   "source": [
    "# lambda (Poisson distribution) method\n",
    "def lam_poisson(n, p):\n",
    "    return n*p"
   ]
  },
  {
   "cell_type": "code",
   "execution_count": 6,
   "metadata": {},
   "outputs": [],
   "source": [
    "# Poisson distribution method\n",
    "def poiss_distr(m, n, p):\n",
    "    return (lam_poisson(n, p)**m / factorial(m)) * (np.e**(-lam_poisson(n, p)))\n"
   ]
  },
  {
   "cell_type": "code",
   "execution_count": 7,
   "metadata": {},
   "outputs": [
    {
     "name": "stdout",
     "output_type": "stream",
     "text": [
      "вероятность, что ни одна из них не перегорит в первый день\n",
      "по формуле Пуассона = 0.1353352832366127\n",
      "по формуле Бернулли = 0.13528114551440706\n"
     ]
    }
   ],
   "source": [
    "print(\"вероятность, что ни одна из них не перегорит в первый день\")\n",
    "print(\"по формуле Пуассона =\", poiss_distr(0, 5000, 0.0004))\n",
    "print(\"по формуле Бернулли =\", binom_distr(0.0004, 5000, 0))"
   ]
  },
  {
   "cell_type": "markdown",
   "metadata": {},
   "source": [
    "б) Какова вероятность, что перегорят ровно две?"
   ]
  },
  {
   "cell_type": "code",
   "execution_count": 8,
   "metadata": {},
   "outputs": [
    {
     "name": "stdout",
     "output_type": "stream",
     "text": [
      "вероятность, что перегорят ровно две перегорит в первый день\n",
      "по формуле Пуассона =  0.2706705664732254\n",
      "по формуле Бернулли =  0.2707247150266753\n"
     ]
    }
   ],
   "source": [
    "print(\"вероятность, что перегорят ровно две перегорит в первый день\")\n",
    "print(\"по формуле Пуассона = \", poiss_distr(2, 5000, 0.0004))\n",
    "print(\"по формуле Бернулли = \", binom_distr(0.0004, 5000, 2))"
   ]
  },
  {
   "cell_type": "markdown",
   "metadata": {},
   "source": [
    "Задача 3. Монету подбросили 144 раза. Какова вероятность, что орел выпадет ровно 70 раз?"
   ]
  },
  {
   "cell_type": "code",
   "execution_count": 9,
   "metadata": {},
   "outputs": [],
   "source": [
    "def equal_chance_distr(n, k):\n",
    "    return binom_coeff(n, k) * 1 / (2**n)"
   ]
  },
  {
   "cell_type": "code",
   "execution_count": 10,
   "metadata": {},
   "outputs": [
    {
     "name": "stdout",
     "output_type": "stream",
     "text": [
      "вероятность, что орел выпадет ровно 70 раз =  0.06281178035144776\n"
     ]
    }
   ],
   "source": [
    "print(\"вероятность, что орел выпадет ровно 70 раз = \", equal_chance_distr(144, 70))"
   ]
  },
  {
   "cell_type": "markdown",
   "metadata": {},
   "source": [
    "Задача 4. В первом ящике находится 10 мячей, из которых 7 - белые.\n",
    "Во втором ящике - 11 мячей, из которых 9 белых. Из каждого ящика вытаскивают\n",
    "случайным образом по два мяча.\n",
    "\n",
    "a) Какова вероятность того, что все мячи белые?"
   ]
  },
  {
   "cell_type": "code",
   "execution_count": 11,
   "metadata": {},
   "outputs": [
    {
     "name": "stdout",
     "output_type": "stream",
     "text": [
      "0.30545454545454537\n"
     ]
    }
   ],
   "source": [
    "# Вероятность всех 4 белых (W)= вероятность 2 из 2 белых в 1-й корзине * на 2 из 2 белых во 2-й корзине:\n",
    "all_white = (7/10 * 6/9) * (9/11 * 8/10)\n",
    "print(all_white)"
   ]
  },
  {
   "cell_type": "code",
   "execution_count": 12,
   "metadata": {},
   "outputs": [
    {
     "name": "stdout",
     "output_type": "stream",
     "text": [
      "0.307\n"
     ]
    }
   ],
   "source": [
    "# проверка методом Монте-Карло (идея, предложенная деканом)\n",
    "a = np.array([1, 1, 1, 1, 1, 1, 1, 0, 0, 0])\n",
    "b = np.array([1, 1, 1, 1, 1, 1, 1, 1, 1, 0, 0])\n",
    "\n",
    "n = 10000\n",
    "m1, m2, m3 = 0, 0, 0\n",
    "\n",
    "for i in range(n):\n",
    "    np.random.shuffle(a)\n",
    "    np.random.shuffle(b)\n",
    "    if np.sum(a[:2]) == 2 and np.sum(b[:2]) == 2:\n",
    "        m1 += 1.0\n",
    "        \n",
    "print(m1/n)"
   ]
  },
  {
   "cell_type": "markdown",
   "metadata": {},
   "source": [
    "b) Какова вероятность того, что ровно два мяча белые?"
   ]
  },
  {
   "cell_type": "code",
   "execution_count": 13,
   "metadata": {},
   "outputs": [
    {
     "name": "stdout",
     "output_type": "stream",
     "text": [
      "0.008484848484848482 0.04363636363636363 0.1527272727272727\n",
      "0.20484848484848484\n"
     ]
    }
   ],
   "source": [
    "# Вероятность ровно 2 белых (W)= вероятность 2 белых из 2 в 1-й корзине * на 2 НЕбелых (B-условно черных) из 2 во 2-й корзине +\n",
    "# + вероятность 2 из 2 черных в 1-й корзине * на 2 из 2 белых  во 2-й корзине +\n",
    "# + вероятность 1 из 2 белых в 1-й корзине * на 1 из 2 белых во 2-й корзине:\n",
    "w2_b0 = (7/10 * 6/9) * (2/11 * 1/10)\n",
    "w0_b2 = (3/10 * 2/9) * (9/11 * 8/10)\n",
    "w1_b1 = (7/10 * 3/9 + 3/10 * 7/9) * (9/11 * 2/10 + 2/11 * 9/10)\n",
    "print(w2_b0, w0_b2, w1_b1)\n",
    "print(w2_b0+w0_b2+w1_b1)"
   ]
  },
  {
   "cell_type": "code",
   "execution_count": 14,
   "metadata": {},
   "outputs": [
    {
     "name": "stdout",
     "output_type": "stream",
     "text": [
      "0.0082 0.0447 0.1513\n",
      "0.2042\n"
     ]
    }
   ],
   "source": [
    "# проверка методом Монте-Карло\n",
    "a = np.array([1, 1, 1, 1, 1, 1, 1, 0, 0, 0])\n",
    "b = np.array([1, 1, 1, 1, 1, 1, 1, 1, 1, 0, 0])\n",
    "\n",
    "n = 10000\n",
    "m1, m2, m3 = 0, 0, 0\n",
    "for i in range(n):\n",
    "    np.random.shuffle(a)\n",
    "    np.random.shuffle(b)\n",
    "    if np.sum(a[:2]) == 2 and np.sum(b[:2]) == 0:\n",
    "        m1 += 1.0\n",
    "    elif np.sum(a[:2]) == 0 and np.sum(b[:2]) == 2:\n",
    "        m2 += 1.0\n",
    "    elif np.sum(a[:2]) == 1 and np.sum(b[:2]) == 1:\n",
    "        m3 += 1.0\n",
    "        \n",
    "print(m1/n, m2/n, m3/n)\n",
    "print((m1+m2+m3)/n)"
   ]
  },
  {
   "cell_type": "markdown",
   "metadata": {},
   "source": [
    "c) Какова вероятность того, что хотя бы один мяч белый?"
   ]
  },
  {
   "cell_type": "code",
   "execution_count": 15,
   "metadata": {},
   "outputs": [
    {
     "name": "stdout",
     "output_type": "stream",
     "text": [
      "0.0012121212121212121\n",
      "0.9987878787878788\n"
     ]
    }
   ],
   "source": [
    "# Вероятность хотя бы 1 белого = 1 - вероятность всех 4 черных\n",
    "# вероятность всех 4 черных = 2 из 2 черных в 1-й корзине * на 2 из 2 черных во 2-й корзине:\n",
    "all_black = (3/10 * 2/9) * (2/11 * 1/10)\n",
    "print(all_black)\n",
    "print(1-all_black)"
   ]
  },
  {
   "cell_type": "code",
   "execution_count": 16,
   "metadata": {},
   "outputs": [
    {
     "name": "stdout",
     "output_type": "stream",
     "text": [
      "0.0015\n",
      "0.9985\n"
     ]
    }
   ],
   "source": [
    "# проверка методом Монте-Карло\n",
    "a = np.array([1, 1, 1, 1, 1, 1, 1, 0, 0, 0])\n",
    "b = np.array([1, 1, 1, 1, 1, 1, 1, 1, 1, 0, 0])\n",
    "\n",
    "n = 10000\n",
    "m1, m2, m3 = 0, 0, 0\n",
    "for i in range(n):\n",
    "    np.random.shuffle(a)\n",
    "    np.random.shuffle(b)\n",
    "    if np.sum(a[:2]) == 0 and np.sum(b[:2]) == 0:\n",
    "        m1 += 1.0\n",
    "            \n",
    "print(m1/n)\n",
    "print(1 - m1/n)"
   ]
  },
  {
   "cell_type": "code",
   "execution_count": null,
   "metadata": {},
   "outputs": [],
   "source": []
  }
 ],
 "metadata": {
  "kernelspec": {
   "display_name": "Python 3",
   "language": "python",
   "name": "python3"
  },
  "language_info": {
   "codemirror_mode": {
    "name": "ipython",
    "version": 3
   },
   "file_extension": ".py",
   "mimetype": "text/x-python",
   "name": "python",
   "nbconvert_exporter": "python",
   "pygments_lexer": "ipython3",
   "version": "3.7.2"
  }
 },
 "nbformat": 4,
 "nbformat_minor": 2
}
