{
 "cells": [
  {
   "cell_type": "markdown",
   "metadata": {},
   "source": [
    "Тема 6 “Понятие о производной”\n",
    "Задача 1. Найти производную выражения:"
   ]
  },
  {
   "cell_type": "markdown",
   "metadata": {},
   "source": [
    "a)\n",
    "$$ (sin x \\cdot cos x)' =  (sinx)' \\cdot cos x + (cos x)' \\cdot sinx = cos^2 x - sin^2 x$$"
   ]
  },
  {
   "cell_type": "markdown",
   "metadata": {},
   "source": [
    "b)\n",
    "$$ (ln(2x+1)^3)' = \\frac {1}{(2x+1)^3} \\cdot ((2x+1)^3)' =  \\frac {1}{(2x+1)^3} \\cdot 6(2x+1)^2  = \\frac {6}{(2x+1)} $$ "
   ]
  },
  {
   "cell_type": "markdown",
   "metadata": {},
   "source": [
    "c)\n",
    "$$ \\sqrt {sin^2(ln(x^3))} = \\frac{1}{2\\sqrt {sin^2(ln(x^3))}} \\cdot (sin^2(ln(x^3)))' = \\frac{1}{2\\sqrt {sin^2(ln(x^3))}} \\cdot  2sin(ln(x^3)) \\cdot cos(ln(x^3)) \\cdot (ln(x^3))' = \\frac{3sin 2(ln(x^3))}{2x\\sqrt {sin^2(ln(x^3))}}$$"
   ]
  },
  {
   "cell_type": "markdown",
   "metadata": {},
   "source": [
    "d)\n",
    "$$ ( \\frac{x^4}{ln(x)} )' = \\frac{4x^3 \\cdot ln(x) - \\frac {1}{x} \\cdot x^4}{(ln(x))^2}  $$"
   ]
  },
  {
   "cell_type": "markdown",
   "metadata": {},
   "source": [
    "Задача 2. Найти выражение производной функции и ее значение в точке:"
   ]
  },
  {
   "cell_type": "markdown",
   "metadata": {},
   "source": [
    "$$ f(x) = cos (x^2 +3x) , x_0 = \\sqrt{\\pi} $$"
   ]
  },
  {
   "cell_type": "markdown",
   "metadata": {},
   "source": [
    "$$ f'(x) = - sin (x^2+ 3x) \\cdot (2x + 3) = 3sin(x^2+ 3x) - 2xsin(x^2+ 3x), x_0 = \\sqrt {\\pi} $$"
   ]
  },
  {
   "cell_type": "code",
   "execution_count": 1,
   "metadata": {},
   "outputs": [],
   "source": [
    "import numpy as np"
   ]
  },
  {
   "cell_type": "code",
   "execution_count": 2,
   "metadata": {},
   "outputs": [
    {
     "name": "stdout",
     "output_type": "stream",
     "text": [
      "0.8225176971404827\n",
      "значение производной функции f(x) в точке равной корень квадратный из пи =  -0.44819622804772274\n"
     ]
    }
   ],
   "source": [
    "memb_1 = np.sin(np.pi + 3*np.sqrt(np.pi))\n",
    "f_x = 3* memb_1 - 2 * np.sqrt(np.pi) * memb_1\n",
    "print(memb_1)\n",
    "print(\"значение производной функции f(x) в точке равной корень квадратный из пи = \", f_x)"
   ]
  },
  {
   "cell_type": "markdown",
   "metadata": {},
   "source": [
    "Задача 3. * Найти значение производной функции в точке:"
   ]
  },
  {
   "cell_type": "markdown",
   "metadata": {},
   "source": [
    "$$ f(x) = \\frac{x^3 - x^2 - x - 1}{1 + 2x + 3x^2 - 4x^3},  x_0 = 0 $$"
   ]
  },
  {
   "cell_type": "markdown",
   "metadata": {},
   "source": [
    "$$ f'(x) = \\frac {(3x^2-2x-1)(1+2x+3x^2-4x^3) - (2+6x-12x^2)(x^3 - x^2 - x - 1)}{(1 + 2x + 3x^2 - 4x^3)^2} , x_0 = 0 $$"
   ]
  },
  {
   "cell_type": "markdown",
   "metadata": {},
   "source": [
    "$$ f'(0) = \\frac {-1 \\cdot 1 - 2 \\cdot (-1)}{1} = 1 $$"
   ]
  },
  {
   "cell_type": "markdown",
   "metadata": {},
   "source": [
    "Задача 4. Найти угол наклона касательной к графику функции в точке:"
   ]
  },
  {
   "cell_type": "markdown",
   "metadata": {},
   "source": [
    "$$ f(x) = \\sqrt {3x} \\cdot ln x, x_0 = 1 $$"
   ]
  },
  {
   "cell_type": "code",
   "execution_count": null,
   "metadata": {},
   "outputs": [],
   "source": []
  },
  {
   "cell_type": "code",
   "execution_count": null,
   "metadata": {},
   "outputs": [],
   "source": []
  }
 ],
 "metadata": {
  "kernelspec": {
   "display_name": "Python 3",
   "language": "python",
   "name": "python3"
  },
  "language_info": {
   "codemirror_mode": {
    "name": "ipython",
    "version": 3
   },
   "file_extension": ".py",
   "mimetype": "text/x-python",
   "name": "python",
   "nbconvert_exporter": "python",
   "pygments_lexer": "ipython3",
   "version": "3.7.2"
  }
 },
 "nbformat": 4,
 "nbformat_minor": 2
}
