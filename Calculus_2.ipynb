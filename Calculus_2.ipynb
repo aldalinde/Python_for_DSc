{
 "cells": [
  {
   "cell_type": "markdown",
   "metadata": {},
   "source": [
    "Тема “Введение в математических анализ”\n",
    "\n",
    "Задание 1. Как относятся друг к другу множество и последовательность? (в ответе использовать слова типа: часть, целое, общее, частное, родитель, дочерний субъект и т.д.)\n",
    "\n",
    "\n",
    "Множество - общее по отношению к последовательности. Особенность последовательностей по отношению к другим множествам - они упорядочены. Каждому элементу соответствует натуральное число - \"индекс\"."
   ]
  },
  {
   "cell_type": "markdown",
   "metadata": {},
   "source": [
    "Задание 2. Прочитать высказывания математической логики, построить их отрицания и установить истинность.\n"
   ]
  },
  {
   "cell_type": "markdown",
   "metadata": {},
   "source": [
    "1) Высказывание:\n",
    "$$\\forall y \\in [0;1] : sgn(y) = 1$$\n",
    "для любого у, принадлежащего отрезку от 0 до 1, функция-сигнум равна 1 - ложное высказывание\n",
    "\n",
    "Отрицание высказывания:\n",
    "$$\\exists y \\in [0;1] : sgn(y) \\neq 1$$\n",
    "существует у, принадлежащий отрезку от 0 до 1, чья функция-сигнум не равна 1 - истинное высказывание"
   ]
  },
  {
   "cell_type": "markdown",
   "metadata": {},
   "source": [
    "2) Высказывание:\n",
    "$$\\forall n \\in \\mathbb N > 2 : \\exists x, y, z, \\in \\mathbb N : x^n = y^n + z^n$$\n",
    "При любом n, являющимся натуральным числом больше 2, существуют натуральные числа x, y, z для которых верно равенство: x квадрат равно сумме квадратов y и z - истинное высказывание\n",
    "\n",
    "Отрицание высказывания:\n",
    "$$\\exists n \\in \\mathbb N \\leq 2 : \\forall x, y, z, \\in \\mathbb N : x^n \\neq y^n + z^n$$\n",
    "Существует n натуральное число меньшее или равное двум, для которого неверно равенство: x квадрат равно сумме квадратов y и z, где x, y, z - любое натуральное число - истинное высказывание"
   ]
  },
  {
   "cell_type": "markdown",
   "metadata": {},
   "source": [
    "3) Высказывание:\n",
    "$$\\forall x \\in \\mathbb R \\exists X \\in \\mathbb R : X > x$$\n",
    "для любого рационального числа x существует рациональное число Х, которое больше х - истинное высказывание\n",
    "\n",
    "Отрицание высказывания:\n",
    "$$\\exists x \\in \\mathbb R \\forall X \\in \\mathbb R : X \\leq x$$\n",
    "существует рациональное число х, для которого верно соотношение: Х меньше или равно х, где Х - любое рациональное число - истинное высказывание "
   ]
  },
  {
   "cell_type": "markdown",
   "metadata": {},
   "source": [
    "4) Высказывание:\n",
    "$$ \\forall x \\in \\mathbb C \\nexists y \\in \\mathbb C : x > y \\parallel x < y $$\n",
    "ни для одного комплексного числа х не существует комплексного числа у, которое было бы больше или меньше х - истинное высказывание\n",
    "\n",
    "Отрицание высказывания:\n",
    "$$ \\exists x \\in \\mathbb C \\exists y \\in \\mathbb C : x \\leq y , x \\geq y $$\n",
    "существует комплексное число х, для которого существует комплексное число у, которое одновременно больше или равно и меньше или равно х - ложное высказывание"
   ]
  },
  {
   "cell_type": "markdown",
   "metadata": {},
   "source": [
    "5) Высказывание:\n",
    "$$ \\forall y \\in [0; \\frac{\\pi}{2}] \\exists \\varepsilon > 0: sin y < sin (y+ \\varepsilon) $$\n",
    "для любого у, принадлежащего отрезку от ноля до пи пополам, существует эпсилон больше ноля, при котором синус у меньше синуса суммы у и эпсилон - истинное высказывание. \n",
    "\n",
    "Отрицание высказывания:\n",
    "$$ \\exists y \\in [0; \\frac{\\pi}{2}] \\forall \\varepsilon \\leq 0: sin y \\geq sin (y+ \\varepsilon) $$\n",
    "существует у на отрезке от ноля до пи пополам, для которого любое эпсилон меньшее или равное нулю делает верным отношение: синус у больше или равно сумме у и эпсилон - истинное высказывание - существует у равное пи пополам"
   ]
  },
  {
   "cell_type": "markdown",
   "metadata": {},
   "source": [
    "6) Высказывание:\n",
    "$$ \\forall y \\in [0; \\pi] \\exists \\varepsilon > 0: cos y > cos (y+ \\varepsilon) $$\n",
    "для любого у, принадлежащего отрезку от ноля до пи, существует эпсилон больше ноля, при котором косинус у больше косинуса суммы у и эпсилон - ложное высказывание. При у = 0 (при котором косинус у = 1) нет такого эпсилон, косинус суммы которого с у был больше 1.\n",
    "\n",
    "\n",
    "Отрицание высказывания:\n",
    "$$ \\exists y \\in [0; \\pi] \\forall \\varepsilon \\leq 0: cos y \\geq cos (y+ \\varepsilon) $$\n",
    "существует у на отрезке от ноля до пи , для которого любое эпсилон меньшее или равное нулю делает верным отношение: косинус у меньше или равно сумме у и эпсилон - истинное высказывание"
   ]
  },
  {
   "cell_type": "markdown",
   "metadata": {},
   "source": [
    "7) Высказывание:\n",
    "$$ \\exists x : x \\notin \\{ \\mathbb N, \\mathbb Z, \\mathbb Q, \\mathbb R, \\mathbb C \\} $$\n",
    "существует такое х, которое не является одновременно и натуральным, и целым, и рациональным, и вещественным, и комплексным числом - истинное высказывание \n",
    "\n",
    "Отрицание высказывания:\n",
    "$$ \\forall x : x \\notin \\{ \\mathbb N \\parallel \\mathbb Z \\parallel \\mathbb Q \\parallel \\mathbb R \\parallel \\mathbb C \\} $$\n",
    "любое х или хотя бы натуральное, или рациональное... или комплексное число - думаю, что таким субъектом высказывания может быть и не число (или их совокупность), тогда это высказывание истинное"
   ]
  },
  {
   "cell_type": "markdown",
   "metadata": {},
   "source": [
    "Тема “Множество”\n",
    "\n",
    "Задание 1. Даны три множества a,b и с.\n",
    "\n",
    "Необходимо выполнить все изученные виды бинарных операций над всеми комбинациями множеств.\n"
   ]
  },
  {
   "cell_type": "code",
   "execution_count": 1,
   "metadata": {},
   "outputs": [],
   "source": [
    "a = {0, 1, 2, 9, 8}\n",
    "b = {2, 3, 4, 8}\n",
    "c = {4, 5, 6, 2 ,0}"
   ]
  },
  {
   "cell_type": "markdown",
   "metadata": {},
   "source": [
    "$ a \\cup b , a \\triangle b,  a / b, b / a, a \\cap b$"
   ]
  },
  {
   "cell_type": "code",
   "execution_count": 2,
   "metadata": {},
   "outputs": [
    {
     "name": "stdout",
     "output_type": "stream",
     "text": [
      "{0, 1, 2, 3, 4, 8, 9} {0, 1, 3, 4, 9} {0, 1, 9} {3, 4} {8, 2}\n"
     ]
    }
   ],
   "source": [
    "a_b1 = a | b \n",
    "a_b2 = a ^ b\n",
    "a_b3 = a - b\n",
    "b_a = b-a\n",
    "a_b4 = a & b\n",
    "print(a_b1,a_b2, a_b3, b_a, a_b4)"
   ]
  },
  {
   "cell_type": "markdown",
   "metadata": {},
   "source": [
    "$$ c \\cup b , c \\triangle b , c / b, b / c, c \\cap b$$"
   ]
  },
  {
   "cell_type": "code",
   "execution_count": 3,
   "metadata": {},
   "outputs": [
    {
     "name": "stdout",
     "output_type": "stream",
     "text": [
      "{0, 2, 3, 4, 5, 6, 8} {0, 3, 5, 6, 8} {0, 5, 6} {8, 3} {2, 4}\n"
     ]
    }
   ],
   "source": [
    "c_b1 = c | b \n",
    "c_b2 = c ^ b\n",
    "c_b3 = c - b\n",
    "b_c = b-c\n",
    "c_b4 = c & b\n",
    "print(c_b1,c_b2, c_b3, b_c, c_b4)"
   ]
  },
  {
   "cell_type": "markdown",
   "metadata": {},
   "source": [
    "$$ a \\cup c , a \\triangle c , a / c, c / a, a \\cap c$$"
   ]
  },
  {
   "cell_type": "code",
   "execution_count": 4,
   "metadata": {},
   "outputs": [
    {
     "name": "stdout",
     "output_type": "stream",
     "text": [
      "{0, 1, 2, 4, 5, 6, 8, 9} {1, 4, 5, 6, 8, 9} {4, 5, 6} {8, 1, 9} {0, 2}\n"
     ]
    }
   ],
   "source": [
    "c_a1 = c | a \n",
    "c_a2 = c ^ a\n",
    "c_a3 = c - a\n",
    "a_c = a-c\n",
    "c_a4 = c & a\n",
    "print(c_a1,c_a2, c_a3, a_c, c_a4)"
   ]
  },
  {
   "cell_type": "markdown",
   "metadata": {},
   "source": [
    "$$ a \\cup b \\cup c = a \\cup c \\cup b = b \\cup a \\cup c = b \\cup c \\cup a = c \\cup b \\cup a = c \\cup a \\cup b$$"
   ]
  },
  {
   "cell_type": "code",
   "execution_count": 5,
   "metadata": {},
   "outputs": [
    {
     "name": "stdout",
     "output_type": "stream",
     "text": [
      "{0, 1, 2, 3, 4, 5, 6, 8, 9}\n"
     ]
    }
   ],
   "source": [
    "d1 = a | b | c\n",
    "print(d1)"
   ]
  },
  {
   "cell_type": "markdown",
   "metadata": {},
   "source": [
    "$$ a \\cap b \\cap c = a \\cap c \\cap b = b \\cap a \\cap c = b \\cap c \\cap a = c \\cap b \\cap a = c \\cap a \\cap b $$"
   ]
  },
  {
   "cell_type": "code",
   "execution_count": 6,
   "metadata": {},
   "outputs": [
    {
     "name": "stdout",
     "output_type": "stream",
     "text": [
      "{2}\n"
     ]
    }
   ],
   "source": [
    "d2 = a & b & c\n",
    "print(d2)"
   ]
  },
  {
   "cell_type": "markdown",
   "metadata": {},
   "source": [
    "$$ a \\triangle b \\triangle c = a \\triangle c \\triangle b = b \\triangle a \\triangle c = b \\triangle c \\triangle a = c \\triangle b \\triangle a = c \\triangle a \\triangle b  $$"
   ]
  },
  {
   "cell_type": "code",
   "execution_count": 7,
   "metadata": {},
   "outputs": [
    {
     "name": "stdout",
     "output_type": "stream",
     "text": [
      "{1, 2, 3, 5, 6, 9}\n"
     ]
    }
   ],
   "source": [
    "d3 = a ^ b ^ c\n",
    "print(d3)"
   ]
  },
  {
   "cell_type": "markdown",
   "metadata": {},
   "source": [
    "$$ a / b / c = a / c / b  = a/ (b \\cup c) = a/ (c \\cup b) $$\n"
   ]
  },
  {
   "cell_type": "code",
   "execution_count": 8,
   "metadata": {},
   "outputs": [
    {
     "name": "stdout",
     "output_type": "stream",
     "text": [
      "{1, 9}\n",
      "{1, 9}\n",
      "{1, 9}\n"
     ]
    }
   ],
   "source": [
    "d4_1 = a - b - c\n",
    "print(d4_1)\n",
    "print(a - (c | b))\n",
    "print(a - (b | c))"
   ]
  },
  {
   "cell_type": "markdown",
   "metadata": {},
   "source": [
    "$$ b / a / c = b / c / a = b/ (c \\cup  a) = b/ (a \\cup c) $$"
   ]
  },
  {
   "cell_type": "code",
   "execution_count": 9,
   "metadata": {},
   "outputs": [
    {
     "name": "stdout",
     "output_type": "stream",
     "text": [
      "{3}\n",
      "{3}\n",
      "{3}\n"
     ]
    }
   ],
   "source": [
    "d4_2 = b - a - c\n",
    "print(d4_2)\n",
    "print(b - (c | a))\n",
    "print(b - (a | c))"
   ]
  },
  {
   "cell_type": "markdown",
   "metadata": {},
   "source": [
    "$$ c / b / a = c / a / b = c / (b \\cup a) = c / (a \\cup b) $$"
   ]
  },
  {
   "cell_type": "code",
   "execution_count": 10,
   "metadata": {},
   "outputs": [
    {
     "name": "stdout",
     "output_type": "stream",
     "text": [
      "{5, 6}\n",
      "{5, 6}\n",
      "{5, 6}\n"
     ]
    }
   ],
   "source": [
    "d4_3 = c - a - b\n",
    "print(d4_3)\n",
    "print(c - (b | a))\n",
    "print(c - (a | b))"
   ]
  },
  {
   "cell_type": "markdown",
   "metadata": {},
   "source": [
    "$$ (a \\cup c) \\cap b =  b \\cap (c \\cup a) = (c \\cup a) \\cap b =  b \\cap (a \\cup c)$$"
   ]
  },
  {
   "cell_type": "code",
   "execution_count": 11,
   "metadata": {},
   "outputs": [
    {
     "name": "stdout",
     "output_type": "stream",
     "text": [
      "c {0, 2, 4, 5, 6}\n",
      "a {0, 1, 2, 8, 9}\n",
      "b {8, 2, 3, 4}\n",
      "result {8, 2, 4}\n"
     ]
    }
   ],
   "source": [
    "d5_1 = (c | a) & b\n",
    "print(\"c\", c)\n",
    "print(\"a\", a)\n",
    "print(\"b\", b)\n",
    "print(\"result\", d5_1)"
   ]
  },
  {
   "cell_type": "markdown",
   "metadata": {},
   "source": [
    "$$ (a \\cup b) \\cap c =  c \\cap (b \\cup a) = (b \\cup a) \\cap c =  c \\cap (a \\cup b)$$"
   ]
  },
  {
   "cell_type": "code",
   "execution_count": 12,
   "metadata": {},
   "outputs": [
    {
     "name": "stdout",
     "output_type": "stream",
     "text": [
      "b {8, 2, 3, 4}\n",
      "a {0, 1, 2, 8, 9}\n",
      "c {0, 2, 4, 5, 6}\n",
      "result {0, 2, 4}\n"
     ]
    }
   ],
   "source": [
    "d5_2 = (b | a) & c\n",
    "print(\"b\", b)\n",
    "print(\"a\", a)\n",
    "print(\"c\", c)\n",
    "print(\"result\", d5_2)"
   ]
  },
  {
   "cell_type": "markdown",
   "metadata": {},
   "source": [
    "$$ (c \\cup b) \\cap a =  a \\cap (b \\cup c) = (b \\cup c) \\cap a =  a \\cap (c \\cup b)$$"
   ]
  },
  {
   "cell_type": "code",
   "execution_count": 13,
   "metadata": {},
   "outputs": [
    {
     "name": "stdout",
     "output_type": "stream",
     "text": [
      "result {0, 8, 2}\n"
     ]
    }
   ],
   "source": [
    "d5_3 = (b | c) & a\n",
    "print(\"result\", d5_3)"
   ]
  },
  {
   "cell_type": "markdown",
   "metadata": {},
   "source": [
    "$$ (a \\triangle c) \\cap b =  b \\cap (c \\triangle a) = (c \\triangle a) \\cap b =  b \\cap (a \\triangle c)$$"
   ]
  },
  {
   "cell_type": "code",
   "execution_count": 14,
   "metadata": {},
   "outputs": [
    {
     "name": "stdout",
     "output_type": "stream",
     "text": [
      "c {0, 2, 4, 5, 6}\n",
      "a {0, 1, 2, 8, 9}\n",
      "b {8, 2, 3, 4}\n",
      "result {8, 4}\n"
     ]
    }
   ],
   "source": [
    "d6_1 = (c ^ a) & b\n",
    "print(\"c\", c)\n",
    "print(\"a\", a)\n",
    "print(\"b\", b)\n",
    "print(\"result\", d6_1)"
   ]
  },
  {
   "cell_type": "markdown",
   "metadata": {},
   "source": [
    "$$ (a \\triangle b) \\cap c =  c \\cap (b \\triangle a) = (b \\triangle a) \\cap c =  c \\cap (a \\triangle b)$$"
   ]
  },
  {
   "cell_type": "code",
   "execution_count": 15,
   "metadata": {},
   "outputs": [
    {
     "name": "stdout",
     "output_type": "stream",
     "text": [
      "b {8, 2, 3, 4}\n",
      "a {0, 1, 2, 8, 9}\n",
      "c {0, 2, 4, 5, 6}\n",
      "result {0, 4}\n"
     ]
    }
   ],
   "source": [
    "d6_2 = (b ^ a) & c\n",
    "print(\"b\", b)\n",
    "print(\"a\", a)\n",
    "print(\"c\", c)\n",
    "print(\"result\", d6_2)"
   ]
  },
  {
   "cell_type": "markdown",
   "metadata": {},
   "source": [
    "$$ (c \\triangle b) \\cap a =  a \\cap (b \\triangle c) = (b \\triangle c) \\cap a =  a \\cap (c \\triangle b)$$"
   ]
  },
  {
   "cell_type": "code",
   "execution_count": 16,
   "metadata": {},
   "outputs": [
    {
     "name": "stdout",
     "output_type": "stream",
     "text": [
      "c {0, 2, 4, 5, 6}\n",
      "b {8, 2, 3, 4}\n",
      "a {0, 1, 2, 8, 9}\n",
      "result {0, 8}\n"
     ]
    }
   ],
   "source": [
    "d6_3 = (c ^ b) & a\n",
    "print(\"c\", c)\n",
    "print(\"b\", b)\n",
    "print(\"a\", a)\n",
    "print(\"result\", d6_3)"
   ]
  },
  {
   "cell_type": "markdown",
   "metadata": {},
   "source": [
    "$$ c \\cap a / b = (a / b) \\cap c = c \\cap (a/b) = a \\cap c /b = a \\cap (c/b) = (c/b) \\cap a  $$"
   ]
  },
  {
   "cell_type": "code",
   "execution_count": 17,
   "metadata": {},
   "outputs": [
    {
     "name": "stdout",
     "output_type": "stream",
     "text": [
      "{0}\n",
      "b {8, 2, 3, 4}\n",
      "c {0, 2, 4, 5, 6}\n",
      "result {0}\n"
     ]
    }
   ],
   "source": [
    "d7_1 = (a - b) & c\n",
    "print(a & (c - b))\n",
    "print(\"b\", b)\n",
    "print(\"c\", c)\n",
    "print(\"result\", d7_1)"
   ]
  },
  {
   "cell_type": "markdown",
   "metadata": {},
   "source": [
    "$$ a / b \\cap c =  a / c \\cap b  $$"
   ]
  },
  {
   "cell_type": "code",
   "execution_count": 18,
   "metadata": {},
   "outputs": [
    {
     "name": "stdout",
     "output_type": "stream",
     "text": [
      "a {0, 1, 2, 8, 9}\n",
      "b {8, 2, 3, 4}\n",
      "c {0, 2, 4, 5, 6}\n",
      "result {0, 1, 8, 9}\n"
     ]
    }
   ],
   "source": [
    "d7_2 = a - (b & c)\n",
    "print(\"a\", a)\n",
    "print(\"b\", b)\n",
    "print(\"c\", c)\n",
    "print(\"result\", d7_2)"
   ]
  },
  {
   "cell_type": "markdown",
   "metadata": {},
   "source": [
    "$$ c \\cap b / a = b \\cap c / a  = b \\cap (c / a) =(c / a) \\cap b = (b / a) \\cap c = c \\cap (b/a) $$"
   ]
  },
  {
   "cell_type": "code",
   "execution_count": 19,
   "metadata": {},
   "outputs": [
    {
     "name": "stdout",
     "output_type": "stream",
     "text": [
      "result {4}\n"
     ]
    }
   ],
   "source": [
    "d7_3 = b & (c - a)\n",
    "print(\"result\", d7_3)"
   ]
  },
  {
   "cell_type": "markdown",
   "metadata": {},
   "source": [
    "$$ a \\cap (b/c) = (b/c) \\cap a = a \\cap b / c = b \\cap a / c =  b \\cap (a / c) = (a / c) \\cap b $$"
   ]
  },
  {
   "cell_type": "code",
   "execution_count": 20,
   "metadata": {},
   "outputs": [
    {
     "name": "stdout",
     "output_type": "stream",
     "text": [
      "a {0, 1, 2, 8, 9}\n",
      "b {8, 2, 3, 4}\n",
      "c {0, 2, 4, 5, 6}\n",
      "result {8}\n"
     ]
    }
   ],
   "source": [
    "d7_4 = b & a - c\n",
    "print(\"a\", a)\n",
    "print(\"b\", b)\n",
    "print(\"c\", c)\n",
    "print(\"result\", d7_4)"
   ]
  },
  {
   "cell_type": "markdown",
   "metadata": {},
   "source": [
    "$$ c / a \\cap b = c / b \\cap a  $$"
   ]
  },
  {
   "cell_type": "code",
   "execution_count": 21,
   "metadata": {},
   "outputs": [
    {
     "name": "stdout",
     "output_type": "stream",
     "text": [
      "a {0, 1, 2, 8, 9}\n",
      "b {8, 2, 3, 4}\n",
      "c {0, 2, 4, 5, 6}\n",
      "result {0, 4, 5, 6}\n"
     ]
    }
   ],
   "source": [
    "d7_5 = c - (a & b)\n",
    "print(\"a\", a)\n",
    "print(\"b\", b)\n",
    "print(\"c\", c)\n",
    "print(\"result\", d7_5)"
   ]
  },
  {
   "cell_type": "markdown",
   "metadata": {},
   "source": [
    "$$  b / a \\cap c = b / c \\cap a  $$"
   ]
  },
  {
   "cell_type": "code",
   "execution_count": 22,
   "metadata": {},
   "outputs": [
    {
     "name": "stdout",
     "output_type": "stream",
     "text": [
      "a {0, 1, 2, 8, 9}\n",
      "b {8, 2, 3, 4}\n",
      "c {0, 2, 4, 5, 6}\n",
      "result {8, 3, 4}\n"
     ]
    }
   ],
   "source": [
    "d7_6 = b - (c & a)\n",
    "print(\"a\", a)\n",
    "print(\"b\", b)\n",
    "print(\"c\", c)\n",
    "print(\"result\", d7_6)"
   ]
  },
  {
   "cell_type": "markdown",
   "metadata": {},
   "source": [
    "$$ a \\triangle b \\cup c =  c \\cup (b \\triangle a) = b \\triangle a \\cup c =  c \\cup (a \\triangle b)$$"
   ]
  },
  {
   "cell_type": "code",
   "execution_count": 23,
   "metadata": {},
   "outputs": [
    {
     "name": "stdout",
     "output_type": "stream",
     "text": [
      "{0, 1, 2, 3, 4, 5, 6, 9}\n",
      "{0, 1, 2, 3, 4, 5, 6, 9}\n",
      "{0, 1, 2, 3, 4, 5, 6, 9}\n",
      "{0, 1, 2, 3, 4, 5, 6, 9}\n"
     ]
    }
   ],
   "source": [
    "d8_1 = a ^ b | c\n",
    "print(c | (a ^ b))\n",
    "print(c | (b ^ a))\n",
    "print(b ^ a | c)\n",
    "print(d8_1)"
   ]
  },
  {
   "cell_type": "markdown",
   "metadata": {},
   "source": [
    "$$ b \\triangle c \\cup a =  a \\cup (b \\triangle c) = c \\triangle b \\cup a =  a \\cup (c \\triangle b)$$"
   ]
  },
  {
   "cell_type": "code",
   "execution_count": 24,
   "metadata": {},
   "outputs": [
    {
     "name": "stdout",
     "output_type": "stream",
     "text": [
      "{0, 1, 2, 3, 5, 6, 8, 9}\n",
      "{0, 1, 2, 3, 5, 6, 8, 9}\n",
      "{0, 1, 2, 3, 5, 6, 8, 9}\n",
      "{0, 1, 2, 3, 5, 6, 8, 9}\n"
     ]
    }
   ],
   "source": [
    "d8_2 = b ^ c | a\n",
    "print(a | (c ^ b))\n",
    "print(a | (b ^ c))\n",
    "print(c ^ b | a)\n",
    "print(d8_2)"
   ]
  },
  {
   "cell_type": "markdown",
   "metadata": {},
   "source": [
    "$$ a \\triangle c \\cup b =  b \\cup (a \\triangle c) = c \\triangle a \\cup b =  b \\cup (c \\triangle a)$$"
   ]
  },
  {
   "cell_type": "code",
   "execution_count": 25,
   "metadata": {},
   "outputs": [
    {
     "name": "stdout",
     "output_type": "stream",
     "text": [
      "{1, 2, 3, 4, 5, 6, 8, 9}\n",
      "{1, 2, 3, 4, 5, 6, 8, 9}\n",
      "{1, 2, 3, 4, 5, 6, 8, 9}\n",
      "{1, 2, 3, 4, 5, 6, 8, 9}\n"
     ]
    }
   ],
   "source": [
    "d8_3 = a ^ c | b\n",
    "print(b | (c ^ a))\n",
    "print(b | (a ^ c))\n",
    "print(c ^ a | b)\n",
    "print(d8_3)"
   ]
  },
  {
   "cell_type": "markdown",
   "metadata": {},
   "source": [
    "$$ a \\triangle (c/b) = c/b \\triangle  a$$"
   ]
  },
  {
   "cell_type": "markdown",
   "metadata": {},
   "source": [
    "$$ a \\triangle (b/c) = b/c \\triangle  a$$"
   ]
  },
  {
   "cell_type": "markdown",
   "metadata": {},
   "source": [
    "$$ c \\triangle (a/b) = a/b \\triangle c $$"
   ]
  },
  {
   "cell_type": "markdown",
   "metadata": {},
   "source": [
    "$$ c \\triangle (b/a) = b/a \\triangle c $$"
   ]
  },
  {
   "cell_type": "markdown",
   "metadata": {},
   "source": [
    "$$ b \\triangle (a/c) = a/c \\triangle  b$$"
   ]
  },
  {
   "cell_type": "markdown",
   "metadata": {},
   "source": [
    "$$ b \\triangle (c/a) = c/a \\triangle  b$$"
   ]
  },
  {
   "cell_type": "code",
   "execution_count": 26,
   "metadata": {},
   "outputs": [
    {
     "name": "stdout",
     "output_type": "stream",
     "text": [
      "{1, 2, 5, 6, 8, 9}\n",
      "{1, 2, 5, 6, 8, 9}\n",
      "{0, 1, 2, 3, 9}\n",
      "{0, 1, 2, 3, 9}\n",
      "{1, 2, 4, 5, 6, 9}\n",
      "{1, 2, 4, 5, 6, 9}\n",
      "{0, 2, 3, 5, 6}\n",
      "{0, 2, 3, 5, 6}\n",
      "{1, 2, 3, 4, 9}\n",
      "{1, 2, 3, 4, 9}\n"
     ]
    }
   ],
   "source": [
    "d9_1 = a ^ (b - c)\n",
    "print(a ^ (c - b))\n",
    "print(c - b ^ a)\n",
    "\n",
    "print(b - c ^ a)\n",
    "print(d9_1)\n",
    "\n",
    "print((a - b) ^ c)\n",
    "print(c ^ (a - b))\n",
    "\n",
    "print(c ^ (b - a))\n",
    "print((b - a) ^ c)\n",
    "\n",
    "print(b ^ (a - c))\n",
    "print((a - c) ^ b)"
   ]
  },
  {
   "cell_type": "markdown",
   "metadata": {},
   "source": [
    "$$ b/ (c \\triangle a) =  b / (a \\triangle c) $$"
   ]
  },
  {
   "cell_type": "markdown",
   "metadata": {},
   "source": [
    "$$ a/ (c \\triangle b) =  a / (b \\triangle c) $$"
   ]
  },
  {
   "cell_type": "markdown",
   "metadata": {},
   "source": [
    "$$ c/ (b \\triangle a) =  c / (a \\triangle b) $$"
   ]
  },
  {
   "cell_type": "markdown",
   "metadata": {},
   "source": [
    "$$ c \\triangle  a/b = a \\triangle  c/b $$"
   ]
  },
  {
   "cell_type": "markdown",
   "metadata": {},
   "source": [
    "$$ c \\triangle  b/a = b\\triangle  c/a $$"
   ]
  },
  {
   "cell_type": "markdown",
   "metadata": {},
   "source": [
    "$$ b \\triangle  a/c = a \\triangle  b/c $$"
   ]
  },
  {
   "cell_type": "code",
   "execution_count": 27,
   "metadata": {},
   "outputs": [
    {
     "name": "stdout",
     "output_type": "stream",
     "text": [
      "{2, 3}\n",
      "{2, 3}\n",
      "{1, 2, 9}\n",
      "{1, 2, 9}\n",
      "{2, 5, 6}\n",
      "{2, 5, 6}\n",
      "{1, 5, 6, 9}\n",
      "{1, 5, 6, 9}\n",
      "{3, 5, 6}\n",
      "{3, 5, 6}\n",
      "{1, 3, 9}\n",
      "{1, 3, 9}\n"
     ]
    }
   ],
   "source": [
    "print(b - (c ^ a))\n",
    "print(b - (a ^ c))\n",
    "print(a - (c ^ b))\n",
    "print(a - (b ^ c))\n",
    "print(c - (b ^ a))\n",
    "print(c - (a ^ b))\n",
    "print((a ^ c) - b)\n",
    "print((c ^ a) - b)\n",
    "print((b ^ c) - a)\n",
    "print((c ^ b) - a)\n",
    "print((a ^ b) - c)\n",
    "print((b ^ a) - c)"
   ]
  },
  {
   "cell_type": "markdown",
   "metadata": {},
   "source": [
    "$$ a \\cup c/b = c \\cup a /b $$"
   ]
  },
  {
   "cell_type": "markdown",
   "metadata": {},
   "source": [
    "$$ a \\cup b/c = b \\cup a /c $$"
   ]
  },
  {
   "cell_type": "markdown",
   "metadata": {},
   "source": [
    "$$ b \\cup c/a = c \\cup b /a $$"
   ]
  },
  {
   "cell_type": "code",
   "execution_count": 28,
   "metadata": {},
   "outputs": [
    {
     "name": "stdout",
     "output_type": "stream",
     "text": [
      "{0, 1, 5, 6, 9}\n",
      "{0, 1, 5, 6, 9}\n",
      "{3, 4, 5, 6}\n",
      "{3, 4, 5, 6}\n",
      "{8, 1, 3, 9}\n",
      "{8, 1, 3, 9}\n"
     ]
    }
   ],
   "source": [
    "print((a | c) - b)\n",
    "print((c | a) - b)\n",
    "print((b | c) - a)\n",
    "print((c | b) - a)\n",
    "print((a | b) - c)\n",
    "print((b | a) - c)"
   ]
  },
  {
   "cell_type": "markdown",
   "metadata": {},
   "source": [
    "Тема 3 “Последовательность”\n",
    "Задание 1) Даны 4 последовательности."
   ]
  },
  {
   "cell_type": "markdown",
   "metadata": {},
   "source": [
    "$$ \\{a_n\\}^\\infty_{n=1} = 2^n - n$$"
   ]
  },
  {
   "cell_type": "markdown",
   "metadata": {},
   "source": [
    "$$ \\{b_n\\}^\\infty_{n=2} = \\frac{1}{1-n}$$"
   ]
  },
  {
   "cell_type": "markdown",
   "metadata": {},
   "source": [
    "$$ \\{c_n\\}^\\infty_{n=1} = -1^n + \\sqrt{2n} $$"
   ]
  },
  {
   "cell_type": "markdown",
   "metadata": {},
   "source": [
    "$$ \\{d_n\\}^\\infty_{n=1} = (-1)^{2n} + \\frac{1}{n^2}$$"
   ]
  },
  {
   "cell_type": "markdown",
   "metadata": {},
   "source": [
    "a) исследовать их на монотонность; b) исследовать на ограниченность; c) найти пятый по счету член."
   ]
  },
  {
   "cell_type": "code",
   "execution_count": 29,
   "metadata": {},
   "outputs": [],
   "source": [
    "import matplotlib.pyplot as plt\n",
    "import numpy as np"
   ]
  },
  {
   "cell_type": "code",
   "execution_count": 30,
   "metadata": {},
   "outputs": [
    {
     "data": {
      "text/plain": [
       "<function matplotlib.pyplot.show>"
      ]
     },
     "execution_count": 30,
     "metadata": {},
     "output_type": "execute_result"
    },
    {
     "data": {
      "image/png": "[encoded data removed]",
      "text/plain": [
       "<Figure size 432x288 with 1 Axes>"
      ]
     },
     "metadata": {
      "needs_background": "light"
     },
     "output_type": "display_data"
    }
   ],
   "source": [
    "n = np.arange(30)\n",
    "plt.plot(n, (2**n - n))\n",
    "plt.yscale(value='log')\n",
    "plt.title('Пятый член последовательности = 27')\n",
    "plt.scatter(5, (2**5 - 5), label = \"n=5\", color='red')\n",
    "plt.xlabel('n')\n",
    "plt.ylabel('Последовательность a')\n",
    "plt.legend(loc='lower right')\n",
    "plt.xlim([0,30])\n",
    "plt.show"
   ]
  },
  {
   "cell_type": "code",
   "execution_count": 31,
   "metadata": {},
   "outputs": [
    {
     "data": {
      "text/plain": [
       "<function matplotlib.pyplot.show>"
      ]
     },
     "execution_count": 31,
     "metadata": {},
     "output_type": "execute_result"
    },
    {
     "data": {
      "image/png": "[encoded data removed]",
      "text/plain": [
       "<Figure size 432x288 with 1 Axes>"
      ]
     },
     "metadata": {
      "needs_background": "light"
     },
     "output_type": "display_data"
    }
   ],
   "source": [
    "n = np.arange(2,100)\n",
    "plt.plot(n, (1/(1 - n)))\n",
    "plt.scatter(2, 1/(1-2))\n",
    "plt.title('Пятый член последовательности = -0.2')\n",
    "plt.scatter(6, (1/(1 - 6)), label = \"n=6\", color='red')\n",
    "plt.xlabel('n')\n",
    "plt.ylabel('Последовательность b')\n",
    "plt.legend(loc='lower right')\n",
    "plt.show"
   ]
  },
  {
   "cell_type": "code",
   "execution_count": 32,
   "metadata": {},
   "outputs": [
    {
     "data": {
      "text/plain": [
       "<function matplotlib.pyplot.show>"
      ]
     },
     "execution_count": 32,
     "metadata": {},
     "output_type": "execute_result"
    },
    {
     "data": {
      "image/png": "[encoded data removed]",
      "text/plain": [
       "<Figure size 432x288 with 1 Axes>"
      ]
     },
     "metadata": {
      "needs_background": "light"
     },
     "output_type": "display_data"
    }
   ],
   "source": [
    "n = np.arange(1,100)\n",
    "plt.plot(n, ((-1)**n + np.sqrt(2*n)))\n",
    "plt.title('Пятый член последовательности = 2.1622776601683795')\n",
    "plt.scatter(5, (-1)**5 + np.sqrt(2*5), label = \"n=5\", color='red')\n",
    "plt.xlabel('n')\n",
    "plt.ylabel('Последовательность c')\n",
    "plt.legend(loc='lower right')\n",
    "plt.xlim([0,100])\n",
    "plt.show"
   ]
  },
  {
   "cell_type": "code",
   "execution_count": 33,
   "metadata": {},
   "outputs": [
    {
     "data": {
      "text/plain": [
       "<function matplotlib.pyplot.show>"
      ]
     },
     "execution_count": 33,
     "metadata": {},
     "output_type": "execute_result"
    },
    {
     "data": {
      "image/png": "[encoded data removed]",
      "text/plain": [
       "<Figure size 432x288 with 1 Axes>"
      ]
     },
     "metadata": {
      "needs_background": "light"
     },
     "output_type": "display_data"
    }
   ],
   "source": [
    "n = np.arange(1, 20)\n",
    "plt.plot(n, (((-1)**(2*n)) + (1/(n**2))))\n",
    "plt.title('Пятый член последовательности = 1.04')\n",
    "plt.scatter(5, ((-1)**(2*5)) + (1/(5**2)), label = \"n=5, \", color='red')\n",
    "plt.xlabel('n')\n",
    "plt.ylabel('Последовательность d')\n",
    "plt.legend(loc='upper right')\n",
    "plt.xlim([0,20])\n",
    "plt.show"
   ]
  },
  {
   "cell_type": "markdown",
   "metadata": {},
   "source": [
    "Последовательность а возрастает\n",
    "$$\\lim_{n\\to \\infty}^{n=1} (2^n - n) = \\infty$$"
   ]
  },
  {
   "cell_type": "markdown",
   "metadata": {},
   "source": [
    "Последовательность b возрастает\n",
    "$$\\lim_{n\\to \\infty}^{n=2} ((1/(1 - n))) = 0 $$"
   ]
  },
  {
   "cell_type": "markdown",
   "metadata": {},
   "source": [
    "Последовательность \"c\" состоит из двух подпоследовательностей: из элементов с нечётными индексами, и элементов с чётными индексами. Обе подпоследовательности возрастают. У общей последовательности и у обеих подпоследовательностей одинаковый предел:\n",
    "$$\\lim_{n\\to \\infty}^{n=1} (-1^n + \\sqrt{2n}) = \\infty $$"
   ]
  },
  {
   "cell_type": "markdown",
   "metadata": {},
   "source": [
    "Последовательность d убывает\n",
    "$$ \\lim_{n\\to \\infty}^{n=1} ((-1)^{2n} + \\frac{1}{n^2}) = 1$$"
   ]
  },
  {
   "cell_type": "markdown",
   "metadata": {},
   "source": [
    "Задание 2. Найти 12-й член заданной неявно последовательности\n"
   ]
  },
  {
   "cell_type": "markdown",
   "metadata": {},
   "source": [
    "$$ a_1 = 128, a_{n+1} - a_n = 6$$"
   ]
  },
  {
   "cell_type": "markdown",
   "metadata": {},
   "source": [
    "$$ \\{a_n\\}^\\infty_{n=1} = 128+6*(n - 1)$$"
   ]
  },
  {
   "cell_type": "code",
   "execution_count": 34,
   "metadata": {},
   "outputs": [
    {
     "name": "stdout",
     "output_type": "stream",
     "text": [
      "12-й член последовательности a_n =  194\n"
     ]
    }
   ],
   "source": [
    "na = 12\n",
    "a_12 = 128 + 6 *(na-1)\n",
    "print(\"12-й член последовательности a_n = \", a_12)"
   ]
  },
  {
   "cell_type": "code",
   "execution_count": null,
   "metadata": {},
   "outputs": [],
   "source": []
  }
 ],
 "metadata": {
  "kernelspec": {
   "display_name": "Python 3",
   "language": "python",
   "name": "python3"
  },
  "language_info": {
   "codemirror_mode": {
    "name": "ipython",
    "version": 3
   },
   "file_extension": ".py",
   "mimetype": "text/x-python",
   "name": "python",
   "nbconvert_exporter": "python",
   "pygments_lexer": "ipython3",
   "version": "3.7.2"
  }
 },
 "nbformat": 4,
 "nbformat_minor": 2
}
