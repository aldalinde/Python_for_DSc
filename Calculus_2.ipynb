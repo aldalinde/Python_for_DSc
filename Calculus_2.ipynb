{
 "cells": [
  {
   "cell_type": "markdown",
   "metadata": {},
   "source": [
    "Тема “Введение в математических анализ”\n",
    "\n",
    "Задание 1. Как относятся друг к другу множество и последовательность? (в ответе использовать слова типа: часть, целое, общее, частное, родитель, дочерний субъект и т.д.)\n",
    "\n",
    "\n",
    "Множество - общее по отношению к последовательности. Особенность последовательностей по отношению к другим множествам - они упорядочены. Каждому элементу соответствует натуральное число - \"индекс\"."
   ]
  },
  {
   "cell_type": "markdown",
   "metadata": {},
   "source": [
    "Задание 2. Прочитать высказывания математической логики, построить их отрицания и установить истинность.\n"
   ]
  },
  {
   "cell_type": "markdown",
   "metadata": {},
   "source": [
    "1) Высказывание:\n",
    "$$\\forall y \\in [0;1] : sgn(y) = 1$$\n",
    "для любого у, принадлежащего отрезку от 0 до 1, функция-сигнум равна 1 - ложное высказывание\n",
    "\n",
    "Отрицание высказывания:\n",
    "$$\\exists y \\in [0;1] : sgn(y) \\neq 1$$\n",
    "существует у, принадлежащий отрезку от 0 до 1, чья функция-сигнум не равна 1 - истинное высказывание"
   ]
  },
  {
   "cell_type": "markdown",
   "metadata": {},
   "source": [
    "2) Высказывание:\n",
    "$$\\forall n \\in \\mathbb N > 2 : \\exists x, y, z, \\in \\mathbb N : x^n = y^n + z^n$$\n",
    "При любом n, являющимся натуральным числом больше 2, существуют натуральные числа x, y, z для которых верно равенство: x квадрат равно сумме квадратов y и z - истинное высказывание\n",
    "\n",
    "Отрицание высказывания:\n",
    "$$\\exists n \\in \\mathbb N \\leq 2 : \\forall x, y, z, \\in \\mathbb N : x^n \\neq y^n + z^n$$\n",
    "Существует n натуральное число меньшее или равное двум, для которого неверно равенство: x квадрат равно сумме квадратов y и z, где x, y, z - любое натуральное число - истинное высказывание"
   ]
  },
  {
   "cell_type": "markdown",
   "metadata": {},
   "source": [
    "3) Высказывание:\n",
    "$$\\forall x \\in \\mathbb R \\exists X \\in \\mathbb R : X > x$$\n",
    "для любого рационального числа x существует рациональное число Х, которое больше х - истинное высказывание\n",
    "\n",
    "Отрицание высказывания:\n",
    "$$\\exists x \\in \\mathbb R \\forall X \\in \\mathbb R : X \\leq x$$\n",
    "существует рациональное число х, для которого верно соотношение: Х меньше или равно х, где Х - любое рациональное число - истинное высказывание "
   ]
  },
  {
   "cell_type": "markdown",
   "metadata": {},
   "source": []
  },
  {
   "cell_type": "markdown",
   "metadata": {},
   "source": []
  },
  {
   "cell_type": "markdown",
   "metadata": {},
   "source": []
  },
  {
   "cell_type": "markdown",
   "metadata": {},
   "source": [
    "Тема “Множество”\n",
    "\n",
    "Задание 1. Даны три множества a,b и с.\n",
    "\n",
    "Необходимо выполнить все изученные виды бинарных операций над всеми комбинациями множеств.\n"
   ]
  },
  {
   "cell_type": "code",
   "execution_count": 1,
   "metadata": {},
   "outputs": [],
   "source": [
    "a = {0, 1, 2, 9}\n",
    "b = {2, 3, 4, 8}\n",
    "c = {4, 5, 6, 2 ,0}"
   ]
  },
  {
   "cell_type": "markdown",
   "metadata": {},
   "source": [
    "$$ a \\cup b \\cup c = a \\cup c \\cup b = b \\cup a \\cup c = b \\cup c \\cup a = c \\cup b \\cup a = c \\cup a \\cup b$$"
   ]
  },
  {
   "cell_type": "code",
   "execution_count": 2,
   "metadata": {},
   "outputs": [
    {
     "name": "stdout",
     "output_type": "stream",
     "text": [
      "{0, 1, 2, 3, 4, 5, 6, 8, 9}\n"
     ]
    }
   ],
   "source": [
    "d1 = a | b | c\n",
    "print(d1)"
   ]
  },
  {
   "cell_type": "markdown",
   "metadata": {},
   "source": [
    "$$ a \\cap b \\cap c = a \\cap c \\cap b = b \\cap a \\cap c = b \\cap c \\cap a = c \\cap b \\cap a = c \\cap a \\cap b $$"
   ]
  },
  {
   "cell_type": "code",
   "execution_count": 3,
   "metadata": {},
   "outputs": [
    {
     "name": "stdout",
     "output_type": "stream",
     "text": [
      "{2} пустое множество\n"
     ]
    }
   ],
   "source": [
    "d2 = a & b & c\n",
    "print(d2, \"пустое множество\")"
   ]
  },
  {
   "cell_type": "markdown",
   "metadata": {},
   "source": [
    "$$ a \\triangle b \\triangle c = a \\triangle c \\triangle b = b \\triangle a \\triangle c = b \\triangle c \\triangle a = c \\triangle b \\triangle a = c \\triangle a \\triangle b  $$"
   ]
  },
  {
   "cell_type": "code",
   "execution_count": 4,
   "metadata": {},
   "outputs": [
    {
     "name": "stdout",
     "output_type": "stream",
     "text": [
      "{1, 2, 3, 5, 6, 8, 9}\n"
     ]
    }
   ],
   "source": [
    "d3 = a ^ b ^ c\n",
    "print(d3)"
   ]
  },
  {
   "cell_type": "markdown",
   "metadata": {},
   "source": [
    "$$ a / b / c = a / c / b $$"
   ]
  },
  {
   "cell_type": "code",
   "execution_count": 5,
   "metadata": {},
   "outputs": [
    {
     "name": "stdout",
     "output_type": "stream",
     "text": [
      "{1, 9}\n"
     ]
    }
   ],
   "source": [
    "d4_1 = a - b - c\n",
    "print(d4_1)"
   ]
  },
  {
   "cell_type": "markdown",
   "metadata": {},
   "source": [
    "$$ b / a / c = b / c / a $$"
   ]
  },
  {
   "cell_type": "code",
   "execution_count": 6,
   "metadata": {},
   "outputs": [
    {
     "name": "stdout",
     "output_type": "stream",
     "text": [
      "{8, 3}\n"
     ]
    }
   ],
   "source": [
    "d4_2 = b - a - c\n",
    "print(d4_2)"
   ]
  },
  {
   "cell_type": "markdown",
   "metadata": {},
   "source": [
    "$$ c / b / a = c / a / b $$"
   ]
  },
  {
   "cell_type": "code",
   "execution_count": 7,
   "metadata": {},
   "outputs": [
    {
     "name": "stdout",
     "output_type": "stream",
     "text": [
      "{5, 6}\n"
     ]
    }
   ],
   "source": [
    "d4_3 = c - a - b\n",
    "print(d4_3)"
   ]
  },
  {
   "cell_type": "markdown",
   "metadata": {},
   "source": [
    "$$ (a \\cup c) \\cap b =  b \\cap (c \\cup a) = (c \\cup a) \\cap b =  b \\cap (a \\cup c)$$"
   ]
  },
  {
   "cell_type": "code",
   "execution_count": 8,
   "metadata": {},
   "outputs": [
    {
     "name": "stdout",
     "output_type": "stream",
     "text": [
      "c {0, 2, 4, 5, 6}\n",
      "a {0, 1, 2, 9}\n",
      "b {8, 2, 3, 4}\n",
      "result {2, 4}\n"
     ]
    }
   ],
   "source": [
    "d5_1 = (c | a) & b\n",
    "print(\"c\", c)\n",
    "print(\"a\", a)\n",
    "print(\"b\", b)\n",
    "print(\"result\", d5_1)"
   ]
  },
  {
   "cell_type": "markdown",
   "metadata": {},
   "source": [
    "$$ (a \\cup b) \\cap c =  c \\cap (b \\cup a) = (b \\cup a) \\cap c =  c \\cap (a \\cup b)$$"
   ]
  },
  {
   "cell_type": "code",
   "execution_count": 9,
   "metadata": {},
   "outputs": [
    {
     "name": "stdout",
     "output_type": "stream",
     "text": [
      "b {8, 2, 3, 4}\n",
      "a {0, 1, 2, 9}\n",
      "c {0, 2, 4, 5, 6}\n",
      "result {0, 2, 4}\n"
     ]
    }
   ],
   "source": [
    "d5_2 = (b | a) & c\n",
    "print(\"b\", b)\n",
    "print(\"a\", a)\n",
    "print(\"c\", c)\n",
    "print(\"result\", d5_2)"
   ]
  },
  {
   "cell_type": "markdown",
   "metadata": {},
   "source": [
    "$$ (c \\cup b) \\cap a =  a \\cap (b \\cup c) = (b \\cup c) \\cap a =  a \\cap (c \\cup b)$$"
   ]
  },
  {
   "cell_type": "code",
   "execution_count": 10,
   "metadata": {},
   "outputs": [
    {
     "name": "stdout",
     "output_type": "stream",
     "text": [
      "result {0, 2}\n"
     ]
    }
   ],
   "source": [
    "d5_3 = (b | c) & a\n",
    "print(\"result\", d5_3)"
   ]
  },
  {
   "cell_type": "markdown",
   "metadata": {},
   "source": [
    "$$ (a \\triangle c) \\cap b =  b \\cap (c \\triangle a) = (c \\triangle a) \\cap b =  b \\cap (a \\triangle c)$$"
   ]
  },
  {
   "cell_type": "code",
   "execution_count": 11,
   "metadata": {},
   "outputs": [
    {
     "name": "stdout",
     "output_type": "stream",
     "text": [
      "c {0, 2, 4, 5, 6}\n",
      "a {0, 1, 2, 9}\n",
      "b {8, 2, 3, 4}\n",
      "result {4}\n"
     ]
    }
   ],
   "source": [
    "d6_1 = (c ^ a) & b\n",
    "print(\"c\", c)\n",
    "print(\"a\", a)\n",
    "print(\"b\", b)\n",
    "print(\"result\", d6_1)"
   ]
  },
  {
   "cell_type": "markdown",
   "metadata": {},
   "source": [
    "$$ (a \\triangle b) \\cap c =  c \\cap (b \\triangle a) = (b \\triangle a) \\cap c =  c \\cap (a \\triangle b)$$"
   ]
  },
  {
   "cell_type": "code",
   "execution_count": 12,
   "metadata": {},
   "outputs": [
    {
     "name": "stdout",
     "output_type": "stream",
     "text": [
      "b {8, 2, 3, 4}\n",
      "a {0, 1, 2, 9}\n",
      "c {0, 2, 4, 5, 6}\n",
      "result {0, 4}\n"
     ]
    }
   ],
   "source": [
    "d6_2 = (b ^ a) & c\n",
    "print(\"b\", b)\n",
    "print(\"a\", a)\n",
    "print(\"c\", c)\n",
    "print(\"result\", d6_2)"
   ]
  },
  {
   "cell_type": "markdown",
   "metadata": {},
   "source": [
    "$$ (c \\triangle b) \\cap a =  a \\cap (b \\triangle c) = (b \\triangle c) \\cap a =  a \\cap (c \\triangle b)$$"
   ]
  },
  {
   "cell_type": "code",
   "execution_count": 13,
   "metadata": {},
   "outputs": [
    {
     "name": "stdout",
     "output_type": "stream",
     "text": [
      "c {0, 2, 4, 5, 6}\n",
      "b {8, 2, 3, 4}\n",
      "a {0, 1, 2, 9}\n",
      "result {0}\n"
     ]
    }
   ],
   "source": [
    "d6_3 = (c ^ b) & a\n",
    "print(\"c\", c)\n",
    "print(\"b\", b)\n",
    "print(\"a\", a)\n",
    "print(\"result\", d6_3)"
   ]
  },
  {
   "cell_type": "code",
   "execution_count": null,
   "metadata": {},
   "outputs": [],
   "source": []
  }
 ],
 "metadata": {
  "kernelspec": {
   "display_name": "Python 3",
   "language": "python",
   "name": "python3"
  },
  "language_info": {
   "codemirror_mode": {
    "name": "ipython",
    "version": 3
   },
   "file_extension": ".py",
   "mimetype": "text/x-python",
   "name": "python",
   "nbconvert_exporter": "python",
   "pygments_lexer": "ipython3",
   "version": "3.7.2"
  }
 },
 "nbformat": 4,
 "nbformat_minor": 2
}
